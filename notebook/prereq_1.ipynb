{
 "cells": [
  {
   "cell_type": "markdown",
   "metadata": {},
   "source": [
    "## <span style=\"color:gold\">Algoritmi di Crittografia (2023/24)</span> \n",
    "## Notebook 2"
   ]
  },
  {
   "cell_type": "code",
   "execution_count": null,
   "metadata": {},
   "outputs": [],
   "source": [
    "from IPython.display import HTML\n",
    "HTML('<style>{}</style>'.format(open('/home/mauro/.jupyter/custom/custom.css').read()))"
   ]
  },
  {
   "cell_type": "markdown",
   "metadata": {},
   "source": [
    "Latex definitions\n",
    "$\\DeclareMathOperator*{\\prob}{prob}$\n",
    "$\\DeclareMathOperator*{\\mod}{mod}$\n",
    "$\\DeclareMathOperator*{\\ln}{ln}$\n",
    "$\\def\\zn{\\mathbf{Z}_n}$\n",
    "$\\def\\zp{\\mathbf{Z}_p}$\n",
    "$\\def\\mcd{\\mathrm{MCD}}$"
   ]
  },
  {
   "cell_type": "markdown",
   "metadata": {},
   "source": [
    "### <span style=\"color:gold\">Il Santo Graal della crittografia asimmetrica</span>\n",
    "* La mera possibilità di \"pensare\" ad una <span style=\"color:gold\">crittografia asimmetrica</span> si regge sull'esistenza di funzioni che siano facili da calcolare ma <span style=\"color:gold\">difficili da invertire</span>, dette per questo funzioni a \"senso unico\" (<span style=\"color:gold\">one-way</span>)\n",
    "* <span style=\"color:gold\">Osservazione 1</span> Facile o difficile sono nozioni poco precise in generale. Nel contesto computazionale esse si traducono in principi effettivi mediante il criterio di <span style=\"color:gold\">efficienza polinomiale</span>\n",
    "* Secondo tale criterio un problema è facile se per esso esiste un <span style=\"color:gold\">algoritmo di costo polinomiale</span> (o semplicemente <span style=\"color:gold\">polinomiale</span>) nella dimensione dell'input, in un <span style=\"color:gold\">modello di calcolo appropriato</span>\n",
    "* Problemi per cui non esistono o non sono noti algoritmi polinomiali sono detti rispettivamente <span style=\"color:gold\">intrattabili</span> o <span style=\"color:gold\">presumibilmente intrattabili</span> "
   ]
  },
  {
   "cell_type": "markdown",
   "metadata": {},
   "source": [
    "#### <span style=\"color:cyan\">Problemi NP-completi</span>\n",
    "* Una classe di problemi presumibilmente intrattabili che riveste una straordinaria <span style=\"color:gold\">importanza teorica e pratica</span> è quella dei cosiddetti <span style=\"color:gold\">problemi NP-completi</span>\n",
    "* Per un problema NP-completo non è nota l'esistenza di algoritmi polinomiali e la congettura è che non esistano. Si tratta della cosiddetta questione aperta <span style=\"color:gold\">P vs NP</span>, che è probabilmente la più importante in Informatica e una delle più importanti della Matematica"
   ]
  },
  {
   "cell_type": "markdown",
   "metadata": {},
   "source": [
    "#### <span style=\"color:cyan\">Funzioni one-way</span>\n",
    "* L'esistenza di funzioni one-way <span style=\"color:gold\">implica P$\\neq$NP</span> ed è quindi improbabile che, in tempi brevi, si possa giungere all'individuazione di una funzione <span style=\"color:gold\">dimostrabilmente one-way</span>\n",
    "* <span style=\"color:gold\">Osservazione 2</span> Una funzione $f$ che fosse \"dimostrabilmente\" one-way sarebbe comunque difficile da invertire <span style=\"color:gold\">anche per il non malintanzionato</span>, in particolare proprio il destinatario legittimo del messaggio.\n",
    "* Un esempio famoso, di <span style=\"color:gold\">natura non matematica</span>, illustra bene la situazione\n",
    "* Alice e Bob vogliono scegliere una certa quantità di vernice di un colore segreto, noto solo a loro.\n",
    "* Non possono scambiarsi l'informazione pubblicamente, perché le loro conversazioni sono <span style=\"color:gold\">pubbliche</span> (o servegliate).\n",
    "* Alice ha un'idea, che spiega a Bob apertamente\n",
    "    * Bob, scegli un colore che vuoi ma non dire a nessuno, neppure a me, che cosa hai scelto\n",
    "    * Fatto? Ora mischia il colore che hai scelto <span style=\"color:gold\">in parti uguali con vernice gialla</span>. Se per caso avevi scelto proprio il giallo come colore segreto, allora ricominciamo tutto da capo\n",
    "    * No? Bene! Anche io ho scelto un colore segreto e l'ho mischiato al giallo. Ora io ti mando un litro della mia <span style=\"color:gold\">miscela</span> e tu mi mandi un litro della tua.\n",
    "    * Ricevuto? Ok. Ora mischia mezzo litro del  <span style=\"color:gold\">tuo colore segreto</span> con il litro della mia miscela. Io farò altrettanto con il <span style=\"color:gold\">mio colore segreto</span> e la tua miscela.\n",
    "    * Ecco, il prodotto finale (1 litro e mezzo di miscela ciascuno) sarà il nostro colore segreto"
   ]
  },
  {
   "cell_type": "markdown",
   "metadata": {},
   "source": [
    "* Eva \"vede\" (e supponiamo pure che possa \"campionare\") due miscele con metà quantità di giallo e naturalmente sa che il colore comune in entrambe è proprio il giallo.\n",
    "* Ogni combinazione delle due porterebbe ad una terza miscela con <span style=\"color:gold\">troppo giallo</span>.\n",
    "* L'unica \"soluzione\" (apparente) consiste nel riuscire a <span style=\"color:gold\">separare colori già mischiati!</span>\n",
    "* Come si capisce da questo esempio (trascurandone i particolari poco realistici), neanche Alice e Bob sarebbero in grado di \"invertire\" la funzione.\n",
    "* Loro però possono <span style=\"color:gold\">aggirare il problema</span> grazie alla disponibilità di informazione segreta"
   ]
  },
  {
   "cell_type": "markdown",
   "metadata": {},
   "source": [
    "#### <span style=\"color:cyan\">Funzioni trapdoor</span>\n",
    "* Prima di calare il prededente protocollo in un contesto matematico rigoroso, anticipiamo un secondo tipo di funzione, che risulta <span style=\"color:gold\">altrettanto appetibile</span> in contesti crittografici.\n",
    "* Si tratta delle cosiddette funzioni <span style=\"color:gold\">trapdoor</span>. \n",
    "* Queste sono funziono facili da calcolare e facile anche da invertire qualora si disponga di una qualche <span style=\"color:gold\">informazione aggiuntiva</span>\n",
    "* In mancanza di tale informazione, la funzione è invece computazionalmente difficile da invertire.\n",
    "* L'esistenza sia di funzioni one-way che di funzioni trapdoor <span style=\"color:gold\">non è dimostrata</span>. \n",
    "Esistono candidati ed un <span style=\"color:gold\">ragionevole livello di confidenza</span> che si tratti di funzioni con le caratteristiche desiderate, tanto è vero che su alcune di esse poggiano i protocolli asimmetrici moderni, ma un risultato teorico a supporto non lo abbiamo."
   ]
  },
  {
   "cell_type": "markdown",
   "metadata": {},
   "source": [
    "## <span style=\"color:gold\">Aritmetica modulare</span> \n",
    "* Allo scopo di introdurre il primo candidato di funzione one-way, e quindi il protocollo matematico corrispondente allo scambio di vernice colorata, è necessario aprire un'ampia parentesi sull'<span style=\"color:gold\">aritmetica modulare</span>\n",
    "* In realtà l'aritmetica modulare soggiace <span style=\"color:gold\">a tutti i protocolli</span> che vedremo nel resto del corso e dunque una sua conoscenza non marginale è necessaria per la comprensione di detti protocolli."
   ]
  },
  {
   "cell_type": "markdown",
   "metadata": {},
   "source": [
    "### <span style=\"color:cyan\">Insiemi $\\mathbf{Z}_n$</span>\n",
    "* <span style=\"color:gold\">Aritmetica modulare</span> è il termine che viene utilzzato per indicare un settore della Matematica che si occupa dello studio di particolari <span style=\"color:gold\">insiemi numerici</span> e delle <span style=\"color:gold\">operazioni</span> definite in essi.\n",
    "* Gli insiemi oggetto di studio sono <span style=\"color:gold\">sottoinsiemi finiti dei numeri interi</span>, ciascuno definito tramite un <span style=\"color:gold\">intero positivo $n$</span>, detto <span style=\"color:gold\">modulo</span>; è dunque naturale che essi vengano denotati con la scrittura <span style=\"color:gold\">$\\zn$</span>.\n",
    "<center>\n",
    "    $\\zn = \\{0,1,\\ldots,n-1\\}$ \n",
    "</center>\n",
    "* In Informatica troviamo alcune <span style=\"color:gold\">fra le più importanti applicazioni dell'aritmetica modulare</span>: oltre alla crittografia, la generazione di numeri pseudo-causali, le funzioni hash, i codici correttori di errore, implementazione di strutture dati, ....\n",
    "* $\\zn$ può essere opportunamente visto come l'<span style=\"color:gold\">insieme dei possibili resti</span> quando si divide un numero intero per $n$."
   ]
  },
  {
   "cell_type": "markdown",
   "metadata": {},
   "source": [
    "#### <span style=\"color:magenta\">Una precisazione \"tecnica\"</span>\n",
    "\n",
    "* Nella <span style=\"color:gold\">teoria dei gruppi</span>, $\\zn$ è definito come <span style=\"color:gold\">il gruppo quoziente $\\mathbf{Z}/n\\mathbf{Z}$</span>.\n",
    "* <span style=\"color:gold\">$n\\mathbf{Z}$</span> è il sottogruppo degli interi costituito dai <span style=\"color:gold\">multipli di $n$</span>, ovvero dai numeri che soddisfano la relazione di equivalenza $\\mathrm{R}$ così definita:\n",
    "<center>\n",
    "    $x\\mathrm{R}y$ se e solo se $(x-y)\\mod n=0$\n",
    "</center>\n",
    "dove $\\mod$ indica proprio l'operazione di calcolo del resto.\n",
    "* <span style=\"color:gold\">$\\mathbf{Z}_n$</span> è dunque il gruppo costituito dalle <span style=\"color:gold\">classi di equivalenza</span> rispetto a tale relazione."
   ]
  },
  {
   "cell_type": "markdown",
   "metadata": {},
   "source": [
    "#### <span style=\"color:cyan\">Nota terminologica (e non solo)</span>\n",
    "* Se $y\\mod n=x\\mod n$, ovvero se <span style=\"color:gold\">$x$ e $y$ danno lo resto nella divisione per $n$</span> (o ancora, se la differenza $x-y$ è divisibile per $n$) allora si dice anche che <span style=\"color:gold\">$x$ è congruo a $y$ modulo $n$</span> (o che $x$ e $y$ sono congrui modulo $n$), scritto:\n",
    "$$\n",
    "x\\equiv y\\,\\,(\\mod n)\n",
    "$$\n",
    "o anche, più semplicemente,\n",
    "$$\n",
    "x=y\\,\\,(\\mod n)\n",
    "$$\n",
    "* Alla luce di questa definizione, potremmo dire che qualsiasi intero $x$ fa parte di $\\zn$ nel senso che o $x\\in\\{0,1,...,n-1\\}$, oppure $x$ è <span style=\"color:gold\">rappresentato</span> quell'unico $y\\in\\{0,1,...,n-1\\}$ tale che $x\\equiv y\\,\\,(\\mod n)$.\n",
    "* Come vedremo più avanti, nelle operazioni modulari quel che conta sono proprio i rappresentanti ed è per questa ragione che ignoriamo quanto riportate nella precedente \"precisazione tecnica\"."
   ]
  },
  {
   "cell_type": "markdown",
   "metadata": {},
   "source": [
    "#### <span style=\"color:cyan\">Operazioni modulari</span>\n",
    "\n",
    "* Negli insiemi $\\zn$ sono definite le <span style=\"color:gold\">quattro operazioni aritmetiche</span>, anche se per la divisione è necessario che sia verificata una ben precisa condizione.\n",
    "* Fissato il modulo $n$, inizialmente definiremo le <span style=\"color:gold\">operazioni modulari</span> usando la simbologia <span style=\"color:gold\">$\\mathrm{op}_n$</span>, dove $\\mathrm{op}\\in\\{+,-,\\times,\\div\\}$ (indicheremo inoltre la moltiplicazione indifferentemente con $\\times$ o con $\\cdot$).\n",
    "* Nel seguito però, per semplicità e quando sia perfettamente chiaro che stiamo operando in $\\zn$, eviteremo di inserire il pedice $n$.\n",
    "* Lasciando da parte, per il momento, la divisione, le altre <span style=\"color:gold\">tre operazioni base</span> sono definite nel modo seguente:\n",
    "$$\n",
    "\\begin{array}{rcl}\n",
    "x+_n y&=&(x+y)\\mod n\\\\\n",
    "x-_n y&=&(x-y)\\mod n\\\\\n",
    "x\\cdot_n y&=&(x\\cdot y)\\mod n\n",
    "\\end{array}\n",
    "$$\n",
    "<br />\n",
    "* In parole semplici, ogni operazione coincide con la medesima operazione sugli interi <span style=\"color:gold\">seguita dal calcolo del resto</span> modulo $n$."
   ]
  },
  {
   "cell_type": "markdown",
   "metadata": {},
   "source": [
    "#### <span style=\"color:cyan\">Riguardo la sottrazione e il caso di dividendo negativo</span>\n",
    "* Si noti che anche la <span style=\"color:gold\">sottrazione è perfettamente definita</span>. \n",
    "* Infatti, anche se il valore <span style=\"color:gold\">$x-y$ è negativo</span>, il resto nella divisione per $n$ è comunque un numero in $\\zn$.\n",
    "* Se indichiamo con $Q$ e $R$ rispettivamente quoziente e resto della divisione di $a$ per $b$, deve innanzitutto valere\n",
    "<center>\n",
    "    <span style=\"color:gold\">$a = b\\cdot Q+R$</span>\n",
    "</center>\n",
    "* Tuttavia l'equazione ha infinite soluzioni: ad esempio, <span style=\"color:gold\">se $a=7$ e $b=2$</span> potremmo correttamente scrivere <span style=\"color:gold\">$7=3\\cdot 2+1$</span> ma anche <span style=\"color:gold\">$7=3\\cdot 1+4$</span> come pure <span style=\"color:gold\">$7=3\\cdot 3-2$</span> e così via a piacimento.\n",
    "* Per rendere unici quoziente e resto ci vuole un'ulteriore condizione e questa, come è ben noto, è che <span style=\"color:gold\">$0\\leq R<b$</span>\n",
    "* La \"soluzione\" dell'equazione è resa unica proprio dalla condizione richiesta sul resto, ovvero <span style=\"color:gold\">$R\\in\\{0,1,...,b-1\\}$</span>.\n",
    "* Questa condizione deve essere sempre rispettata, anche quando il dividendo è <span style=\"color:gold\">negativo</span>\n",
    "* Quindi, ad esempio, <span style=\"color:gold\">$-8\\mod 3=1$</span> perché $-8=3\\cdot(-3)+1$; ogni altro valore di $Q$, diverso da $-3$, \"costringerebbe\" infatti ad avere un resto al di fuori dell'insieme $\\{0,1,2\\}$.\n",
    "* In particolare, vale sempre\n",
    "<center>\n",
    "    <span style=\"color:gold\">$-1\\mod n = n-1$</span>\n",
    "</center>\n",
    "perché\n",
    "<center>\n",
    "    <span style=\"color:gold\">$-1 = n\\cdot(-1)+n-1$</span>\n",
    "</center>"
   ]
  },
  {
   "cell_type": "markdown",
   "metadata": {},
   "source": [
    "#### <span style=\"color:cyan\">Elemento neutro e inverso negli insiemi numerici $\\mathbf{Z}$ e $\\mathbf{Q}$</span>\n",
    "* Sugli interi (e sui razionali) i numeri 0 e 1 giocano un <span style=\"color:gold\">ruolo speciale</span>.\n",
    "* Lo 0 è il c.d. <span style=\"color:gold\">elemento neutro dell'addizione</span>  perché, qualsiasi sia $x\\in\\mathbf{Z}$, vale <span style=\"color:gold\">$x+0=0+x=x$</span>.\n",
    "* Analogamente, 1 è <span style=\"color:gold\">elemento neutro della moltiplicazione</span>  perché, qualsiasi sia $x\\in\\mathbf{Z}$, vale <span style=\"color:gold\">$x\\cdot 1=1\\cdot x=x$</span>.\n",
    "* L'elemento neutro entra poi nella definizione di <span style=\"color:gold\">(elemento) inverso</span>.\n",
    "* Sugli interi, ogni numero ha un elemento <span style=\"color:gold\">inverso rispetto all'addizione</span> (detto anche <span style=\"color:gold\">opposto</span>).\n",
    "* L'opposto di $x$, denotato con <span style=\"color:gold\">$-x$</span>, è precisamente quel numero $y$ tale che $x+y=0$.\n",
    "* L'<span style=\"color:gold\">inverso rispetto alla moltiplicazione</span> (detto anche <span style=\"color:gold\">reciproco</span>) non esiste ovviamente per lo 0 ma, sugli interi, non esiste se non per 1 e -1 (che sono i reciproci di se stessi).\n",
    "* L'inverso moltiplicativo esiste invece (tranne sempre che per lo 0) per ogni <span style=\"color:gold\">numero razionale</span>."
   ]
  },
  {
   "cell_type": "markdown",
   "metadata": {},
   "source": [
    "#### <span style=\"color:cyan\">Elemento neutro e inverso in $\\zn$</span>\n",
    "* Per come sono definite le operazioni in $\\zn$, è banale che 0 e 1 siano ancora, rispettivamente, l'elemento neutro di addizione e moltiplicazione.\n",
    "* L'<span style=\"color:gold\">opposto di $x\\in\\zn$</span> (cioè l'inverso additivo) si trova facilmente, applicando la definizione: cerchiamo $z\\in\\zn$ tale che $x+_nz=0$ da cui <span style=\"color:gold\">z=n-x</span>.\n",
    "* L'opposto si può ancora scrivere come <span style=\"color:gold\">$-x$</span>, ricordando anche quanto già detto a proposito di quoziente e resto quando il dividendo è negativo.\n",
    "* Per l'<span style=\"color:gold\">inverso moltiplicativo</span> vedremo a breve le condizioni di esistenza e il metodo di calcolo."
   ]
  },
  {
   "cell_type": "markdown",
   "metadata": {},
   "source": [
    "#### <span style=\"color:magenta\">Aritmetica modulare in Python</span>\n",
    "\n",
    "* Definiamo una <span style=\"color:gold\">funzione</span> <span style=\"color:gold\">zmod</span> che \"restituisce\" una classe che rappresenta un insieme $\\zn$ (dove $n$ è l'unico parametro della funzione).\n",
    "* La classe \"supporta\" le <span style=\"color:gold\">operazioni modulari</span> (moltiplicazione esclusa per il momento)\n",
    "* &Egrave; sufficiente che <span style=\"color:gold\">uno dei due operandi</span> sia un elemento di $\\zn$ affinché il risultato sia un elemento di $\\zn$ (anche se l'altro operando è un intero arbitrario)."
   ]
  },
  {
   "cell_type": "code",
   "execution_count": null,
   "metadata": {},
   "outputs": [],
   "source": [
    "# Per facilitare la lettura (e dunque la comprensione) della classe,\n",
    "# i metodi sono definiti prima, esternamente alla classe stessa\n",
    "# Ogni funzione effettua l'operazione specifica, che però restituisce\n",
    "# un numero intero. La successima conversione (cast) restituisce un oggetto\n",
    "# il cui tipo è quello del primo operando\n",
    "\n",
    "def addm(self,other):\n",
    "    'Addizione modulare'\n",
    "    return self.__class__(int.__add__(self,other)%self.mod)\n",
    "def subm(self,other):\n",
    "    'Sottrazione modulare'\n",
    "    return self.__class__(int.__sub__(self,other)%self.mod)\n",
    "def mulm(self,other):\n",
    "    'Moltiplicazione modulare'\n",
    "    return self.__class__(int.__mul__(self,other)%self.mod)\n",
    "def umin(self):\n",
    "    return self.__class__(int.__neg__(self))\n",
    "# Metodo new per zn. Oltre al controllo iniziale, forza il numero nel range previsto\n",
    "def newm(cls,x):\n",
    "    assert type(x)==int,\"Supporta solo numeri interi\"\n",
    "    return int.__new__(cls,x%cls.mod)"
   ]
  },
  {
   "cell_type": "code",
   "execution_count": null,
   "metadata": {},
   "outputs": [],
   "source": [
    "# L'inserimento in una funzione, consente la definizione \"parametrica\" di classi zn,\n",
    "# con il valore del modulo determinato a tempo di esecuzione. La definizione dei metodi\n",
    "# __radd__, __rsub__ e __rmul__ fa sì che venga applicata l'operazione modulare anche\n",
    "# quando l'elemento di zn è il secondo operando (e il primo è un intero arbitrario)\n",
    "def zmod(n):\n",
    "    return type('zn',(int,),{'mod':n,\\\n",
    "                             '__new__':newm,\\\n",
    "                             '__add__':addm,\\\n",
    "                             '__radd__':addm,\\\n",
    "                             '__sub__':subm,\\\n",
    "                             '__rsub__':lambda x,y: x.__class__.__neg__(x-y),\\\n",
    "                             '__neg__':umin,\\\n",
    "                             '__mul__':mulm,\\\n",
    "                             '__rmul__':mulm})"
   ]
  },
  {
   "cell_type": "markdown",
   "metadata": {},
   "source": [
    "* Possiamo ora <span style=\"color:gold\">creare</span> una specifica classe, <span style=\"color:gold\">istanziarla</span> ed eseguire qualche operazione"
   ]
  },
  {
   "cell_type": "code",
   "execution_count": null,
   "metadata": {},
   "outputs": [],
   "source": [
    "z13 = zmod(13)"
   ]
  },
  {
   "cell_type": "code",
   "execution_count": null,
   "metadata": {
    "scrolled": true
   },
   "outputs": [],
   "source": [
    "x = z13(2)\n",
    "y = z13(28)\n",
    "z = z13(-11)\n",
    "print(x)\n",
    "print(y)\n",
    "print(z)"
   ]
  },
  {
   "cell_type": "code",
   "execution_count": null,
   "metadata": {
    "scrolled": true
   },
   "outputs": [],
   "source": [
    "print(x+11)\n",
    "print(8*y)\n",
    "print(2-z)\n",
    "print(x*(z-2*y))\n",
    "print(-x)"
   ]
  },
  {
   "cell_type": "markdown",
   "metadata": {},
   "source": [
    "* Nelle espressioni, se <span style=\"color:gold\">almeno uno degli operandi</span> è un elemento di $\\zn$, il risultato è un elemento di $\\zn$."
   ]
  },
  {
   "cell_type": "code",
   "execution_count": null,
   "metadata": {
    "scrolled": true
   },
   "outputs": [],
   "source": [
    "print(4*x+7)\n",
    "type(2*6-5*x)"
   ]
  },
  {
   "cell_type": "markdown",
   "metadata": {},
   "source": [
    "* Altrimenti è necessario un <span style=\"color:gold\">cast esplicito</span> finale"
   ]
  },
  {
   "cell_type": "code",
   "execution_count": null,
   "metadata": {
    "scrolled": true
   },
   "outputs": [],
   "source": [
    "print(z13(10+3*5))"
   ]
  },
  {
   "cell_type": "markdown",
   "metadata": {},
   "source": [
    "### <span style=\"color:cyan\">Inverso moltiplicativo e divisione modulare</span>\n",
    "\n",
    "* Negli insiemi $\\zn$ la divisione non può essere definita a partire dalle corrispondenti operazioni sugli interi.\n",
    "* Definiamo invece <span style=\"color:gold\">inverso moltiplicativo</span> di un elemento $x\\in\\zn$ quel numero $z$ (<span style=\"color:gold\">se esiste</span>) t.c.\n",
    "<center>\n",
    "    $x\\cdot_n z = (x\\cdot z)\\mod n = 1$\n",
    "</center>\n",
    "* L'inverso di $x$ viene indicato (secondo solito) scrivendo <span style=\"color:gold\">$x^{-1}$</span>\n",
    "* Se l'inverso di un numero $x\\in\\zn$ esiste, allora \"potremmo\" anche definire $y\\div_nx=y\\cdot x^{-1}\\mod n$, anche se questo è <span style=\"color:gold\">raramente necessario</span> nelle applicazioni.\n",
    "* Ma quand'è che l'inverso di un numero $x\\in\\zn$ esiste? La risposta è semplice: esiste <span style=\"color:gold\">se e solo se $\\mathrm{MCD}(x,n)=1$</span>, cioè $x$ ed $n$ sono <span style=\"color:gold\">relativamente primi</span>. La dimostrazione (due celle sotto) è facoltativa.\n",
    "* Come immediata <span style=\"color:gold\">conseguenza</span>, se $n$ è un <span style=\"color:gold\">numero primo</span>, <span style=\"color:gold\">ogni $x\\in\\zn$</span>, $x\\neq 0$, <span style=\"color:gold\">ha inverso moltiplicativo</span>."
   ]
  },
  {
   "cell_type": "markdown",
   "metadata": {},
   "source": [
    "#### <span style=\"color:cyan\">Qualche semplice esempio</span>\n",
    "\n",
    "* In $\\mathbf{Z}_{12}$ sono invertibili i numeri 1, 5, 7 e 11, e abbiamo: \n",
    "$$\n",
    "\\begin{array}{rcl}\n",
    "1^{-1}&=&1\\ \\ (\\mod 12)\\\\\n",
    "5^{-1}&=&5\\ \\ (\\mod 12)\\\\\n",
    "7^{-1}&=&7\\ \\ (\\mod 12)\\\\\n",
    "11^{-1}&=&11\\ \\ (\\mod 12)\n",
    "\\end{array}\n",
    "$$\n",
    "In altri termini, ogni numero invertibile <span style=\"color:gold\">ha per inverso se stesso</span>!\n",
    "\n",
    "* In $\\mathbf{Z}_{7}$ abbiamo invece: \n",
    "$$\n",
    "\\begin{array}{rcl}\n",
    "1^{-1}&=&1\\ \\ (\\mod 7)\\\\\n",
    "2^{-1}&=&4\\ \\ (\\mod 7)\\\\\n",
    "3^{-1}&=&5\\ \\ (\\mod 7)\\\\\n",
    "4^{-1}&=&2\\ \\ (\\mod 7)\\\\\n",
    "5^{-1}&=&3\\ \\ (\\mod 7)\\\\\n",
    "6^{-1}&=&6\\ \\ (\\mod 7)\n",
    "\\end{array}\n",
    "$$"
   ]
  },
  {
   "cell_type": "markdown",
   "metadata": {},
   "source": [
    "#### <span style=\"color:magenta\">Condizione necessaria e sufficiente per l'nvertibilità di $x$ modulo $n$ è che $\\mathrm{MCD}(x,n)=1$</span>\n",
    "* Il risultato &Egrave; una immediata conseguenza della seguente <span style=\"color:gold\">Identità di Bezout</span> (che non dimostriamo):\n",
    "\n",
    "<div style=\"margin-left:37px;margin-right:100px;border:1px solid white; padding:5px; width:auto\"> Dati due numeri interi $x$ e $n$, non entrambi nulli, esistono due numeri interi $a$ e $b$ tali che \n",
    "<center>\n",
    "    <span style=\"color:gold\">$\\mathrm{MCD}(x, n) = a\\cdot x + b\\cdot n$</span>\n",
    "</center>\n",
    "Inoltre, $\\mathrm{MCD}(x,n)$ è il <span style=\"color:gold\">più piccolo intero positivo</span> esprimibile come combinazione lineare intera di $x$ e $n$.\n",
    "    </div>\n",
    "    \n",
    "\n",
    "* <span style=\"color:gold\">Sufficienza</span>. Se $MCD(x,n)=1$, allora dall'identità di Bezout \n",
    "<center>\n",
    "       $1 = a\\cdot x + b\\cdot n$\n",
    "</center>\n",
    "per opportuni interi $a$ e $b$, ricaviamo\n",
    "<center>\n",
    "       $a\\cdot x = 1 - b\\cdot n$\n",
    "</center>\n",
    "da cui\n",
    "<center>\n",
    "       $(a\\cdot x)\\mod n = 1$\n",
    "</center>\n",
    "e questo vuol proprio dire che $a \\equiv x^{-1} (\\mod n)$.\n",
    "\n",
    "* <span style=\"color:gold\">Necessità</span>. Se $x$ ammette inverso moltiplicativo $y$, allora $(x\\cdot y)\\mod n=1$, ovvero $x\\cdot y = 1 +k\\cdot n$, per un qualche valore intero $k$. Riordinando\n",
    "<center>\n",
    "       $x\\cdot y -k\\cdot n = 1$\n",
    "</center>\n",
    "e poiché 1 è chiaramente il più piccolo intero positvo, necessariamente deve risultare $MCD(x,n)=1$. In questo caso, il ruolo di $a$ e $b$ è giocato, rispettivamente, da $y$ e $-k$."
   ]
  },
  {
   "cell_type": "markdown",
   "metadata": {},
   "source": [
    "### <span style=\"color:cyan\">Calcoli in $\\mathbf{Z}_n$</span>\n",
    "\n",
    "* L'aritmetica modulare è molto <span style=\"color:gold\">\"flessibile\"</span> riguardo al calcolo del risultato finale di un'espressione, nel senso precisato di seguito.\n",
    "* Supponiamo di dover calcolare un'espressione $\\mathcal{E}_{\\zn}$ in $\\zn$, cioè un'espressione in cui tutte le operazioni sono modulari, e sia $\\mathcal{E}_{\\mathbf{Z}}$ la corrispondente espressione in $\\zn$. Vale\n",
    "<center>\n",
    "    <span style=\"color:gold\">$\\mathcal{E}_{\\zn} = \\mathcal{E}_{Z} \\mod n$</span>\n",
    "</center>\n",
    "* In altri termini, possiamo svolgere i calcoli eseguendo ogni singola operazione (in aritmetica intera, cioè senza il calcolo del resto), ed eseguire il <span style=\"color:gold\">calcolo del resto solo sull'ultimo valore calcolato</span>.\n",
    "* Esempio\n",
    "$$\n",
    "\\begin{eqnarray*}\n",
    "(5\\cdot_{11} 8)+_{11}(4-_{11} 9)&=&7+_{11}6\\\\\n",
    "&=& 2\n",
    "\\end{eqnarray*}\n",
    "$$\n",
    "e, equivalentemente,\n",
    "$$\n",
    "\\begin{eqnarray*}\n",
    "((5\\cdot 8)+(4-9))\\mod 11&=&(40+(-5)\\mod 11\\\\\n",
    "&=&35\\mod 11\\\\\n",
    "&=& 2\n",
    "\\end{eqnarray*}\n",
    "$$"
   ]
  },
  {
   "cell_type": "markdown",
   "metadata": {},
   "source": [
    "* Vale ovviamente anche il <span style=\"color:gold\">contrario</span>. Se dobbiamo calcolare la quantità $\\mathcal{E}_{\\mathbf{Z}} \\mod n$, dove le operazioni sono eseguite in aritmetica intera, è possibile <span style=\"color:gold\">su qualsiasi valore intermedio</span> eseguire preliminarmente una riduzione modulo $n$.\n",
    "* Usando lo stesso esempio di prima, decidiamo di applicare il modulo al risultato della sottrazione:\n",
    "\n",
    "$$\n",
    "\\begin{eqnarray*}\n",
    "((5\\cdot 8)+(4-9))\\mod 11&=&(40+(-5 \\mod 11))\\mod 11\\\\\n",
    "&=&(40+6)\\mod 11\\\\\n",
    "&=&46\\mod 11\\\\\n",
    "&=& 2\n",
    "\\end{eqnarray*}\n",
    "$$\n",
    "\n",
    "* Applicare i moduli già ai risultati intermedi ha \"enormi\" ricadute positive sui calcoli, in quanto consente di <span style=\"color:gold\">limitare la grandezza</span> delle quantità generate."
   ]
  },
  {
   "cell_type": "markdown",
   "metadata": {},
   "source": [
    "#### <span style=\"color:cyan\">Un esempio di calcolo \"manuale\" efficiente</span>\n",
    "\n",
    "* Ci proponiamo di calcolare la quantità <span style=\"color:gold\">$2^{100}\\mod 29$</span>.\n",
    "* Naturalmente possiamo prima <span style=\"color:gold\">calcolare $2^{100}=1267650600228229401496703205376$</span> e poi eseguire la divisione intera per 29.\n",
    "* Un modo alternativo consiste nell'applicare ripetutamente le <span style=\"color:gold\">proprietà dei moduli</span> (oltreché quelle dell'algebra \"classica\"):\n",
    "\n",
    "$$\n",
    "\\begin{eqnarray*}\n",
    "2^{100}\\mod 29&=&(2^5)^{20}\\mod 29\\\\\n",
    "&=&(2^5\\mod 29)^{20}\\mod 29\\\\\n",
    "&=&(32\\mod 29)^{20}\\mod 29\\\\\n",
    "&=&3^{20}\\mod 29\\\\\n",
    "&=&(3^{3})^63^2\\mod 29\\\\\n",
    "&=&(3^{3}\\mod 29)^63^2\\mod 29\\\\\n",
    "&=&(27\\mod 29)^63^2\\mod 29\\\\\n",
    "&=&(-2)^63^2\\mod 29\\\\\n",
    "&=&2^63^2\\mod 29\\\\\n",
    "&=&2(2^5)3^2\\mod 29\\\\\n",
    "&=&2(2^5\\mod 29)3^2\\mod 29\\\\\n",
    "&=&2\\cdot 3\\cdot 3^2\\mod 29\\\\\n",
    "&=&2\\cdot 3^3\\mod 29\\\\\n",
    "&=&2\\cdot 27\\mod 29\\\\\n",
    "&=&2\\cdot(-2)\\mod 29\\\\\n",
    "&=&-4\\mod 29\\\\\n",
    "&=&25\n",
    "\\end{eqnarray*}\n",
    "$$\n",
    "\n",
    "* Come si può notare, il più grande valore intermedio generato è $32$, un bel <span style=\"color:gold\">risparmio in termini di memoria</span>.\n",
    "* Come vedreni, per i valori che vengono generati nel caso dei calcoli eseguiti dai protocolli crittografici, la possibilità di operare riduzioni sui valori intermedi demarca il <span style=\"color:gold\">confine fra fattibilità e non fattibilità</span> delle operazioni."
   ]
  },
  {
   "cell_type": "markdown",
   "metadata": {},
   "source": [
    "#### <span style=\"color:cyan\">Ancora una proprietà che useremo in seguito</span>\n",
    "\n",
    "<div style=\"margin-left:37px;margin-right:100px;border:1px solid white; padding:5px; width:auto\"> Se $m$ divide $n$, allora per qualsiasi $x\\in\\mathbf{Z}$ vale\n",
    "    <center>\n",
    "        <span style=\"color:gold\">$(x\\mod n)\\mod m=x\\mod m$</span>\n",
    "    </center>\n",
    "</div>\n",
    "* Per dimostrare questa propriet&agrave; (peraltro intuitiva) &egrave; sufficiente applicare la definizione di resto."
   ]
  },
  {
   "cell_type": "markdown",
   "metadata": {},
   "source": [
    "### <span style=\"color:cyan\">Gli algoritmi di Euclide ed Euclide esteso</span>\n",
    "* L'<span style=\"color:gold\">algoritmo di Euclide esteso</span> costituisce un metodo efficiente per <span style=\"color:gold\">calcolare l'inverso</span> di un elemento $x\\in\\zn$, se esiste.\n",
    "* Iniziamo però a descrivere l'<span style=\"color:gold\">algoritmo di Euclide</span>, che ci permette di calcolare \"solo\" il MCD di due numeri interi.\n",
    "* L'algoritmo (uno dei più antichi noti) è basato sulla seguente uguaglianza\n",
    "<center>\n",
    "    <span style=\"color:gold\">$\n",
    "\\mcd(x,y)=\\mcd(y,x\\mod y),\\qquad y\\neq 0\n",
    "$</center>\n",
    "unitamente \"condizione base\" <span style=\"color:gold\">$\\mcd(x,0)=x$</span>, nel caso in cui $y$ sia uguale a 0.\n",
    "* Possiamo quindi formulare la seguente <span style=\"color:gold\">definizione per ricorrenza</span>\n",
    "$$\n",
    "\\ \\\\\n",
    "\\mathtt{MCD}(x,y) = \n",
    "\\left\\{\\begin{array}[rcl]\\ x&&\\mathtt{se\\ }y=0\\\\\n",
    "\\\\\n",
    "\\mathtt{MCD}(𝑦,x \\mod y)&&\\mathtt{altrimenti}\n",
    "\\end{array}\\right.\n",
    "\\ \n",
    "\\\\\n",
    "$$\n",
    "che ha una <span style=\"color:gold\">traduzione</span> \"letterale\" e immediata in codice Python."
   ]
  },
  {
   "cell_type": "code",
   "execution_count": null,
   "metadata": {},
   "outputs": [],
   "source": [
    "def Euclid(x,y,pr=False):\n",
    "    if pr:\n",
    "        print(x,y)\n",
    "    if y==0:\n",
    "        return x\n",
    "    return Euclid(y,x%y,pr)"
   ]
  },
  {
   "cell_type": "code",
   "execution_count": null,
   "metadata": {},
   "outputs": [],
   "source": [
    "Euclid(14,49,True)"
   ]
  },
  {
   "cell_type": "code",
   "execution_count": null,
   "metadata": {},
   "outputs": [],
   "source": [
    "Euclid(49,18,True)"
   ]
  },
  {
   "cell_type": "markdown",
   "metadata": {},
   "source": [
    "#### <span style=\"color:magenta\">Correttezza dell'algoritmo di Euclide</span>\n",
    "\n",
    "* Dimostriamo che valgono entrambe le diseguaglianze:\n",
    "$$\n",
    "\\mcd(x,y)\\leq \\mcd(y,x\\mod y)\n",
    "$$\n",
    "e\n",
    "$$\n",
    "\\mcd(y,x\\mod y)\\leq \\mcd(x,y)\n",
    "$$\n",
    "\n",
    "* Per questo scopo usiamo due semplici fatti:\n",
    "<div style=\"margin-left:37px;margin-right:100px;border:1px solid white; padding:5px; width:auto\">\n",
    "se un numero $m$ divide $x$ e $y$ allora divide una qualsiasi <span style=\"color:gold\">combinazione lineare a coefficienti interi</span> di $x$ e $y$. In formule\n",
    "<center>\n",
    "    $m|a\\,\\wedge\\,m|b\\,\\Rightarrow\\,m | (a\\cdot x+b\\cdot y) \\quad a,b\\in\\mathbf{Z}$\n",
    "</center>\n",
    "</div>\n",
    "e\n",
    "<div style=\"margin-left:37px;margin-right:100px;border:1px solid white; padding:5px; width:auto\"> <span style=\"color:gold\">$x\\mod y$ è una combinazione lineare di $x$ e $y$</span>\n",
    "$$\n",
    "x\\mod y = x - \\left\\lfloor\\frac{x}{y}\\right\\rfloor\\cdot y\n",
    "$$\n",
    "    </div>"
   ]
  },
  {
   "cell_type": "markdown",
   "metadata": {},
   "source": [
    "* <span style=\"color:magenta\">$\\mcd(x,y)\\leq \\mcd(y,x\\mod y)$</span>.\n",
    "* Poiché $\\mcd(x,y)$ divide sia $x$ che $y$, divide anche una qualsiasi combinazione lineare a coefficienti interi di $x$ e $y$\n",
    "* In particolare divide la combinazione $x-\\left\\lfloor\\frac{x}{y}\\right\\rfloor\\cdot y$ che è esattamente $x\\mod y$.\n",
    "* Dunque $\\mcd(x,y)$ divide anche $x\\mod y$ oltre che $y$, cioè è un loro divisore comune. Ma poiché fra i divisori comuni a $y$ e $x\\mod y$ il valore $\\mcd(y,x\\mod y)$ è (per definizione) il massimo, ne consegue che esso è non minore di $\\mcd(x,y)$."
   ]
  },
  {
   "cell_type": "markdown",
   "metadata": {},
   "source": [
    "* <span style=\"color:magenta\">$\\mcd(y,x\\mod y)\\leq\\mcd(x,y)$</span>\n",
    "* Il procedimento è lo stesso: basta far vedere che $\\mcd(y,x\\mod y)$ è divisore comune, oltre che di $y$, anche di $x$. Se infatti questo è il caso la tesi è dimostrata perché $\\mcd(x,y)$ è per definizione il massimo di tutti i divisori comuni.\n",
    "* Ma $\\mcd(y,x\\mod y)$ divide $x$ perché $x$ può essere espresso come combinazione lineare di $y$ e $x\\mod y$ nel mdo seguente:\n",
    "$$\n",
    "x = a\\cdot y + b\\cdot x\\mod y = a\\cdot y + b\\left(x - \\left\\lfloor\\frac{x}{y}\\right\\rfloor\\cdot y\\right) =\\left\\lfloor\\frac{x}{y}\\right\\rfloor\\cdot y+1\\left(x - \\left\\lfloor\\frac{x}{y}\\right\\rfloor\\cdot y\\right)\n",
    "$$"
   ]
  },
  {
   "cell_type": "markdown",
   "metadata": {},
   "source": [
    "#### <span style=\"color:cyan\">Algoritmo di Euclide esteso</span>\n",
    "* Possiamo modificare la ricorsione del metodo di Euclide in modo da calcolare, oltreché il MCD $m$ di $x$ e $y$, anche due valori interi tali $a$ e $b$ che soddisfano l'<span style=\"color:gold\">identità di Bezout</span>.\n",
    "$$\n",
    "m = a\\cdot x+b\\cdot y\n",
    "$$\n",
    "* Il caso base, in cui $y=0$, è immediato: possiamo infatti fissare $a=1$ e $b=0$\n",
    "$$\n",
    "x =\\mcd(x,0)=1\\cdot x+0\\cdot 0\n",
    "$$\n",
    "e la formulazione generale della ricorrenza si può esprimere nel modo seguente\n",
    "$$\n",
    "\\ \\\\\n",
    "\\mathtt{EEuclid}(x,y) = \n",
    "\\left\\{\\begin{array}[rcl]\\ x,1,0&&\\mathrm{se\\ }y=0\\\\\n",
    "\\\\\n",
    "m,b,a-b\\left\\lfloor\\frac{x}{y}\\right\\rfloor&&\\mathrm{se\\ }m,a,b=\\mathtt{EEuclid}(y,x\\mod y)\n",
    "\\end{array}\\right.\n",
    "\\ \n",
    "\\\\\n",
    "$$"
   ]
  },
  {
   "cell_type": "markdown",
   "metadata": {},
   "source": [
    "* La dimostrazione di correttezza è una semplice applicazione del <span style=\"color:gold\">principio di induzione</span>.\n",
    "* Abbiamo già esaminato il caso base: se $y=0$ vale effettivamente $x=\\mcd(x,y)$ ed inoltre $x = 1 \\cdot x+0\\cdot y$.\n",
    "* Supponendo, per <span style=\"color:gold\">ipotesi induttiva</span>, che la terna di numeri $m,a,b=\\mathtt{EEuclid}(y,x\\mod y)$ soddisfi:\n",
    "    1. $m = \\mcd(y,x\\mod y)$\n",
    "    2. $m = a\\cdot y + b\\cdot (x\\mod y)$\n",
    "anche la terna associata a $\\mathtt{EEuclid}(x,y)$ risulta corretta. \n",
    "* Infatti, il valore $m$, come primo elemento della terna, è certamente corretto perché, come già sappiamo, <span style=\"color:gold\">$\\mcd(x,y)=\\mcd(y,x\\mod y)$</span>. \n",
    "* Per verificare la correttezza degli altri due valori sono sufficienti pochi passaggi a partire dall'ipotesi induttiva:\n",
    "\n",
    "<br />\n",
    "\n",
    "$$\n",
    "\\begin{eqnarray*}\n",
    "m &=& a \\cdot y + b\\cdot (x\\mod y)\\\\\n",
    "&=& a \\cdot y + b\\cdot \\left(x-\\left\\lfloor\\frac{x}{y}\\right\\rfloor\\cdot y\\right)\\\\\n",
    "&=&b\\cdot x + \\left(a-b\\left\\lfloor\\frac{x}{y}\\right\\rfloor\\right)\\cdot y\n",
    "\\end{eqnarray*}\n",
    "$$"
   ]
  },
  {
   "cell_type": "markdown",
   "metadata": {},
   "source": [
    "* L'implementazione in Python è, ancora una volta, immediata."
   ]
  },
  {
   "cell_type": "code",
   "execution_count": null,
   "metadata": {},
   "outputs": [],
   "source": [
    "def extended_Euclid(x,y):\n",
    "    '''Computes integer m,a,b such that m = gcd(x,y) and\n",
    "       m = ax+by holds.'''\n",
    "    if y==0:\n",
    "        return x,1,0\n",
    "    m,a,b = extended_Euclid(y,x%y)\n",
    "    # Per ipotesi induttiva vale: m = a y + b (x%y)  e m = MCD(y,x mod y) = MCD(x,y)\n",
    "    return m,b,a-b*int(x/y)"
   ]
  },
  {
   "cell_type": "code",
   "execution_count": null,
   "metadata": {},
   "outputs": [],
   "source": [
    "x = 49\n",
    "y = 14\n",
    "m,a,b = extended_Euclid(x,y)\n",
    "sign = '+' if b>0 else ''\n",
    "print(f\"m={m},\\ta={a},\\tb={b},\\ta*x+b*y={a}*{x}{sign}{b}*{y}={a*x+b*y}\")"
   ]
  },
  {
   "cell_type": "code",
   "execution_count": null,
   "metadata": {},
   "outputs": [],
   "source": [
    "x = 49\n",
    "y = 18\n",
    "m,a,b = extended_Euclid(x,y)\n",
    "sign = '+' if b>0 else ''\n",
    "print(f\"m={m},\\ta={a},\\tb={b},\\ta*x+b*y={a}*{x}{sign}{b}*{y}={a*x+b*y}\")"
   ]
  },
  {
   "cell_type": "markdown",
   "metadata": {},
   "source": [
    "#### <span style=\"color:cyan\">Calcolo dell'inverso</span>\n",
    "\n",
    "* Come possiamo usare l'algoritmo di Euclide esteso per il calcolo dell'<span style=\"color:gold\">inverso moltiplicativo di $x$ modulo $n$</span>?\n",
    "* Sia $m,\\alpha,\\beta=\\mathtt{extended\\_Euclid}(x,n)$\n",
    "* Se <span style=\"color:gold\">$m>1$</span> possiamo immediatamente concludere che <span style=\"color:gold\">$x^{-1}\\mod n$ non esiste</span>.\n",
    "* Altrimenti (se cioè <span style=\"color:gold\">$m=1$</span>), riscrivendo l'uguaglianza\n",
    "$$\n",
    "1=a\\cdot x+b\\cdot n\n",
    "$$ \n",
    "nel modo seguente\n",
    "$$\n",
    "a\\cdot x = 1-b\\cdot n\n",
    "$$\n",
    "e riducendo entrambi i membri modulo $n$, otteniamo\n",
    "$$\n",
    "(a\\cdot x)\\mod n = 1\n",
    "$$\n",
    "e questo vuol proprio dire che <span style=\"color:gold\">$a=x^{-1}\\mod n$</span>."
   ]
  },
  {
   "cell_type": "code",
   "execution_count": null,
   "metadata": {},
   "outputs": [],
   "source": [
    "m,a,b = extended_Euclid(5,7)\n",
    "print(a)\n",
    "(a*5)%7   # a è l'inverso di 5 modulo 7"
   ]
  },
  {
   "cell_type": "markdown",
   "metadata": {},
   "source": [
    "* Si noti però che $a$ potrebbe essere un valore negativo. In tal caso <span style=\"color:gold\">un'ulteriore operazione modulo $n$</span> restituisce l'inverso come numero propriamente di $\\zn$"
   ]
  },
  {
   "cell_type": "code",
   "execution_count": null,
   "metadata": {
    "scrolled": true
   },
   "outputs": [],
   "source": [
    "m,a,b = extended_Euclid(5,31)\n",
    "print(a)\n",
    "print(a*5%31)  # a è comunque l'inverso\n",
    "print(a%31)    # Se vogliamo l'inverso come elemento di Z_31"
   ]
  },
  {
   "cell_type": "markdown",
   "metadata": {},
   "source": [
    "* Possiamo quindi definire una funzione <span style=\"font-style: italic; color:gold\">modular_inverse</span> che usa l'algoritmo di Euclide esteso ed esegue l'operazione modulare finale"
   ]
  },
  {
   "cell_type": "code",
   "execution_count": null,
   "metadata": {},
   "outputs": [],
   "source": [
    "def modular_inverse(x,n):\n",
    "    '''Computes 1/x mod n, if exists'''\n",
    "    m,a,b=extended_Euclid(x,n)\n",
    "    if m == 1:\n",
    "        return a%n"
   ]
  },
  {
   "cell_type": "code",
   "execution_count": null,
   "metadata": {
    "scrolled": true
   },
   "outputs": [],
   "source": [
    "modular_inverse(5,31)"
   ]
  },
  {
   "cell_type": "markdown",
   "metadata": {},
   "source": [
    "### <span style=\"color:cyan\">Teorema cinese dei resti</span>\n",
    "\n",
    "* Questo \"teorema\" dell'aritmetica modulare (ascritto al matematico cinese Sun-Tsu, intorno all'anno 100) ha importanti utilizzi in crittografia.\n",
    "* Lo ritroveremo come <span style=\"color:gold\">strumento teorico</span> in alcuni protocolli ma, almeno nel caso dell'RSA, anche come utile strumento per <span style=\"color:gold\">ridurre il tempo di calcolo</span> nelle operazioni di cifratura.\n",
    "* Ecco l'enunciato del teorema.\n",
    "\n",
    "\n",
    "<div style=\"margin-left:37px;margin-right:100px;border:1px solid white; padding:5px; width:auto\">\n",
    "Sia $n$ un numero intero esprimibile come <span style=\"color:gold\">prodotto di $r>1$ numeri interi</span> fra loro <span style=\"color:gold\">relativamente primi</span>\n",
    "$$\n",
    "n = n_1\\cdot n_2\\cdot \\ldots \\cdot n_r\n",
    "$$\n",
    "    Allora il resto della divisione di un qualsiasi intero $a$ per $n$ &egrave; <span style=\"color:gold\">completamente determinato</span> dai resti delle divisioni per $n_1\\cdot n_2\\cdot \\ldots \\cdot n_r$. In altri termini, esiste una <span style=\"color:gold\">corrispondenza biunivoca</span> fra $\\zn$ e il <span style=\"color:gold\">prodotto cartesiano ${\\zn}_1\\times{\\zn}_2\\times\\ldots\\times{\\zn}_r$</span>.\n",
    "</div>"
   ]
  },
  {
   "cell_type": "markdown",
   "metadata": {},
   "source": [
    "* La dimostrazione &egrave; <span style=\"color:gold\">costruttiva</span>.\n",
    "* Dato un valore $a\\in\\zn$, la $r$-upla corrispondente si trova facilmente:\n",
    "<center>\n",
    "    <span style=\"color:gold\">$a\\longrightarrow (a\\mod n_1,a\\mod n_2,\\ldots,a\\mod n_r)$</span>\n",
    "</center>\n",
    "* Ad esempio se $n=4\\cdot 7\\cdot 9=252$ e $a=3413$, risulta $a\\longrightarrow (1,4,2)$."
   ]
  },
  {
   "cell_type": "code",
   "execution_count": null,
   "metadata": {},
   "outputs": [],
   "source": [
    "n1=4\n",
    "n2=7\n",
    "n3=9\n",
    "n = n1*n2*n3\n",
    "print(n1,n2,n3,n)"
   ]
  },
  {
   "cell_type": "code",
   "execution_count": null,
   "metadata": {
    "scrolled": true
   },
   "outputs": [],
   "source": [
    "a = 3413\n",
    "a1=a%n1\n",
    "a2=a%n2\n",
    "a3=a%n3\n",
    "print(f\"{a%n} --> ({a1},{a2},{a3})\")"
   ]
  },
  {
   "cell_type": "markdown",
   "metadata": {},
   "source": [
    "* Per la trasformazione inversa, l'idea è di \"trovare\" coefficienti <span style=\"color:gold\">$c_i\\in\\{0,1\\}$</span> tali che la combinazione lineare:\n",
    "$$\n",
    "C = c_1a_1+c_2a_2+\\ldots+c_ra_r\n",
    "$$\n",
    "verifichi la <span style=\"color:gold\">proprietà che $C\\mod n_i=a_i$</span>, $i=1,\\ldots,r$. In tal caso, per un semplice argomento legato alla cardinalità dei due insiemi, potremo concludere che $C=a$.\n",
    "* Per trovare tali coefficienti $c_i$ si procede nel modo indicato di seguito. \n",
    "  \n",
    "  1. Per $i=1,2,\\ldots,r$ calcoliamo le quantità <span style=\"color:gold\">$m_i = \\prod\\limits_{j\\neq i}n_j$</span>, dove cioè $m_i$ è il prodotto di tutti i moduli <span style=\"color:gold\">ad eccezione proprio dell'$i$-esimo $n_i$</span>.\n",
    "  2. Per \"costruzione\" $\\mcd(m_i,n_i)=1$, e dunque <span style=\"color:gold\">esiste l'inverso $m_i^{-1}\\mod n_i$</span>, che possiamo calcolare utilizzando l'algoritmo di Euclide esteso.\n",
    "  3. I valori $m_i$ e i loro inversi consentono ora di definire i valori $c_i$ con le caratteristiche richieste:\n",
    "  <center>\n",
    "    <span style=\"color:gold\">$c_i = m_i\\cdot\\left(m_i^{-1}\\mod n_i\\right)$</span>\n",
    "   </center>\n",
    "* Risulta infatti, per $j\\neq i$,\n",
    "<center>\n",
    "    <span style=\"color:gold\">$c_i \\mod n_j = 0$</span>\n",
    "   </center>\n",
    "   perch&eacute; $c_i$ &egrave; multiplo di $n_j$\n",
    "* E risulta invece\n",
    " <center>\n",
    "    <span style=\"color:gold\">$c_i \\mod n_i = \\left(m_i\\cdot\\left(m_i^{-1}\\mod n_i\\right)\\right)\\mod n_i=\\left(m_i\\cdot m_i^{-1}\\right)\\mod n_i = 1\\mod n_i=1$</span>\n",
    "   </center>\n",
    "\n",
    "* Se dunque poniamo $C=\\sum\\limits_{i=1}^rc_ia_i$, risulta\n",
    "<center>\n",
    "    <span style=\"color:gold\">$C\\mod n_i = a_i, \\quad i = 1,\\ldots,r$</span>\n",
    "   </center>\n",
    "* Dunque <span style=\"color:gold\">$C$ ha gli stessi resti di $a$</span>, modulo ciascuno degli $n_i$.\n",
    "* Poiché la cardinalità del prodotto cartesiano ${\\zn}_1\\times{\\zn}_2\\times\\ldots\\times{\\zn}_r$ &egrave; la stessa di $\\zn$ deve <span style=\"color:gold\">necessariamente risultare $C=a$</span>. In caso contrario ci dovrebbe essere almeno un elemento di $\\zn$ cui non corrisponde nessuna $r$-upla in ${\\zn}_1\\times{\\zn}_2\\times\\ldots\\times{\\zn}_r$, il che è chiaramente falso."
   ]
  },
  {
   "cell_type": "code",
   "execution_count": null,
   "metadata": {
    "scrolled": false
   },
   "outputs": [],
   "source": [
    "# Moduli e loro prodotto\n",
    "n1 = 27\n",
    "n2 = 40\n",
    "n3 = 11\n",
    "n = n1*n2*n3\n",
    "print(f\"n={n}\\tn1={n1}\\tn2={n2}\\tn3={n3}\")\n",
    "# Coefficienti per la trasformazione inversa\n",
    "m1 = n2*n3\n",
    "m2 = n1*n3\n",
    "m3 = n1*n2\n",
    "invm1=modular_inverse(m1,n1)\n",
    "invm2=modular_inverse(m2,n2)\n",
    "invm3=modular_inverse(m3,n3)\n",
    "c1 = m1*invm1\n",
    "c2 = m2*invm2\n",
    "c3 = m3*invm3\n",
    "print(f\"c1={c1}\\tc2={c2}\\tc3={c3}\")"
   ]
  },
  {
   "cell_type": "markdown",
   "metadata": {},
   "source": [
    "* Si noti che tutto ciò che abbiamo fatto sinora è rubricabile come <span style=\"color:gold\">\"pre-computazione\"</span>. I calcoli dipendono cioè solo dal modulo $n$ e dai divisori coprimi $n_i$.\n",
    "* Se dobbiamo eseguire molti calcoli in $\\zn$, le quantità pre-determinate ovviamente non cambiano\n",
    "* Supponiamo, ad esempio, di voler calcolare la seguente funzione per diversi valori del parametro:\n",
    "<center>\n",
    "    <span style=\"color:gold\">$f(x) = (5x^2-12x+1)\\mod n$</span> \n",
    "    </center>\n",
    "* Dato $a$, invece di calcolare $f(a)$, calcoliamo <span style=\"color:gold\">$f_{a_i}=f(a_i)\\mod n_1$</span>, $i=1,\\ldots r$ e poi \"ricostruiamo\" $f(a)$ grazie al teorema cinese del resto."
   ]
  },
  {
   "cell_type": "code",
   "execution_count": null,
   "metadata": {
    "scrolled": false
   },
   "outputs": [],
   "source": [
    "a = 5191\n",
    "a1 = a%n1\n",
    "a2 = a%n2\n",
    "a3 = a%n3\n",
    "print(f\"a={a}\\t\\ta1={a1}\\ta2={a2}\\ta3={a3}\")\n",
    "fa = (5*a**2-12*a+1)%n\n",
    "fa1 = (5*a1**2-12*a1+1)%n1\n",
    "fa2 = (5*a2**2-12*a2+1)%n2\n",
    "fa3 = (5*a3**2-12*a3+1)%n3\n",
    "print(f\"fa={fa}\\tfa1={fa1}\\tfa2={fa2}\\tfa3={fa3}\")\n",
    "C = (c1*fa1+c2*fa2+c3*fa3)%n\n",
    "print(f\"C={C}\")"
   ]
  },
  {
   "cell_type": "markdown",
   "metadata": {},
   "source": [
    "### <span style=\"color:cyan\">Gruppi e gruppi ciclici $\\zn$ e $\\zn^*$</span>\n",
    "* L'operazione di somma modulare in $\\zn$ gode (fra le altre) delle seguenti quattro le proprietà \n",
    "    1. <span style=\"color:gold\">Chiusura</span>: la somma di due elementi di $\\zn$ è ancora un elemento di $\\zn$\n",
    "    2. <span style=\"color:gold\">Associatività</span>: $(a+_nb) +_n c= a+_n(b+_nc)$\n",
    "    3. <span style=\"color:gold\">Esistenza el. neutro</span>: chiaramente lo 0\n",
    "    4. <span style=\"color:gold\">Esistenza inverso</span>: l'inverso (o opposto) di $x$ è $n-x$\n",
    "* L'insieme $\\zn$, rispetto all'operazione di somma modulare, è dunque un <span style=\"font-style: italic; color:gold\">gruppo</span>"
   ]
  },
  {
   "cell_type": "markdown",
   "metadata": {},
   "source": [
    "* Che cosa possiamo dire invece della \"struttura\" di $\\zn$ rispetto alla <span style=\"color:gold\">moltiplicazione</span>?\n",
    "* Sappiamo che se $n$ è composto non tutti gli elementi di $\\zn$ hanno inverso moltiplicativo.\n",
    "* Se dunque $n$ è composto, l'insieme $\\zn$ non è un gruppo rispetto alla moltplicazione modulare.\n",
    "* Sappiamo però che l'inverso è posseduto dagli elementi $x\\in\\zn$ che sono <span style=\"color:gold\">coprimi</span> con $n$\n",
    "* ... e l'insieme di tali elementi forma effettivamente un gruppo rispetto alla <span style=\"color:gold\">moltiplicazione modulare</span>.\n",
    "* Si usa indicare tale insieme con la scrittura <span style=\"color:gold\">$\\zn^*$</span>.\n",
    "* Ad esempio, i numeri di $\\mathbf{Z}_{12}$ che sono coprimi con 12 sono 1, 5, 7 e 11. Allora $\\mathbf{Z}_{12}^*=\\{1,5,7,11\\}$ è un <span style=\"color:gold\">gruppo moltiplicativo</span>.\n",
    "* Come esercizio, si verifichi dapprima che $\\mathbf{Z}_{12}^*$ è un gruppo rispetto alla moltiplicazione modulate e poi si provi a dimostrare il fatto in generale per $\\zn^*$."
   ]
  },
  {
   "cell_type": "markdown",
   "metadata": {},
   "source": [
    "#### <span style=\"color:cyan\">Se $n$ è primo $\\zn$ è un campo</span>\n",
    "* Ovviamente, se $n$ è primo, tutti gli elementi di $\\zn$, ad eccezione dello zero, sono coprimi con $n$ e dunque hanno inverso.\n",
    "* Poiché vale (banalmente) anche la proprietà <span style=\"color:gold\">distributiva</span> della moltiplicazione rispetto all'addizione, se $n$ è primo allora $\\zn$ è un <span style=\"font-style: italic; color:gold\">campo finito</span> (o <span style=\"font-style: italic; color:gold\">campo di Galois</span>)"
   ]
  },
  {
   "cell_type": "markdown",
   "metadata": {},
   "source": [
    "#### <span style=\"color:cyan\">Ordine di un elemento in un gruppo</span>\n",
    "* Consideriamo un generico elemento $x$ di un gruppo $G$.\n",
    "* Si chiama <span style=\"color:gold\">ordine di $x$</span> il minimo numero di volte che possiamo <span style=\"color:gold\">sommare/moltiplicare $x$</span> all'elemento neutro prima di ottenere come risultato nuovamente l'elemento neutro.\n",
    "* Più difficile da spiegare che da capire con semplici esempi.\n",
    "* Nel gruppo additivo $\\mathbf{Z}_{12}$ l'operazione è l'addizione e l'elemento neutro è lo zero. In tal caso (tralasciando l'indicazione del modulo per semplicità):\n",
    "    1. l'ordine di 2 è 6 perché $(((((0+2)+2)+2)+2)+2)+2=0$ (cioè applicando <span style=\"color:gold\">6 volte</span> l'addizione modulare si ottiene 0) e con un minore di addizione non si ottiene 0.\n",
    "    2. L'ordine di 7 è 12; infatti \n",
    "    \n",
    "$$\\begin{eqnarray*}\n",
    "0+7&=&7\\\\\n",
    "7+7&=&2\\\\\n",
    "2+7&=&9\\\\\\\n",
    "9+7&=&4\\\\\n",
    "4+7&=&11\\\\\n",
    "11+7&=&6\\\\\n",
    "6+7&=&1\\\\\n",
    "1+7&=&8\\\\\n",
    "8+7&=&3\\\\\n",
    "3+7&=&10\\\\\n",
    "10+7&=&5\\\\\n",
    "5+7&=&0\n",
    "\\end{eqnarray*}\n",
    "$$\n",
    "\n",
    "* Nel gruppo moltiplicativo $\\mathbf{Z}_{7}^*$ (elemento neutro 1):\n",
    "    1. l'ordine di 2 è 3 perché $((1\\cdot 2)\\cdot 2)\\cdot 2 = 1$ e con un numero minore di moltiplicazioni non si ottiene 1;\n",
    "    2. l'ordine di 3 è 6 perché\n",
    "    $$\\begin{eqnarray*}\n",
    "    1\\cdot 3&=&3\\\\\n",
    "    3\\cdot 3&=&2\\\\\n",
    "    2\\cdot 3&=&6\\\\\n",
    "    6\\cdot 3&=&4\\\\\n",
    "    4\\cdot 3&=&5\\\\\n",
    "    5\\cdot 3&=&1\n",
    "\\end{eqnarray*}\n",
    "$$"
   ]
  },
  {
   "cell_type": "markdown",
   "metadata": {},
   "source": [
    "#### <span style=\"color:cyan\">Gruppi ciclici e generatori</span>\n",
    "* Il numero di elementi che fanno parte di un gruppo $G$ è poi detto <span style=\"color:gold\">ordine di $G$</span> stesso, e viene indicato con $\\mathrm{ord}(G)$: per $\\mathbf{Z}_{12}$ l'ordine è 12 mentre per $\\mathbf{Z}_{7}^*$ l'ordine è 6.\n",
    "* Un gruppo si dice <span style=\"color:gold\">ciclico</span> se esiste un elemento $g$ il cui ordine coincide con l'ordine del gruppo.\n",
    "<center>\n",
    "    <span style=\"color:gold\">$\\mathrm{ord}(g)=\\mathrm{ord}(G)$</span>\n",
    "</center>\n",
    "* Tale elemento viene detto <span style=\"color:gold\">generatore</span> del gruppo (proprio perché con operazioni successive si ottengono tutti gli elementi del gruppo) o anche <span style=\"color:gold\">radice primitiva</span>\n",
    "* In base agli esempi precedenti possiamo quindi dire che 7 è un generatore del gruppo additivo $\\mathbf{Z}_{12}$ e che 3 è un generatore del gruppo moltiplicativo $\\mathbf{Z}_{7}^*$\n",
    "* I gruppi additivi $\\zn$ e moltiplicativi $\\zn^*$, con $n$ primo, <span style=\"color:gold\">sono gruppi ciclici</span>."
   ]
  },
  {
   "cell_type": "markdown",
   "metadata": {},
   "source": [
    "* Consideriamo ora, per fissare le idee, <span style=\"color:gold\">gruppi moltiplicativi</span>\n",
    "* Se $g$ è un generatore, vale chiaramente\n",
    "$$\n",
    "\\zp^* = \\{g^i\\mod p|i = 1,\\ldots,p-1\\}\n",
    "$$\n",
    "* Per un elemento $h$ di ordine $s<p-1$ (cioè un elemento che non è un generatore) è comunque interessante considerare l'insieme:\n",
    "$$\n",
    "H = \\{h^i\\mod p|i = 1,\\ldots,s\\}\n",
    "$$\n",
    "* &Egrave; facile dimostrare che $H$ è un <span style=\"color:gold\">sottogruppo ciclico</span> di $\\zp^*$.\n",
    "* Sottogruppo vuol dire che è un sottoinsieme di $G$ e che è un gruppo!\n",
    "* Va da se che ogni sottogruppo, per essere tale, deve comunque <span style=\"color:gold\">incudere 1</span>.\n",
    "* $h$ è chiaramente il generatore del sottogruppo e, se $x=h^i\\mod p$ (per un qualche $i\\leq s$), allora, banalmente $x^{-1}\\mod p=h^{s-i}\\mod p$, proprio perché \n",
    "$$\n",
    "x\\cdot x^{-1}\\mod p=x^i\\cdot x^{s-i}\\mod p=x^s\\mod p=1\n",
    "$$"
   ]
  },
  {
   "cell_type": "code",
   "execution_count": null,
   "metadata": {},
   "outputs": [],
   "source": [
    "from ACLIB.utils import Euclid, modexp"
   ]
  },
  {
   "cell_type": "code",
   "execution_count": null,
   "metadata": {},
   "outputs": [],
   "source": [
    "def ord(h,p):\n",
    "    if h == 1: \n",
    "        return 1\n",
    "    v = h\n",
    "    o = 2\n",
    "    while (v:=(v*h)%p) and v!=1:\n",
    "        o+=1\n",
    "    return o"
   ]
  },
  {
   "cell_type": "code",
   "execution_count": null,
   "metadata": {},
   "outputs": [],
   "source": [
    "ord(1,11)"
   ]
  },
  {
   "cell_type": "code",
   "execution_count": null,
   "metadata": {},
   "outputs": [],
   "source": [
    "def subgroup(h,p):\n",
    "    return [(h**i)%p for i in range(1,ord(h,p)+1)]"
   ]
  },
  {
   "cell_type": "code",
   "execution_count": null,
   "metadata": {
    "scrolled": true
   },
   "outputs": [],
   "source": [
    "subgroup(2,11)"
   ]
  },
  {
   "cell_type": "markdown",
   "metadata": {},
   "source": [
    "#### <span style=\"color:cyan\">Teorema di Lagrange e teorema fondamentale dei gruppi ciclici</span>\n",
    "\n",
    "<div style=\"margin-left:37px;margin-right:100px;border:1px solid white; padding:5px; width:auto\"> <span style=\"font-style: italic;color:gold\">Teorema di Lagrange</span> Qualsiasi sottogruppo di un gruppo di ordine $k$ ha necessariamente ordine che è un <span style=\"color:gold\">divisore</span> di $k$.\n",
    "</div>\n",
    "\n",
    "* Per i gruppi ciclici esiste un risultato più forte. \n",
    "\n",
    "<div style=\"margin-left:37px;margin-right:100px;border:1px solid white; padding:5px; width:auto\"> <span style=\"font-style: italic;color:gold\">Teorema fondamentale dei gruppi ciclici</span> Per ogni divisore $k$ dell'ordine del gruppo esiste uno ed un solo sottogruppo di ordine $k$\n",
    "</div>\n",
    "\n",
    "* <span style=\"color:cyan\">Esempio:</span> I sottogruppi di $\\mathbf{Z}_{19}^*$ sono elencati di seguito, con l'aiuto di un semplice programma Python. Si tenga presente che $\\mathbf{Z}_{19}^*$ ha ordine 18 e che i divisori non banali di 18 sono <span style=\"color:gold\">2, 3, 6 e 9</span>."
   ]
  },
  {
   "cell_type": "code",
   "execution_count": null,
   "metadata": {},
   "outputs": [],
   "source": [
    "p = 19\n",
    "subgroups = sorted([(h,subgroup(h,p)) for h in range(2,p)], key=lambda pair: len(pair[1]))\n",
    "for H in subgroups:\n",
    "    print(f\"Generatore: {H[0]}\\tOrdine: {len(H[1])}\\tSottogruppo: {sorted(H[1])}\")"
   ]
  },
  {
   "cell_type": "markdown",
   "metadata": {},
   "source": [
    "#### <span style=\"color:cyan\">Primi sicuri (safe prime)</span>\n",
    "* Per ragioni che saranno chiare non appena esamineremo il primo protocollo di scambio di chiavi, numeri primi molto importanti sono quelli della forma: <span style=\"color:gold\">$p=2q+1$, dove anche $q$ è primo</span>.\n",
    "* Esempi di tali numeri, detti <span style=\"font-style: italic; color:gold\">primi sicuri</span>, sono: <span style=\"color:gold\">11, 23, 59 e 83</span>.\n",
    "* Per un tale numero, il teorema di Lagrange garantisce che i sottogruppi non banali possono avere solo <span style=\"color:gold\">2 o $q$ elementi</span>.\n",
    "* Sappiamo però anche di più (perché abbiamo a che fare con gruppi ciclici) e cioè che esiste un solo sottogruppo di ordine 2 e un solo sottogruppo di ordine $q$.\n",
    "* Vediamo un esempio esaustivo nel caso di $p=23$"
   ]
  },
  {
   "cell_type": "code",
   "execution_count": null,
   "metadata": {
    "scrolled": true
   },
   "outputs": [],
   "source": [
    "p = 23\n",
    "subgroups = sorted([(h,subgroup(h,p)) for h in range(2,p)], key=lambda pair: len(pair[1]))\n",
    "for H in subgroups:\n",
    "    print(f\"Generatore: {H[0]}\\tOrdine: {len(H[1])}\\tSottogruppo: {sorted(H[1])}\")"
   ]
  },
  {
   "cell_type": "markdown",
   "metadata": {},
   "source": [
    "* Dall'esempio di vede anche che, se tralasciamo il sottogruppo generato da 22 (che naturalmente è $\\{1,-1\\mod 23\\}=\\{1,22\\}$), ci sono esattamente <span style=\"color:gold\">metà elementi</span> che generano il gruppo intero e metà che generano il sottogruppo di ordine $q$.\n",
    "* Questa è una <span style=\"color:gold\">situazione generale</span> e possiamo anche affermare che, per i primi sicuri (ed escludendo naturalmente 1 e -1), è facile stabilire da che cosa sia formato il sottogruppo di $q$ elementi.\n",
    "* Esso è composto precisamente da quegli elementi che sono l'equivalente (in aritmetica modulare) dei <span style=\"color:gold\">quadrati perfetti</span> e che qui vengono detti <span style=\"color:gold\">residui quadratici</span> (modulo $p$)"
   ]
  },
  {
   "cell_type": "markdown",
   "metadata": {},
   "source": [
    "* Per continuare con l'esempio di $\\mathbf{Z}_{23}^*$, il numero <span style=\"color:gold\">$3$ è un residuo quadratico</span> perché $(7\\cdot 7)\\mod 23 = 3$\n",
    "* Se il modulo è primo si può poi dimostrare che ogni quadrato perfetto ha <span style=\"color:gold\">esattamente due radici</span> (come nel caso reale) che sono una l'opposta dell'altra.\n",
    "* La seconda \"radice quadrata\" di $3$ in $\\mathbf{Z}_{23}^*$ è dunque $23-7=16$"
   ]
  },
  {
   "cell_type": "code",
   "execution_count": null,
   "metadata": {
    "scrolled": true
   },
   "outputs": [],
   "source": [
    "(16**2)%23"
   ]
  },
  {
   "cell_type": "markdown",
   "metadata": {},
   "source": [
    "* Nel caso di primi sicuri, e se escludiamo 1 e -1, il <span style=\"color:gold\">teorema di Lagrange</span> garantisce che un qualsiasi elemento genera o l'intero gruppo o il sottogruppo dei residui quadratici.\n",
    "* E sempre grazie al teorema di Lagrange risulta facile capire, per un elemento $x$ scelto a case (e diverso da 1 e -1), in quale caso ci si trovi.\n",
    "* Infatti, sapendo che l'ordine di $x$ può solo essere $q$ o $p-1$, è sufficiente calcolare (nel modo che vedremo) <span style=\"color:gold\">$x^{q}\\mod p$</span>.\n",
    "* Se il risultato è 1, allora l'ordine di $x$ è $q$ e dunque $x$ genera il sottogruppo, altrimenti genera l'intero gruppo $\\zp^*$"
   ]
  },
  {
   "cell_type": "markdown",
   "metadata": {},
   "source": [
    "* Nella libreria <span style=\"color:gold\">OPENSSL</span> si adotta un approccia ancora più estremo, in cui il generatre è fisso\n",
    "* Infatti, quando richiesto di generare un safe prime, OPENSSL restituisce un valore $p$ tale che, per default, <span style=\"color:gold\">2 è sempre un generatore</span> del gruppo $\\zp^*$. L'utente ha solo la possibilità di richiedere un diverso generatore, ma solo 3 o 5."
   ]
  },
  {
   "cell_type": "code",
   "execution_count": null,
   "metadata": {},
   "outputs": [],
   "source": [
    "%%sh\n",
    "openssl dhparam -text 2048 "
   ]
  },
  {
   "cell_type": "code",
   "execution_count": null,
   "metadata": {},
   "outputs": [],
   "source": [
    "%%sh\n",
    "ls -ltr"
   ]
  },
  {
   "cell_type": "code",
   "execution_count": null,
   "metadata": {},
   "outputs": [],
   "source": [
    "%%sh\n",
    "openssl dhparam -outform PEM -out dhcert.pem 2048\n",
    "openssl dhparam -inform PEM -in dhcert.pem -check -text"
   ]
  },
  {
   "cell_type": "markdown",
   "metadata": {},
   "source": [
    "### <span style=\"color:gold\">Un funzione candidata one-way: l'esponenziale modulare</span>\n",
    "* Una computazione fondamentale in crittografia asimmetrica riguarda il calcolo della funzione <span style=\"color:gold\">esponenziale modulare</span>.\n",
    "* Per essere one-way la funzione deve essere innanzitutto (computazionalmente) <span style=\"color:gold\">facile da calcolare</span>.\n",
    "* Dobbiamo quindi capire se sia possibile calcolare in <span style=\"color:gold\">maniera efficiente</span> quantità del tipo <span style=\"color:gold\">$a^b\\mod n$</span>. "
   ]
  },
  {
   "cell_type": "markdown",
   "metadata": {},
   "source": [
    "* Il problema è delicato per via della <span style=\"color:gold\">grandezza dei numeri in gioco</span>. \n",
    "* In applicazioni crittografiche, sia $a$ che $b$ (oltreché $n$), possono essere dell'ordine del migliaio di bit ma, giusto per fornire un'idea, supponiamo che la lunghezza sia limitata a <span style=\"color:gold\">128 bit</span>.\n",
    "* In tal caso $a^b$ è un numero che può arrivare ad avere una quantità di bit pari a  \n",
    "$$\\log_2 (2^{128})^{2^{128}} = \\log_2 2^{128\\cdot 2^{128}} = 128\\cdot 2^{128}=2^{135}\n",
    "$$ \n",
    "che corrispondono a più di <span style=\"color:gold\">$10^{40}$ cifre decimali</span>. Evidentemente non esiste alcuna possibilità di manipolare numeri di tale grandezza!\n",
    "* Poiché però il risultato finale è un numero di \"soli\" 128 bit, si capisce che bisognerà utilizzare le <span style=\"color:gold\">proprietà dell'aritmetica modulare</span> (che abbiamo visto) per limitare la grandezza dei risultati intermedi.\n",
    "* Questo per quanto riguarda lo <span style=\"color:gold\">spazio</span>."
   ]
  },
  {
   "cell_type": "markdown",
   "metadata": {},
   "source": [
    "* Anche il tempo però è un problema se si adotta l'algoritmo \"banale\" che calcola $a^b$ (sia pure con le opportune riduzioni modulo $n$ dei risultati intermedi) come <span style=\"color:gold\">prodotto iterato</span> $\\underbrace{a\\times a\\times \\ldots\\times a}_{b-1\\ \\mathrm{prodotti\\ modulari}}$.\n",
    "* In tal caso, infatti, si eseguono esattamente <span style=\"color:gold\">$b-1$ moltiplicazioni modulari</span>, una quantità improponibile se $b$ ha anche \"solo\" 128 bit."
   ]
  },
  {
   "cell_type": "markdown",
   "metadata": {},
   "source": [
    "#### <span style=\"color:cyan\">Prodotto modulare</span>\n",
    "\n",
    "* L'esponenziale è basata comunque sul prodotto e dunque introduciamo prima un algoritmo per il calcolo della quantità<span style=\"color:gold\"> $a\\cdot b\\mod n$</span>\n",
    "* Tutto ciò non è inutile anche perché la <span style=\"color:gold\">tecnica è la stessa</span> che adotteremo per l'esponenziale.\n",
    "* Questo non dovrebbe sorprendere per il semplice motivo che, come l'esponenziale è un'iterazione della moltiplicazione, il prodotto è un'iterazione della somma.\n",
    "* Possiamo infatti calcolare $a\\cdot b$ come $\\underbrace{a+a+\\ldots+a}_{b-1\\mathrm{\\ addizioni\\ modulari}}$, cosa che però vogliamo evitare.\n",
    "* Presentiamo l'algoritmo utilizzando come esempio il calcolo di <span style=\"color:gold\">$z=a\\cdot b$</span>, con <span style=\"color:gold\">$b=26$</span>.\n",
    "    1. Scriviamo <span style=\"color:gold\">$b$ in base 2</span>, \n",
    "    $$\n",
    "    26_{10}=11010_2=2^4+2^3+2^1\n",
    "    $$\n",
    "    2. Utilizzando ora la <span style=\"color:gold\">proprietà distributiva</span> abbiamo\n",
    "    $$\n",
    "    a\\cdot b = a\\cdot 26 = a\\cdot(2^4+2^3+2^1) = a\\cdot 2^4+a\\cdot 2^3+a\\cdot 2^1\n",
    "    $$\n",
    "    3. Tutte le quantità del tipo <span style=\"color:gold\">$a\\cdot 2^k$</span>, sia quelle utilizzate nel prodotto (ovvero quelle con $k=1,3,4$) sia quelle che \"non servono\" ($k=0,2$), possono essere calcolate partendo da $a_0=a\\cdot 2^0=a$ e raddoppiando il valore ad ogni iterazione: <span style=\"color:gold\">$a_{k+1}=2\\cdot a_k$</span>\n",
    "    4. Ad inizio poniamo <span style=\"color:gold\">$z=0$</span> e ad ogni iterazione sommiamo $a_k$ a $z$ se e solo se $a_k$ \"serve\", cioè <span style=\"color:gold\">se il $k$-esimo bit di $b$ è 1</span>."
   ]
  },
  {
   "cell_type": "markdown",
   "metadata": {},
   "source": [
    "* Nel codice Python che segue: (1) le moltiplicazioni per 2 sono eseguite mediante <span style=\"color:gold\">shift</span>, (2) dopo ogni operazione viene eseguita la <span style=\"color:gold\">riduzione modulo $n$</span>, e (3) i bit di $b$ vengono rivelati mediante <span style=\"color:gold\">successive divisioni per 2</span>, calcolate ancora mediante shift."
   ]
  },
  {
   "cell_type": "code",
   "execution_count": null,
   "metadata": {},
   "outputs": [],
   "source": [
    "def modprod(a,b,n):\n",
    "    '''Computes the product ab mod n using additions and shifts only. \n",
    "       For the computation of remainders x mod n, we note that x is always\n",
    "       less than 2n (except possibly for the input parameters a and b).\n",
    "       Hence integer division is not required.\n",
    "    '''\n",
    "    def easymod(x):\n",
    "        'x<2n, always'\n",
    "        nonlocal n\n",
    "        if x>=n:\n",
    "            return x-n\n",
    "        return x\n",
    "    if b==0:\n",
    "        return 0\n",
    "    a = a%n              # If a>n replace a with a mod n\n",
    "    b = b%n              # Idem\n",
    "    z = 0                # z accumulates the partial sums a2^k\n",
    "    while b>0:\n",
    "      if b&1:            # Use the current value of a if needed\n",
    "        z = easymod(z+a)  \n",
    "      a = easymod(a<<1)  # prepare for the next step\n",
    "      b = b >> 1         # shift b\n",
    "    return z"
   ]
  },
  {
   "cell_type": "code",
   "execution_count": null,
   "metadata": {
    "scrolled": true
   },
   "outputs": [],
   "source": [
    "modprod(2**253-1,2*135-5,7101)==((2**253-1)*(2*135-5))%7101"
   ]
  },
  {
   "cell_type": "markdown",
   "metadata": {},
   "source": [
    "#### <span style=\"color:cyan\">L'algoritmo di esponenziazione</span>\n",
    "\n",
    "* Utilizza la <span style=\"color:gold\">stessa tecnica</span> impiegata per il calcolo del prodotto.\n",
    "* Supponiamo di voler calcolare <span style=\"color:gold\">$a^b\\mod n$</span>, e supponiamo ancora <span style=\"color:gold\">$b=26_{10}=11010_2$</span>.\n",
    "* Abbiamo quindi $a^{26}=a^{2^4+2^3+2^1}=a^{2^4}a^{2^3}a^{2^1}$.\n",
    "* Allora, similmente al modo con cui si procede nel caso del prodotto, possiamo determinare tutte le <span style=\"color:gold\">potenze $a_k=a^{2^k}$</span> partendo da <span style=\"color:gold\">$a_0=a^{2^0}=a$</span> e calcolando ad ogni iterazione\n",
    "$$a_{k+1}=a_k^2=\\left(a^{2^k}\\right)^2=a^{2\\cdot2^k}=a^{2^{k+1}}$$\n",
    "* Nel caso del prodotto, i risultati vengono \"accumulati\" <span style=\"color:gold\">sommando i contributi $a_k$</span> ad una variabile inizializzata al valore 0. \n",
    "* Nel caso dell'esponenziale, i risultati vengono invece accumulati <span style=\"color:gold\">moltiplicando i contributi $a_k$</span> ad una variabile inizializzata a 1. \n",
    "* Il codice Python è essenzialmente \"identico\" a quello del prodotto"
   ]
  },
  {
   "cell_type": "code",
   "execution_count": null,
   "metadata": {},
   "outputs": [],
   "source": [
    "def modexp(a,b,n):\n",
    "    'Efficiently computes a^b mod n.'\n",
    "    a = a%n     # If a>n, replaces it with a mod n (of course, this cannot be made with b)\n",
    "    p = 1       # p accumulates the partial products a^(2^k)\n",
    "    while b>0:\n",
    "        if b&1: # If the rightmost bit of b is 1, the current value of a must be used\n",
    "            p = modprod(p,a,n)\n",
    "        a = modprod(a,a,n)   # prepare for the next step\n",
    "        b = b >> 1           # shift b\n",
    "    return p"
   ]
  },
  {
   "cell_type": "code",
   "execution_count": null,
   "metadata": {
    "scrolled": false
   },
   "outputs": [],
   "source": [
    "modexp(1138,323,101)==(1138**323)%101"
   ]
  },
  {
   "cell_type": "markdown",
   "metadata": {},
   "source": [
    "#### <span style=\"color:cyan\">L'inversa dell'esponenziale modulare: il logaritmo discreto</span>\n",
    "* Come nel caso dei numeri reali, se in un insieme $\\zn^*$ vale $b^e = x\\mod n$, l'esponente $e$ è detto <span style=\"color:gold\">logaritmo (discreto)</span> in base $b$ di $x$, e si scrive $e=\\log_b x\\mod n$.\n",
    "* Da quanto abbiamo visto a proposito dei gruppi ciclici, se $p$ è primo esiste sempre una \"base\" $g$ per cui il logaritmo discreto è definito per ogni elemento di $\\zp^*$. Tale base deve essere un generatore del gruppo.\n",
    "* Si parla poi di logaritmo anche nel caso di <span style=\"color:gold\">gruppi additivi</span>. Il valore di $k$ tale che $k\\cdot g = x\\mod n$ è cioè anch'esso detto logaritmo in base $g$ di $x$. \n",
    "* Quest'ultima definizione ci \"farà comodo\" quando parleremo di crittografia su <span style=\"color:gold\">curve ellittiche</span>."
   ]
  },
  {
   "cell_type": "markdown",
   "metadata": {},
   "source": [
    "#### <span style=\"color:cyan\">Radici primitive (generatori)</span>\n",
    "* Per un gruppo $\\zp^*$ arbitrario, <span style=\"color:gold\">non sono però noti algoritmi polinomiali</span> per decidere se un elemento $a\\in\\zp^*$ è una radice primitiva né tantomeno algoritmi polinomiali per trovarne una.\n",
    "* Questo anche se il loro numero è relativamente elevato.\n",
    "* Più precisamente, si può dimostrare che il numero di radici primitive di $\\zn^*$ è pari al valore di una funzione molto nota in teoria dei numeri, e precisamente la <span style=\"color:gold\">funzione (toziente) di Eulero</span>, denotata con $\\phi(n)$.\n",
    "$$\n",
    "\\phi(n)=\\left|\\{i|1\\leq i<n\\ \\ \\mathrm{e}\\ \\ \\mcd(i,n)=1\\}\\right|\n",
    "$$\n",
    "* A parole, $\\phi(n)$ è il numero di interi minori di $n$ e <span style=\"color:gold\">coprimi con $n$</span> (ivi incluso 1).\n",
    "* La seguente funzione (particolarmente inefficiente...) calcola $\\phi(n)$"
   ]
  },
  {
   "cell_type": "code",
   "execution_count": null,
   "metadata": {},
   "outputs": [],
   "source": [
    "def phi(n):\n",
    "    return [x for x in range(1,n) if Euclid(x,n)==1]"
   ]
  },
  {
   "cell_type": "code",
   "execution_count": null,
   "metadata": {
    "scrolled": false
   },
   "outputs": [],
   "source": [
    "phi(22)"
   ]
  },
  {
   "cell_type": "markdown",
   "metadata": {},
   "source": [
    "* Incontreremo ancora, a proposito del protocollo RSA, la funzione $\\phi$.\n",
    "* Ci interessa in  particolare il caso in cui <span style=\"color:gold\">$n$ è il prodotto di due numeri primi</span> $n=p\\cdot q$. In tal è di facile verifica che vale $\\phi(n)=(p-1)(q-1)$\n",
    "* Infatti, fra i numeri minori $n$, <span style=\"color:gold\">1 ogni $p$ numeri</span> non è coprimo con $n$. Si tratta dei $q-1$ numeri $p,2p,\\ldots,(q-1)p$.\n",
    "* Analogamente, <span style=\"color:gold\">1 ogni $q$ numeri</span> non è coprimo con $n$ e si tratta dei $p-1$ numeri $q,2q,\\ldots,(p-1)q$.\n",
    "* In queste due sequenze <span style=\"color:gold\">non ci sono elementi comuni</span> proprio perché $p$ e $q$ sono coprimi fra loro.\n",
    "* <span style=\"color:gold\">Tenendo conto del numero 1</span>, abbiamo dunque\n",
    "\\begin{eqnarray*}\n",
    "\\phi(n)&=&n-(p-1)-(q-1)-1\\\\\n",
    "&=&p\\cdot q-p-(q-1)\\\\\n",
    "&=&p(q-1)-(q-1)\\\\\n",
    "&=&(p-1)(q-1)\n",
    "\\end{eqnarray*}\n",
    "* Questo ragionamento può essere comunque <span style=\"color:gold\">esteso ad ogni possibile valore di $n$</span>, utilizzando la scomposizione in primi "
   ]
  },
  {
   "cell_type": "markdown",
   "metadata": {},
   "source": [
    "### <span style=\"color:cyan\">Il calcolo del logaritmo è (apparentemente) difficile</span>\n",
    "\n",
    "* <span style=\"color:gold\">Non sono noti</span> algoritmi polinomiali per il calcolo del logaritmo discreto.\n",
    "* Tutti gli algoritmi noti hanno <span style=\"color:gold\">worst-case esponenziale</span> nella lunghezza dei numeri.\n",
    "* Essi non fanno cioè \"sostanzialmente\" meglio dell'approccio a <span style=\"color:gold\">forza bruta</span>, che prova tutti gli esponenti fino a trovare quello corretto (tempo atteso $O(2^{n-1})$ per numeri di $n$ bit).\n",
    "* In questo corso ne vedremo solo uno, perché realmente molto semplice, il cui costo atteso è $O(2^{n/2})$, ma che è meglio caratterizzato dal prodotto spazio$\\times$tempo impiegato, come vedremo subito."
   ]
  },
  {
   "cell_type": "markdown",
   "metadata": {},
   "source": [
    "#### <span style=\"color:cyan\">Algoritmo baby-steps giant-steps BSGS)</span>\n",
    "* Si tratta sempre di un algoritmo <span style=\"color:gold\">brute-force</span> che però consente di stabilire, entro certi limiti, se privilegiare lo <span style=\"color:gold\">spazio oppure il tempo</span>\n",
    "* L'algoritmo necessita solo della conoscenza del modulo $p$, oltre che della base $g$ del logaritmo da calcolare (la radice primitiva), e procede calcolando <span style=\"color:gold\">due successioni di numeri</span>, una con incrementi \"piccoli\", l'altra con incrementi \"grandi\", da cui anche il nome dell'algoritmo (cosa che però è più evidente nel caso di gruppo additivo)\n",
    "* Un termine che <span style=\"color:gold\">compare in entrambe le successioni</span> (si parla anche di <span style=\"color:gold\">collisione</span>) consente di calcolare il logaritmo."
   ]
  },
  {
   "cell_type": "markdown",
   "metadata": {},
   "source": [
    "#### <span style=\"color:cyan\">Pseudocodice</span> \n",
    "1. Scegli due interi $r$ e $s$ tali che <span style=\"color:gold\">$r\\cdot s\\geq p$</span>. Si noti che ogni numero $t$ in $\\zp$ può essere espresso come <span style=\"color:gold\">$t=j+i\\cdot r$</span>, $j=0,1,\\ldots,r-1$ e $i=0,1,\\ldots,(s-1)$ .\n",
    "$$\\begin{array}{rcl}\n",
    "(0,0)&\\rightarrow&0\\\\\n",
    "(0,1)&\\rightarrow&1\\\\\n",
    "&\\ldots\\\\\n",
    "(0,r-1)&\\rightarrow&r-1\\\\\n",
    "(1,0)&\\rightarrow&r\\\\\n",
    "(1,1)&\\rightarrow&r+1\\\\\n",
    "&\\ldots\\\\\n",
    "(s-1,r-1)&\\rightarrow&(s-1)\\cdot r+r-1=s\\cdot r-1\n",
    "\\end{array}\n",
    "$$\n",
    "2. Calcola le <span style=\"color:gold\">due successioni</span> (per semplicità omettiamo l'operazione di calcolo del resto)\n",
    "    * $1,g,g^{2},\\ldots,g^{r-1}$&nbsp;&nbsp;&nbsp;<span style=\"color:gold\">baby steps</span>\n",
    "    * $x,xg^{-r},xg^{-2r},\\ldots,xg^{-(s-1)r}$&nbsp;&nbsp;&nbsp;<span style=\"color:gold\">giant steps</span>\n",
    "3. Se, per qualche valore di $i$ e $j$, risulta $g^i=xg^{-jr}$ e, riordinando:\n",
    "$$\n",
    "g^{i+jr} = x, \\qquad \\mathrm{da\\ cui}\\qquad i+jr=\\log_gx \n",
    "$$\n",
    "\n",
    "* La correttezza dipende dal fatto che, come già sottolineato, ogni numero in $\\zp$ può essere espresso come somma $i+jr$ se $i$ e $j$ variano nel range indicato."
   ]
  },
  {
   "cell_type": "markdown",
   "metadata": {},
   "source": [
    "#### <span style=\"color:cyan\">Implementazione</span>\n",
    "* L'algoritmo viene implementato memorizzando i termini della successione baby-staps in una <span style=\"color:gold\">lookup table $T$</span>, che viene poi consultata con i termini della successione giant-steps, alla <span style=\"color:gold\">ricerca di una collisione</span>\n",
    "* Il <span style=\"color:gold\">tempo di esecuzione dell'algoritmo è $O(r+s)$</span>, sempre naturalmente che $T$ supporti le ricerche in tempo $O(1)$, e poiché $r\\cdot s\\geq p$ il minimo si ottiene ponendo <span style=\"color:gold\">$r=s=\\lceil\\sqrt{p}\\rceil$</span>\n",
    "* Il consumo di <span style=\"color:gold\">spazio è $O(r)$</span> e dunque si può ridurre arbitrariamente, al prezzo di aumentare il numero di termini della successione giant-steps e dunque il tempo di esecuzione"
   ]
  },
  {
   "cell_type": "markdown",
   "metadata": {},
   "source": [
    "#### <span style=\"color:cyan\">Qualche esperimento</span>\n",
    "* Definiamo una funzione, safe group, che restituisce un safe prime $p$ e un suo generatore $g$"
   ]
  },
  {
   "cell_type": "code",
   "execution_count": null,
   "metadata": {},
   "outputs": [],
   "source": [
    "import Crypto.Util.number as utils"
   ]
  },
  {
   "cell_type": "code",
   "execution_count": null,
   "metadata": {},
   "outputs": [],
   "source": [
    "utils.isPrime(11)"
   ]
  },
  {
   "cell_type": "code",
   "execution_count": null,
   "metadata": {},
   "outputs": [],
   "source": [
    "from os import urandom\n",
    "def safeprime(p):\n",
    "    '''Checks whether p=2*q+1 and q are primes'''\n",
    "    if not p&1:\n",
    "        return False\n",
    "    q = p-1>>1\n",
    "    return q&1 and utils.isPrime(p) and utils.isPrime(q) \n",
    "def safegroup(b):\n",
    "    '''Returns a pair p,g where p is a 8*b bit safe prime \n",
    "       and g is either 2 or 5\n",
    "    '''\n",
    "    while True:\n",
    "        while (q:=int.from_bytes(urandom(b),'big')|1) and not safeprime((q<<1)+1):\n",
    "            pass\n",
    "        p = (q<<1)+1\n",
    "        if p%8==3:\n",
    "            return p,2\n",
    "        elif p%5 != 4:\n",
    "            return p,5"
   ]
  },
  {
   "cell_type": "code",
   "execution_count": null,
   "metadata": {
    "scrolled": true
   },
   "outputs": [],
   "source": [
    "p,g = safegroup(5)\n",
    "print(p,g)"
   ]
  },
  {
   "cell_type": "code",
   "execution_count": null,
   "metadata": {},
   "outputs": [],
   "source": [
    "# Implementazione come dizionario\n",
    "class lookuptabled(dict):\n",
    "    def __new__(cls,*args):\n",
    "        self = super().__new__(cls)\n",
    "        return self\n",
    "    def __init__(self,k=None,v=None):\n",
    "        if k is not None:\n",
    "            self[k]=v\n",
    "    def __getitem__(self,k):\n",
    "        v = super().get(k,None)\n",
    "        return v"
   ]
  },
  {
   "cell_type": "code",
   "execution_count": null,
   "metadata": {},
   "outputs": [],
   "source": [
    "# Implementazione come lista ordinata di coppie (chiave,valore)\n",
    "from bisect import bisect_left,insort_left\n",
    "class lookuptablel:\n",
    "    def __init__(self,k=None,v=None):\n",
    "        self.L = []\n",
    "        if k is not None:\n",
    "            self.L.append((k,v))\n",
    "    def __getitem__(self,k):\n",
    "        pos = bisect_left(self.L,(k,-1))\n",
    "        if pos<len(self.L):\n",
    "            p = self.L[pos]\n",
    "            if p[0]==k:\n",
    "                return p[1]\n",
    "        return None\n",
    "    def __setitem__(self,k,v):\n",
    "        insort_left(self.L,(k,v)) \n",
    "    def __repr__(self):\n",
    "        return str(self.L)"
   ]
  },
  {
   "cell_type": "code",
   "execution_count": null,
   "metadata": {},
   "outputs": [],
   "source": [
    "from ACLIB.utils import intsqrt, modprod, modexp, modular_inverse\n",
    "def BSGS(g,x,n,lookuptable=lookuptabled,rmax=10**8):\n",
    "    '''Computes the discrete logarithm a=log_g x mod n,\n",
    "       where g is a primitive root of the multiplicative group Z*_n.\n",
    "       Uses the Baby-steps Giant-steps algorithm with rmax default\n",
    "       maximum number of baby steps.\n",
    "    '''\n",
    "    r = min(intsqrt(n)+1,rmax); s = (n // r) + 1\n",
    "    # Start baby-steps\n",
    "    bs = lookuptable(1,0)     # First pair in the baby-steps lookup table\n",
    "    v = g                     # v = g^1 mod n = g (assuming g<n)\n",
    "    for i in range(1,r):  \n",
    "        bs[v]=i\n",
    "        v = modprod(v,g,n)\n",
    "    # Start giant-steps\n",
    "    gr = modexp(modular_inverse(g,n),r,n)\n",
    "    R = 0\n",
    "    xr = x\n",
    "    while R<s*r:\n",
    "        e = bs[xr]\n",
    "        if e is not None:\n",
    "            return (e+R)%n\n",
    "        xr = modprod(xr,gr,n)\n",
    "        R += r\n",
    "    return None"
   ]
  },
  {
   "cell_type": "code",
   "execution_count": null,
   "metadata": {},
   "outputs": [],
   "source": [
    "from time import time"
   ]
  },
  {
   "cell_type": "code",
   "execution_count": null,
   "metadata": {},
   "outputs": [],
   "source": [
    "# Calcoliamo logaritmo discreto di 19 modulo p in base g \n",
    "start = time()\n",
    "e = BSGS(g,19,p,lookuptable=lookuptablel)\n",
    "print(f\"{time()-start:.2f}\")\n",
    "print(e)"
   ]
  },
  {
   "cell_type": "code",
   "execution_count": null,
   "metadata": {},
   "outputs": [],
   "source": [
    "modexp(g,e,p)"
   ]
  },
  {
   "cell_type": "code",
   "execution_count": null,
   "metadata": {},
   "outputs": [],
   "source": [
    "start = time()\n",
    "e = BSGS(g,19,p)\n",
    "print(f\"{time()-start:.2f}\")\n",
    "print(e)"
   ]
  },
  {
   "cell_type": "code",
   "execution_count": null,
   "metadata": {
    "scrolled": true
   },
   "outputs": [],
   "source": [
    "modexp(g,e,p)"
   ]
  }
 ],
 "metadata": {
  "kernelspec": {
   "display_name": "Python 3 (ipykernel)",
   "language": "python",
   "name": "python3"
  },
  "language_info": {
   "codemirror_mode": {
    "name": "ipython",
    "version": 3
   },
   "file_extension": ".py",
   "mimetype": "text/x-python",
   "name": "python",
   "nbconvert_exporter": "python",
   "pygments_lexer": "ipython3",
   "version": "3.11.5"
  }
 },
 "nbformat": 4,
 "nbformat_minor": 4
}
