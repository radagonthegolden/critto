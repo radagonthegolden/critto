{
 "cells": [
  {
   "cell_type": "markdown",
   "metadata": {},
   "source": [
    "# <span style=\"color:gold\">Algoritmi di Crittografia (2023/24)</span> \n",
    "## Notebook 6"
   ]
  },
  {
   "cell_type": "code",
   "execution_count": null,
   "metadata": {},
   "outputs": [],
   "source": [
    "from IPython.display import HTML\n",
    "HTML('<style>{}</style>'.format(open('/home/mauro/.jupyter/custom/custom.css').read()))"
   ]
  },
  {
   "cell_type": "markdown",
   "metadata": {},
   "source": [
    "Latex definitions\n",
    "$\\DeclareMathOperator*{\\prob}{prob}$\n",
    "$\\DeclareMathOperator*{\\mod}{mod}$\n",
    "$\\DeclareMathOperator*{\\ln}{ln}$\n",
    "$\\def\\zn{\\mathbf{Z}_n}$\n",
    "$\\def\\zp{\\mathbf{Z}_p}$\n",
    "$\\def\\mcd{\\mathrm{MCD}}$"
   ]
  },
  {
   "cell_type": "markdown",
   "metadata": {},
   "source": [
    "* In questo notebook presentiamo i sistemi asimmetrici proposti da <span style=\"color:gold\">M.O. Rabin</span> e <span style=\"color:gold\">T. El Gamal</span>\n",
    "* Si tratta di due sistemi che non hanno guadagnato molta importanza, perché \"oscurati\" da RSA.\n",
    "* El Gamal è interessante perché mostra come solo un \"piccolo passo avanti\", rispetto al protocollo di scambio di chiavi proposto da Diffie ed Hellman, avrebbe prodotto il <span style=\"color:gold\">primo vero protocollo asimmetrico</span> (qualche anno prima di RSA)\n",
    "* Anche la sicurezza del protocollo di El Gamal è dunque basata sul <span style=\"color:gold\">logaritmo discreto</span>\n",
    "* Il protocollo di Rabin è interessante perché, a differenza di RSA, è \"dimostrabilmente\" <span style=\"color:gold\">equivalente alla fattorizzazione</span>, su cui basa la propria sicurezza\n",
    "* Vedremo però che ha un \"difetto\" che ne ha sbarrato la strada all'impiego pratico"
   ]
  },
  {
   "cell_type": "markdown",
   "metadata": {},
   "source": [
    "### <span style=\"color:gold\">Il sistema crittografico asimmetrico di Rabin</span>\n",
    "* Di poco posteriore alla pubblicazione di RSA, il sistema inventato da Michael O. Rabin ha la ragguardevole proprietà teorica di essere <span style=\"color:gold\">equivalente alla fattorizzazione</span>\n",
    "* Più precisamente, un <span style=\"color:gold\">algoritmo polynomial time</span> in grado di violare il sistema di Rabin potrebbe essere utilizzato per la fattorizzazione di interi (e viceversa)\n",
    "* Possiede però anche una limitazione, che ne ha impedito la diffusione\n",
    "* La decifrazione produce infatti <span style=\"color:gold\">quattro possibili candidati</span> come testo in chiaro corrispondente ad un dato ciphertext e, se il testo originale è un numero o una sequenza di bit, questo può essere un serio problema"
   ]
  },
  {
   "cell_type": "markdown",
   "metadata": {},
   "source": [
    "#### <span style=\"color:cyan\">Un esempio numerico preliminare ralativo al calcolo delle radici quadrate</span>"
   ]
  },
  {
   "cell_type": "code",
   "execution_count": null,
   "metadata": {},
   "outputs": [],
   "source": [
    "from random import randint\n",
    "from ACLIB.utils import modular_inverse, Euclid, getprime"
   ]
  },
  {
   "cell_type": "markdown",
   "metadata": {},
   "source": [
    "* Vogliamo calcolare le radici quadrate di un numero $y$ in $Z_n$, dove $n$ è il <span style=\"color:gold\">prodotto di due numeri primi</span>\n",
    "* Naturalmente il numero deve essere un <span style=\"color:gold\">residuo quadratico modulo $n$</span> (l'equivalente di un quadrato perfetto)\n",
    "* Per ottenerlo, procediamo a rovescio: scegliamo a caso un numero $x$ e lo eleviamo al quadrato"
   ]
  },
  {
   "cell_type": "code",
   "execution_count": null,
   "metadata": {},
   "outputs": [],
   "source": [
    "p = 13\n",
    "q = 23\n",
    "n = p*q\n",
    "print(n)"
   ]
  },
  {
   "cell_type": "code",
   "execution_count": null,
   "metadata": {
    "scrolled": true
   },
   "outputs": [],
   "source": [
    "x = randint(1,n-1)\n",
    "y = x*x%n\n",
    "print(y)"
   ]
  },
  {
   "cell_type": "markdown",
   "metadata": {},
   "source": [
    "* Naturalmente, così facendo, una radice di $y$ già la conosciamo, ed è ovviamente $x$. In realtà ne conosciamo subito un'altra, l'opposto di $x$ in $Z_n$ e cioè $n-x$"
   ]
  },
  {
   "cell_type": "code",
   "execution_count": null,
   "metadata": {
    "scrolled": false
   },
   "outputs": [],
   "source": [
    "(n-x)*(n-x)%n"
   ]
  },
  {
   "cell_type": "code",
   "execution_count": null,
   "metadata": {},
   "outputs": [],
   "source": [
    "print(x,n-x)"
   ]
  },
  {
   "cell_type": "markdown",
   "metadata": {},
   "source": [
    "* Poiché però $n$ è il prodotto di due primi, le radici quadrate sono in tutto 4\n",
    "* Come si calcolano le altre 2 (e, in generale, <span style=\"color:gold\">come si calcolano tutte e 4 le radici di un residuo quadratico $y$ arbitrario</span>)?"
   ]
  },
  {
   "cell_type": "markdown",
   "metadata": {},
   "source": [
    "* Si noti innanzitutto che $y\\mod p$ e $y\\mod q$ sono a loro volta <span style=\"color:gold\">residui quadratici</span> (modulo $p$ e modulo $q$, rispettivamente)\n",
    "* Infatti, una radice di $y\\mod p$ è $x\\mod p$:\n",
    "$$\n",
    "((x\\mod p)\\cdot(x\\mod p))\\mod p = (x\\cdot x)\\mod p = ((x\\cdot x)\\mod n)\\mod p = y\\mod p\n",
    "$$\n",
    "* Analogamente una radice di $y\\mod p$ è $x\\mod q$.\n",
    "* Ora, il calcolo delle radici quadrate di $y$ modulo $n$ è facile proprio se conosciamo una radice di $y$ modulo $p$ e una modulo $q$\n",
    "* Per scopi didattici (e per numeri piccoli) possiamo procedere col metodo <span style=\"color:gold\">brute force</span>"
   ]
  },
  {
   "cell_type": "code",
   "execution_count": null,
   "metadata": {},
   "outputs": [],
   "source": [
    "# Calcolo delle radici di y modulo p\n",
    "yp = y%p\n",
    "z1  = 1\n",
    "while (z1*z1)%p != yp:  \n",
    "    z1 = z1+1\n",
    "z2 = p-z1\n",
    "print(z1,z2)"
   ]
  },
  {
   "cell_type": "code",
   "execution_count": null,
   "metadata": {},
   "outputs": [],
   "source": [
    "# Calcolo delle radici di y modulo q\n",
    "yq = y%q\n",
    "w1  = 1\n",
    "while (w1*w1)%q != yq:   # Se y è un r.q. mod n lo è anche mod q\n",
    "    w1 = w1+1\n",
    "w2 = q-w1\n",
    "print(w1,w2)"
   ]
  },
  {
   "cell_type": "markdown",
   "metadata": {},
   "source": [
    "* Per calcolare le 4 radici di $y$ mod $n$ calcoliamo preliminarmente le <span style=\"color:gold\">\"solite\"</span> due quantità\n",
    "$$\n",
    "c_1 = q\\cdot(q^{-1}\\mod p)\\\\\n",
    "c_2 = p\\cdot(p^{-1}\\mod q)\n",
    "$$"
   ]
  },
  {
   "cell_type": "code",
   "execution_count": null,
   "metadata": {},
   "outputs": [],
   "source": [
    "c1 = q*(modular_inverse(q,p))\n",
    "c2 = p*(modular_inverse(p,q))"
   ]
  },
  {
   "cell_type": "code",
   "execution_count": null,
   "metadata": {},
   "outputs": [],
   "source": [
    "print(c1%p,c1%q,c2%p,c2%q)"
   ]
  },
  {
   "cell_type": "code",
   "execution_count": null,
   "metadata": {
    "scrolled": false
   },
   "outputs": [],
   "source": [
    "R1 = (c1*z1+c2*w1)%n      \n",
    "R2 = (c1*z1-c2*w1)%n               \n",
    "R3 = (-c1*z1+c2*w1)%n\n",
    "R4 = (-c1*z1-c2*w1)%n\n",
    "print(R1,R2,R3,R4)"
   ]
  },
  {
   "cell_type": "markdown",
   "metadata": {},
   "source": [
    "* Naturalmente, due delle quattro radici sono fra loro <span style=\"color:gold\">congrue modulo $p$</span> e due sono <span style=\"color:gold\">congrue modulo $q$</span>"
   ]
  },
  {
   "cell_type": "code",
   "execution_count": null,
   "metadata": {},
   "outputs": [],
   "source": [
    "from ACLIB.utils import Euclid"
   ]
  },
  {
   "cell_type": "code",
   "execution_count": null,
   "metadata": {},
   "outputs": [],
   "source": [
    "Euclid(R2-R3,n)==q"
   ]
  },
  {
   "cell_type": "markdown",
   "metadata": {},
   "source": [
    "N.B. Prendere $z_1$ e $w_1$ è <span style=\"color:gold\">arbitrario</span>"
   ]
  },
  {
   "cell_type": "code",
   "execution_count": null,
   "metadata": {},
   "outputs": [],
   "source": [
    "(c1*z2+c2*w1)%n"
   ]
  },
  {
   "cell_type": "code",
   "execution_count": null,
   "metadata": {
    "scrolled": false
   },
   "outputs": [],
   "source": [
    "print(R1*R1%n)\n",
    "print(R2*R2%n)\n",
    "print(R3*R3%n)\n",
    "print(R4*R4%n)"
   ]
  },
  {
   "cell_type": "markdown",
   "metadata": {},
   "source": [
    "* Naturalmente due delle 4 radici coincidono con le due che (in questo caso) già conoscevamo"
   ]
  },
  {
   "cell_type": "code",
   "execution_count": null,
   "metadata": {},
   "outputs": [],
   "source": [
    "print(x,n-x)"
   ]
  },
  {
   "cell_type": "markdown",
   "metadata": {},
   "source": [
    "#### <span style=\"color:cyan\">L'algoritmo generale</span>\n",
    "\n",
    "* Come per RSA, anche nel protocollo di Rabin la generazione delle chiavi richiede <span style=\"color:gold\">un solo parametro di input</span>, che è la lunghezza in bit, indicata con $N$, dell'intero con cui si effettueranno le riduzioni modulari. \n",
    "* Il messaggio $M$ da cifrare dovrà essere <span style=\"color:gold\">un numero minore del modulo</span> ovvero trasformato in un tale numero per mezzo di una <span style=\"color:gold\">funzione invertibile</span>.\n",
    "\n",
    "<br />\n",
    "\n",
    "#### <span style=\"color:cyan\">Generazione delle chiavi (Alice)</span>\n",
    "1. Genera <span style=\"color:gold\">due numeri primi a caso</span>, $p\\equiv 3\\ (\\mod 4)$ e $q\\equiv 3\\ (\\mod 4)$, di lunghezza $N/2$ bit;\n",
    "2. calcola il <span style=\"color:gold\">prodotto $n=p\\cdot q$</span>;\n",
    "3. diffondi <span style=\"color:gold\">$n$ come chiave pubblica</span> e conserva la coppia <span style=\"color:gold\">$p, q$ come chiave segreta</span>.\n",
    "\n",
    "* Nota: il fatto che i numeri $p$ e $q$ siano del tipo $4k+3$ non è decisivo. Serve però a rendere più facile il <span style=\"color:gold\">calcolo delle radici quadrate</span> in fase di decifrazione\n",
    "\n",
    "<br />\n",
    "\n",
    "#### <span style=\"color:cyan\">Cifratura di un messaggio $M$ (Bob)</span>\n",
    "1. Si procura la chiave pubblica $n$ di Alice;\n",
    "2. calcola <span style=\"color:gold\">$C=M^2\\ \\mathrm{mod}\\ n$</span>;\n",
    "3. invia $C$ ad Alice come messaggio cifrato</li>\n",
    "\n",
    "<br />\n",
    "\n",
    "#### <span style=\"color:cyan\">Decifrazione del messaggio $C$ (Alice)</span>\n",
    "\n",
    "* Ricordiamo preliminarmente che, se $p$ divide $n$, allora vale <span style=\"color:gold\">$(x\\mod n)\\mod p=x\\mod p$</span>. La dimostrazione è semplice e discende direttamente dalla definizione di modulo. \n",
    "\n",
    "1. Calcola <span style=\"color:gold\">$M_p=C^{\\frac{p+1}{4}}\\mod p$</span> e <span style=\"color:gold\">$M_q=C^{\\frac{q+1}{4}}\\mod q$</span>. Si noti quanto segue.\n",
    "    * $M_p$ è una delle <span style=\"color:gold\">radici quadrate di $C$</span> modulo $p$ perché \n",
    "\\begin{eqnarray*}\n",
    "M_p^2\\mod p&=&\\left(C^{\\frac{p+1}{4}}\\mod p\\right)^2\\mod p\\\\\n",
    "&=&C^{\\frac{p+1}{2}}\\mod p\\\\\n",
    "&=&\\left(C^{\\frac{p-1}{2}}\\cdot C\\right)\\mod p\\\\\n",
    "&=&\\left((M^2\\mod n)^{\\frac{p-1}{2}}\\cdot C\\right)\\mod p\\\\\n",
    "&=&\\left(\\left((M^2\\mod n)\\mod p)\\right)^{\\frac{p-1}{2}}\\cdot C\\right)\\mod p\\\\\n",
    "&=&\\left((M^2\\mod p)^{\\frac{p-1}{2}}\\cdot C\\right)\\mod p\\\\\n",
    "&=&\\left(M^{p-1}\\cdot C\\right)\\mod p\\\\\n",
    "&=&\\left(\\left(M^{p-1}\\mod p\\right)\\cdot C\\right)\\mod p\\\\\n",
    "&=&\\left(1\\cdot C\\right)\\mod p\\\\\n",
    "&=&C\\mod p\n",
    "\\end{eqnarray*}\n",
    "    \n",
    "    * Analogamente $M_q$ è una delle <span style=\"color:gold\">radici quadrate di $C$</span> modulo $q$\n",
    "   \n",
    "2. Calcola le seguenti quattro quantità, ciascuna delle quali è una <span style=\"color:gold\">radice quadrata di $C$ modulo $n$</span>\n",
    "    * $M_1 = \\left(\\left(q\\cdot(q^{-1}\\ \\mathrm{mod}\\ p)\\right)M_p + \\left(p\\cdot(p^{-1}\\ \\mathrm{mod}\\ q)\\right)M_q\\right)\\ \\mathrm{mod}\\ n=(c_p M_p+c_q M_q)\\mod n$\n",
    "    * $M_2 = n-M_1 = (n-M_1)\\mod n = (-M_1 \\mod n) = (-c_p M_p-c_q M_q)\\mod n$\n",
    "    * $M_3 = \\left(\\left(q\\cdot(q^{-1}\\ \\mathrm{mod}\\ p)\\right)M_p - \\left(p\\cdot(p^{-1}\\ \\mathrm{mod}\\ q)\\right)M_q\\right)\\ \\mathrm{mod}\\ n=(c_p M_p-c_q M_q)\\mod n$\n",
    "    * $M_4 = n-M_3 = (-c_p M_p+c_q M_q)\\mod n$\n",
    "3. Uno dei quattro valori è il messaggio originale"
   ]
  },
  {
   "cell_type": "markdown",
   "metadata": {},
   "source": [
    "* Dimostriamo che si tratta effettivamente delle <span style=\"color:gold\">quattro radici di $C$ modulo $n$</span>\n",
    "* Per quanto riguarda $M_1$ abbiamo\n",
    "\\begin{eqnarray*}\n",
    "M_1^2\\mod p&=&\\left(\\left(\\left(q\\cdot(q^{-1}\\ \\mathrm{mod}\\ p)\\right)M_p + \\left(p\\cdot(p^{-1}\\ \\mathrm{mod}\\ q)\\right)M_q\\right)\\ \\mathrm{mod}\\ n\\right)^2\\ \\mathrm{mod}\\ p\\\\\n",
    "&=&\\left(\\left(\\left(q\\cdot(q^{-1}\\ \\mathrm{mod}\\ p)\\right)M_p + \\left(p\\cdot(p^{-1}\\ \\mathrm{mod}\\ q)\\right)M_q\\right)\\ \\mathrm{mod}\\ p\\right)^2\\ \\mathrm{mod}\\ p\\\\\n",
    "&=&\\left(M_p\\ \\mathrm{mod}\\ p\\right)^2\\ \\mathrm{mod}\\ p\\\\\n",
    "&=&M_p^2\\ \\mathrm{mod}\\ p\\\\\n",
    "&=&C\\ \\mathrm{mod}\\ p\n",
    "\\end{eqnarray*}\n",
    "e, analogamente \n",
    "$$\n",
    "M_1^2\\mod q = C\\ \\mathrm{mod}\\ q\n",
    "$$\n",
    "Il <span style=\"color:gold\">teorema cinese dei resti</span> assicura quindi che\n",
    "$$\n",
    "M_1^2\\mod n = C\\ \\mathrm{mod}\\ n\n",
    "$$\n",
    "\n",
    "* Per quanto riguarda $M_2$, banalmente\n",
    "$$\n",
    "M_2^2\\mod n = (n-M_1)^2 \\mod n = M_1^2\\mod n = C\\ \\mathrm{mod}\\ n\n",
    "$$\n",
    "\n",
    "* La dimostrazione per $M_3$ ed $M_4$ è identica"
   ]
  },
  {
   "cell_type": "markdown",
   "metadata": {},
   "source": [
    "### <span style=\"color:cyan\">Un semplice esempio</span>"
   ]
  },
  {
   "cell_type": "code",
   "execution_count": null,
   "metadata": {},
   "outputs": [],
   "source": [
    "from ACLIB.utils import getprime, modexp, modular_inverse"
   ]
  },
  {
   "cell_type": "code",
   "execution_count": null,
   "metadata": {},
   "outputs": [],
   "source": [
    "def rabinprime(N):\n",
    "    '''Genera numeri primi n tali che n=4k+3'''\n",
    "    while True:\n",
    "        n = getprime(2**N)\n",
    "        if n%4==3:\n",
    "            return n"
   ]
  },
  {
   "cell_type": "markdown",
   "metadata": {},
   "source": [
    "#### <span style=\"color:cyan\">Generazione delle chiavi</span>"
   ]
  },
  {
   "cell_type": "code",
   "execution_count": null,
   "metadata": {},
   "outputs": [],
   "source": [
    "nbytes=16\n",
    "nbits=nbytes*8"
   ]
  },
  {
   "cell_type": "code",
   "execution_count": null,
   "metadata": {},
   "outputs": [],
   "source": [
    "p = rabinprime(nbits>>1); p"
   ]
  },
  {
   "cell_type": "code",
   "execution_count": null,
   "metadata": {},
   "outputs": [],
   "source": [
    "q = rabinprime(nbits>>1); q"
   ]
  },
  {
   "cell_type": "code",
   "execution_count": null,
   "metadata": {
    "scrolled": true
   },
   "outputs": [],
   "source": [
    "n=p*q; n"
   ]
  },
  {
   "cell_type": "code",
   "execution_count": null,
   "metadata": {},
   "outputs": [],
   "source": [
    "cp = q*modular_inverse(q,p)\n",
    "cq = p*modular_inverse(p,q)\n",
    "print(cp,cq)"
   ]
  },
  {
   "cell_type": "markdown",
   "metadata": {},
   "source": [
    "#### <span style=\"color:cyan\">Cifratura</span>"
   ]
  },
  {
   "cell_type": "code",
   "execution_count": null,
   "metadata": {},
   "outputs": [],
   "source": [
    "m=b'pippo'"
   ]
  },
  {
   "cell_type": "code",
   "execution_count": null,
   "metadata": {},
   "outputs": [],
   "source": [
    "M = int.from_bytes(m,'big'); M"
   ]
  },
  {
   "cell_type": "code",
   "execution_count": null,
   "metadata": {
    "scrolled": true
   },
   "outputs": [],
   "source": [
    "C=(M*M)%n; C"
   ]
  },
  {
   "cell_type": "markdown",
   "metadata": {},
   "source": [
    "#### <span style=\"color:cyan\">Decifrazione</span>"
   ]
  },
  {
   "cell_type": "code",
   "execution_count": null,
   "metadata": {},
   "outputs": [],
   "source": [
    "Mp = modexp(C,(p+1)>>2,p)\n",
    "Mq = modexp(C,(q+1)>>2,q)\n",
    "print(Mp,Mq)"
   ]
  },
  {
   "cell_type": "code",
   "execution_count": null,
   "metadata": {},
   "outputs": [],
   "source": [
    "M1 = (cp*Mp+cq*Mq)%n\n",
    "M2 = (cp*Mp-cq*Mq)%n\n",
    "M3 = (-cp*Mp+cq*Mq)%n\n",
    "M4 = (-cp*Mp-cq*Mq)%n"
   ]
  },
  {
   "cell_type": "code",
   "execution_count": null,
   "metadata": {},
   "outputs": [],
   "source": [
    "# Per inciso...\n",
    "Mi = (M1,M2,M3,M4)\n",
    "[modexp(Mi[i],2,n) == C for i in range(4)]"
   ]
  },
  {
   "cell_type": "code",
   "execution_count": null,
   "metadata": {
    "scrolled": true
   },
   "outputs": [],
   "source": [
    "for i in range(4):\n",
    "    print(Mi[i].to_bytes(16,'big'))"
   ]
  },
  {
   "cell_type": "markdown",
   "metadata": {},
   "source": [
    "#### <span style=\"color:cyan\">Equivalenza con il problema della fattorizzazione</span>\n",
    "* Dobbiamo dimostrare che se siamo in grado di decifrare (con un'incertezza di 1 su 4) allora <span style=\"color:gold\">possiamo anche fattorizzare $n$</span>\n",
    "* Il <span style=\"color:gold\">viceversa è ovvio</span>"
   ]
  },
  {
   "cell_type": "markdown",
   "metadata": {},
   "source": [
    "* Abbiamo visto che le quattro radici di $C\\mod n$ corrispondono alle <span style=\"color:gold\">quattro possibili combinazioni</span> delle due radici modulo $p$ con le due radici modulo $q$\n",
    "    1. $M_1$ corrisponde alla coppia <span style=\"color:gold\">$(M_p,M_q)$</span>\n",
    "    2. $M_2$ corrisponde alla coppia $(-M_p\\mod p,-M_q\\mod q)$&nbsp;=&nbsp;<span style=\"color:gold\">$(p-M_p,q-M_q)$</span>\n",
    "    3. $M_3$ corrisponde alla coppia $(M_p,-M_q\\mod q)$&nbsp;=&nbsp;<span style=\"color:gold\">$(M_p,q-M_q)$</span>\n",
    "    4. $M_4$ corrisponde alla coppia $(-M_p\\mod p,M_q)$&nbsp;=&nbsp;<span style=\"color:gold\">$(p-M_p,M_q)$</span>\n",
    "* Si consideri l'esempio di <span style=\"color:gold\">$n=33=3\\cdot 11$</span> in cui $4$ è ovviamente un residuo quadratico\n",
    "* In tal caso abbiamo\n",
    "$$\n",
    "M_p = 4^{\\frac{3+1}{4}}\\mod 3=1\\quad\\mathrm{e}\\quad M_q=4^{\\frac{11+1}{4}}\\mod 11=9\n",
    "$$\n",
    "* Risulta inoltre\n",
    "$$\n",
    "c_p=q\\cdot(q^{-1}\\ \\mathrm{mod}\\ p)=11\\cdot(11^{-1}\\mod 3)=11\\cdot 2= 22\n",
    "$$\n",
    "e\n",
    "$$\n",
    "c_q=p\\cdot(p^{-1}\\ \\mathrm{mod}\\ q)=3\\cdot(3^{-1}\\mod 11)=3\\cdot 4= 12\n",
    "$$\n",
    "* Possiamo ora evidenziare bene la corrispondenza:\n",
    "    1. Ritroviamo $M_1=(c_p\\cdot M_p+c_q\\cdot M_q)\\mod n = (22\\cdot 1+12\\cdot 9)\\mod 33=130\\mod 33=31$\n",
    "    2. Poi $M_2=(c_p\\cdot (p-M_p)+c_q\\cdot (q-M_q))\\mod n = 68\\mod 33=2$\n",
    "    3. $M_3=(c_p\\cdot M_p+c_q\\cdot (q-M_q))\\mod n = 46\\mod 33=13$\n",
    "    4. $M_4=(c_p\\cdot (p-M_p)+c_q\\cdot M_q)\\mod n = 152\\mod 33=20$"
   ]
  },
  {
   "cell_type": "code",
   "execution_count": null,
   "metadata": {},
   "outputs": [],
   "source": [
    "# verifica\n",
    "modexp(31,2,33),modexp(2,2,33),modexp(13,2,33),modexp(20,2,33)"
   ]
  },
  {
   "cell_type": "markdown",
   "metadata": {},
   "source": [
    "* Veniamo ora alla riduzione\n",
    "* L'obiettivo è fattorizzare un numero $n$ dato in input e l'ipotesi è di disporre di un algoritmo <span style=\"color:gold\">black-box</span> che, dato un residuo quadratico $C$ modulo $n$, restituisce una delle 4 possibili radici\n",
    "di $C$ modulo $n$\n",
    "* La riduzione è un <span style=\"color:gold\">algoritmo tipo Las Vegas</span> e funziona nel modo seguente\n",
    "    1. Genero a caso un numero <span style=\"color:gold\">$r\\in \\zn$, $r\\neq 0$</span> \n",
    "    2. Se $m=\\mcd(r,n)\\neq 1$ (la famosa <span style=\"color:gold\">botta di fortuna</span>), restituisco $m$ e $n/m$\n",
    "    3. Altrimenti considero $r$ come un \"messaggio\", calcolo $C=r^2\\mod n$ e sottopongo <span style=\"color:gold\">$C$ alla black box</span>\n",
    "    4. Se $r'$ è il valore restituito dalla black-box, calcolo <span style=\"color:gold\">$m=\\mcd(r-r',n)$</span>\n",
    "    5. Se $m>1$ e $m\\neq n$ restituisco i <span style=\"color:gold\">fattori $m$ e $n/m$</span>, altrimenti ritorno al passo 1"
   ]
  },
  {
   "cell_type": "markdown",
   "metadata": {},
   "source": [
    "* La correttezza, ovvero il fatto che, con <span style=\"color:gold\">probabilità strettamente positiva</span>, al passo 5 l'algoritmo trovi effettivamente un fattore di $n$, dipende proprio dalla corrispondenza delle radici con i residui modulo $p$ e modulo $q$\n",
    "* Sappiamo che il valore $r'$ restituito dalla black box è <span style=\"color:gold\">una delle quattro radici di $r^2$</span> e che ciascuna di esse corrisponde a uno dei quattro modi con con cui possiamo <span style=\"color:gold\">combinare</span> le due radici di <span style=\"color:gold\">$r^2$ modulo $p$</span> con le due radici di <span style=\"color:gold\">$r^2$ modulo $q$</span>: si tratta dei 4 valori \n",
    "    * $r_p = r\\mod p$, \n",
    "    * $-r_p = p-r_p$,\n",
    "    * $r_q = r\\mod q$,\n",
    "    * $-r_q=q-r_q$."
   ]
  },
  {
   "cell_type": "markdown",
   "metadata": {},
   "source": [
    "* Supponiamo dunque, fissare le idee, che la radice <span style=\"color:gold\">$r$ da cui siamo partiti corrisponda alla coppia $(r_p,r_q)$</span> e consideriamo le 4 possibili risposte dell'oracolo\n",
    "    1. $r'=r$ (cioè anche $r'$ corrisponde alla coppia $(r_p,r_q)$). In tal caso $r-r'=0$ e $m=n$ e dunque, in questo caso, <span style=\"color:gold\">l'algoritmo non dà risposta</span>;\n",
    "    2. $r'$ corrisponde alla coppia $(p-r_p,q-r_q)$. Allora\n",
    "    $$\n",
    "    (r-r')\\mod p = r_p-(p-r_p)\\mod p=2r_p\\mod p\n",
    "    $$\n",
    "    e analogamente \n",
    "    $$ \n",
    "    (r-r')\\mod q=2r_q\\mod q\n",
    "    $$ da cui (sempre per il Teorema Cinese dei Resti) $r-r'\\mod n=2r\\mod n$. Allora necessariamente $\\mcd(r-r',n)=1$ (altrimenti l'algoritmo si sarebbe fermato al passo 2) e pure in questo caso, l'algoritmo <span style=\"color:gold\">non può dare risposta</span>\n",
    "    3. $r'$ corrisponde alla coppia $(r_p,q-r_q)$. In questo caso abbiamo\n",
    "    $$\n",
    "    (r-r')\\mod q = r_q-(q-r_q)\\mod q=2r_q\n",
    "    $$\n",
    "    ma $(r-r')\\mod p=0$ per cui $\\mcd(r-r',n)=p$ e l'algoritmo <span style=\"color:gold\">termina con successo</span>\n",
    "    4. $r'$ corrisponde alla coppia $(p-r_p,r_q)$. Il caso è speculare al precedente e quindi l'algoritmo <span style=\"color:gold\">termina con successo</span>\n",
    "* Poiché $r$ è scelto a caso, l'oracolo (<span style=\"color:gold\">fosse anche di tipo \"malevolo\"</span>) non può sapere a quale delle quattro radici corrisponde $C$ e dunque con <span style=\"color:gold\">probabilità almeno 0.5</span> (in realtà un poco di più perché ci potrebbe essere il \"colpo di fortuna\" al passo 2) l'algoritmo termina un round con successo"
   ]
  },
  {
   "cell_type": "code",
   "execution_count": null,
   "metadata": {},
   "outputs": [],
   "source": [
    "from random import choice\n",
    "def oracle(p,q):\n",
    "    '''Oracolo realizzato come coroutine'''\n",
    "    n=p*q\n",
    "    cp = q*modular_inverse(q,p)\n",
    "    cq = p*modular_inverse(p,q)\n",
    "    counter = 1\n",
    "    C = yield \"Oracle ready\"\n",
    "    while True:\n",
    "        rp = modexp(C,(p+1)>>2,p)\n",
    "        rq = modexp(C,(q+1)>>2,q)\n",
    "        r1 = (cp*rp+cq*rq)%n\n",
    "        r2 = n-r1\n",
    "        r3 = (cp*rp-cq*rq)%n\n",
    "        r4 = n-r3\n",
    "        print(f\"Invocazione {counter} dell'oracolo\")\n",
    "        counter += 1\n",
    "        C = yield choice([r1,r2,r3,r4])"
   ]
  },
  {
   "cell_type": "code",
   "execution_count": null,
   "metadata": {},
   "outputs": [],
   "source": [
    "from random import randint\n",
    "from ACLIB.utils import Euclid"
   ]
  },
  {
   "cell_type": "code",
   "execution_count": null,
   "metadata": {},
   "outputs": [],
   "source": [
    "N = 30\n",
    "p = rabinprime(N)\n",
    "q = rabinprime(N)\n",
    "n = p*q\n",
    "print(f\"Il numero da fattorizzare è {n} e i fattori sono {p} e {q}\")\n",
    "O = oracle(p,q)     # creazione dell'oracolo\n",
    "print(O.send(None)) # attivazione dell'oracolo, che \"ora\" è fermo a riga 8 in attesa di input\n",
    "while True:\n",
    "    r = randint(1,n-1)\n",
    "    R = (r*r)%n\n",
    "    print(f\"Il numero casuale scelto è {r}\")\n",
    "    rp = O.send(R)  # l'oracolo riceve input, calcola, restituisce e si ferma a riga 18\n",
    "    m = Euclid(r-rp,n)\n",
    "    if m==n:\n",
    "        print(f\"L'oracolo ha restituito ancora rp = r = {r}\")\n",
    "    elif  m==1:\n",
    "        print(f\"L'oracolo ha restituito rp = n-r = {rp} \")\n",
    "    else:\n",
    "        print(\"L'oracolo ha restituito una radice utile per la fattorizzazione\")\n",
    "        break\n",
    "    r = randint(1,n-1)\n",
    "    R = (r*r)%n\n",
    "# riveliamo ora p e q\n",
    "print(f\"I fattori calcolati sono {m} e {n//m}\")"
   ]
  },
  {
   "cell_type": "code",
   "execution_count": null,
   "metadata": {},
   "outputs": [],
   "source": [
    "from ACLIB.utils import modular_inverse"
   ]
  },
  {
   "cell_type": "markdown",
   "metadata": {},
   "source": [
    "### <span style=\"color:gold\">Il sistema crittografico a chiave pubblica di ElGamal</span>\n",
    "* Si tratta di un sistema proposto da Taher ElGamal nel 1985, quindi <span style=\"color:gold\">non è il primo crittosistema a chiave pubblica</span>.\n",
    "* Esso segue di qualche anno il <span style=\"color:gold\">sistema RSA</span>, brevettato nel 1977. \n",
    "* Lo trattiamo prima dell'RSA, e subito dopo il protocollo di DH per lo scambio i chiavi, in quanto è strettamente <span style=\"color:gold\">legato a quest'ultimo</span>. \n",
    "* Poiché non è stato brevettato, per molto tempo è stato inserito, insieme al protocollo <span style=\"color:gold\">DSA</span> (<span style=\"color:gold\">Digital Signature Algorithm</span>), in diverse suite crittografiche, ad esempio <span style=\"color:gold\">GNUPG</span>."
   ]
  },
  {
   "cell_type": "markdown",
   "metadata": {},
   "source": [
    "### <span style=\"color:cyan\">Descrizione del protocollo</span>\n",
    "\n",
    "* Come in qualsiasi protocollo crittografico a chiave pubblica, ci sono due momenti distinti:\n",
    "    1. <span style=\"color:gold\">generazione della coppia di chiavi</span>, pubblica e privata, con la conseguente \"diffusione\" (pubblicazione, appunto) della prima;\n",
    "    2. esecuzione di comunicazioni cifrate fra le due parti, processo a sua volta composto da <span style=\"color:gold\">cifratura e decifrazione</span>.\n",
    "* Si noti che il protocollo è asimmetrico e dunque, per fissare le idee, considereremo la generazione delle chiavi dalla <span style=\"color:gold\">sola parte di Alice</span>.\n",
    "\n",
    "\n",
    "<br />\n",
    "\n",
    "#### <span style=\"color:cyan\">Generazione delle chiavi (Alice)</span>\n",
    "1. Alice determina i parametri del protocollo: \n",
    "    * un <span style=\"color:gold\">numero primo $p$</span> di lunghezza appropriata, \n",
    "    * una <span style=\"color:gold\">radice primitiva $g$</span> di $\\mathbf{Z}_p^*$, \n",
    "    * il valore $A=g^a\\ \\mathrm{mod}\\ p$, dove $a\\in \\mathbf{Z}_p^*$ è un numero scelto <span style=\"color:gold\">uniformemente a caso</span>. \n",
    "2. Alice conserva $a$ come propria <span style=\"color:gold\">chiave segreta</span> e provvede alla diffusione della terna $(p,g,A)$ come corrispondente <span style=\"color:gold\">chiave pubblica</span>.\n",
    "\n",
    "<br />\n",
    "\n",
    "* Per questa parte del protocollo, si può osservare che la differenza con DH è solo nei <span style=\"color:gold\">destinatari della comunicazione</span> (non solo Bob bensì tutti coloro che dovranno inviare messaggi cifrati ad Alice).\n",
    "\n",
    "<br />\n",
    "\n",
    "#### <span style=\"color:cyan\">Cifratura di un messaggio $M$ (Bob)</span>\n",
    "1. Bob recupera la <span style=\"color:gold\">chiave pubblica di Alice</span>: $(p,g,A)$;\n",
    "2. sceglie un numero $b\\in \\mathbf{Z}_p^*$ <span style=\"color:gold\">uniformemente a caso</span>;\n",
    "3. calcola le <span style=\"color:gold\">due quantità</span> $B=g^b\\ \\mathrm{mod}\\ p$ e $c=\\left(A^b\\cdot M\\right)\\ \\mathrm{mod}\\ p$;\n",
    "4. invia ad Alice la coppia $C=(B,c)$, che costituisce il <span style=\"color:gold\">messaggio cifrato</span>.\n",
    "\n",
    "\n",
    "<br />\n",
    "\n",
    "#### <span style=\"color:cyan\">Decifrazione del messaggio $C=(B,c)$ (Alice)</span>\n",
    "1. Alice calcola la quantità $Z=B^a\\mathrm{mod}\\ p$;\n",
    "2. calcola (usando l'algoritmo di Euclide esteso) $Z^{-1}\\mod p$;\n",
    "3. calcola $M = \\left(Z^{-1}\\cdot c\\right)\\mod p$.\n",
    "\n",
    "* Si noti che il messaggio deve essere interpretabile come <span style=\"color:gold\">numero minore di $p$</span>."
   ]
  },
  {
   "cell_type": "markdown",
   "metadata": {},
   "source": [
    "#### <span style=\"color:cyan\">Correttezza</span>\n",
    "\n",
    "* &Egrave; un'immediata conseguenza del fatto che $Z=B^a\\mod p=A^b\\mod p$ <span style=\"color:gold\">esattamente come nel protocollo di Diffie-Hellman</span>"
   ]
  },
  {
   "cell_type": "markdown",
   "metadata": {},
   "source": [
    "#### <span style=\"color:cyan\">Efficienza</span>\n",
    "\n",
    "* A parte la pre-computazione delle chiavi (operazione eseguita una sola volta), la complessità della cifratura è dominata da <span style=\"color:gold\">due calcoli di potenze modulari</span> (cui va aggiunto un prodotto). \n",
    "* La decifrazione richiede invece il calcolo di <span style=\"color:gold\">una potenza, di un inverso e di una moltiplicazione</span>. \n",
    "* Si tratta di poche operazioni che però sono eseguite su numeri di <span style=\"color:gold\">oltre 1000 bit</span>. \n",
    "* Se il messaggio fosse più lungo della lunghezza del modulo $p$, Bob dovrebbe <span style=\"color:gold\">spezzarlo in blocchi</span> e ripetere la cifratura, usando però un valore $k$ differente per ogni singolo blocco (vedremo subito perché). \n",
    "* Con molti blocchi, e cioè con messaggi lunghi, cifratura e decifrazione \"asimmetriche\" diventano in realtà <span style=\"color:gold\">processi alquanto onerosi</span>, soprattutto se paragonati all'efficienza di moderni algoritmi di cifratura simmetrica (che possono anche avere supporto hardware).  \n",
    "* Per questa ragione, la crittografia asimmetrica viene usata congiuntamente, e in modo sinergico, a quella simmetrica. \n",
    "* In particolare, protocolli asimmetrici vengono utilizzato in fase di <span style=\"color:gold\">autenticazione delle parti</span> e per lo <span style=\"color:gold\">scambio di chiavi</span> (come già abbiamo osservato). \n",
    "* Per la comunicazione vera e propria si utilizza invece un <span style=\"color:gold\">protocollo simmetrico</span>."
   ]
  },
  {
   "cell_type": "markdown",
   "metadata": {},
   "source": [
    "#### <span style=\"color:cyan\">Sicurezza</span>\n",
    "\n",
    "* Il problema di violare lo schema di cifratura di ElGamal, cioè mettere in chiaro il messaggio $M$ a partire dai valori $p$, $g$, $A$, $b$ e $c$, è <span style=\"color:gold\">equivalente a risolvere il CDH problem</span> (vedi cella succesiva).\n",
    "* Se quindi vale l'ipotesi CDH, il <span style=\"color:gold\">crittosistema di ElGamal è sicuro</span>.\n",
    "* Un errore da non commettere è di utilizzare per cifrature differenti lo stesso valore $b$ (randomicamente scelto solo la prima volta).\n",
    "* Se infatti si usa lo stesso valore di $b$, <span style=\"color:gold\">anche $B$ non cambia</span> e dunque, a due messaggi distinti $M_1$ ed $M_2$, corrisponderebbero le due cifrature:\n",
    "\n",
    "$$\n",
    "C_1 = \\left(B,c_1=\\left(A^b\\cdot M_1\\right)\\ \\mathrm{mod}\\ p\\right)\\qquad\\mathrm{e}\\qquad C_2 = \\left(B,c_2=\\left(A^b\\cdot M_2\\right)\\ \\mathrm{mod}\\ p\\right)\n",
    "$$\n",
    "\n",
    "* Moltiplicando, ad esempio, $c_1^{-1}\\ \\mathrm{mod}\\ p$ per $c_2$, si vede che:\n",
    "$$\n",
    "c_1^{-1}\\cdot c_2\\ \\mathrm{mod}\\ p = (M_1^{-1}\\cdot M_2)\\ \\mathrm{mod}\\ p\n",
    "$$\n",
    "ovvero che\n",
    "$$\n",
    "M_2=\\left(M_1\\cdot \\left(c_2\\cdot c_1^{-1}\\right)\\right)\\ \\mathrm{mod}\\ p\n",
    "$$\n",
    "Se dunque Eva fosse in grado (per qualsiasi motivo) di decifrare il messaggio $M_1$, potrebbe <span style=\"color:gold\">decifrare anche i successivi messaggi cifrati con lo stesso valore $b$</span>."
   ]
  },
  {
   "cell_type": "markdown",
   "metadata": {},
   "source": [
    "#### <span style=\"color:cyan\">$CDH\\Rightarrow$ ElGamal è sicuro</span>\n",
    "* Usiamo l'implicazione <span style=\"color:gold\">contropositiva</span>: supponiamo cioè di poter \"rompere\" ElGamal e siamo in grado di risolvere l'assuzione CDH\n",
    "* La dimostrazione è immediata nel momento in cui riflettiamo sul fatto che ElGamal \"oscura\" il messaggio moltiplicandolo (modulo $p$) proprio per una quantità $A^b\\mod p$, che corrisponde al <span style=\"color:gold\">segreto condiviso di Diffie-Hellman</span>.\n",
    "* Se dunque siamo in grado di mettere in chiaro $M$ (senza il calcolo diretto del logaritmo discreto $a = \\log_g A$), possiamo risalire alla quantità <span style=\"color:gold\">$A^b\\mod p=g^{a\\cdot b}\\mod p$</span>, proprio <span style=\"color:gold\">la quantità che la CDH assumption chiede di calcolare</span>."
   ]
  },
  {
   "cell_type": "markdown",
   "metadata": {},
   "source": [
    "#### <span style=\"color:cyan\">Qualche esperimento con la libreria Crypto di Python </span>\n",
    "* Cifratura e firma digitale <span style=\"color:gold\">non sono più supportate in PyCryptodome</span>\n",
    "* Rimane disponibile la <span style=\"color:gold\">creazione di chiavi</span>\n",
    "* Come esercizio, forniamo qui una <span style=\"color:gold\">\"textbook version\"</span> di encrypt e decrypt"
   ]
  },
  {
   "cell_type": "code",
   "execution_count": null,
   "metadata": {},
   "outputs": [],
   "source": [
    "from Crypto.PublicKey import ElGamal\n",
    "from Crypto.Random.random import Random\n",
    "from Crypto.Hash import SHA\n",
    "from Crypto.Math import Numbers"
   ]
  },
  {
   "cell_type": "code",
   "execution_count": null,
   "metadata": {},
   "outputs": [],
   "source": [
    "key = ElGamal.generate(256, Random.get_random_bytes)"
   ]
  },
  {
   "cell_type": "code",
   "execution_count": null,
   "metadata": {},
   "outputs": [],
   "source": [
    "key.__dict__"
   ]
  },
  {
   "cell_type": "markdown",
   "metadata": {},
   "source": [
    "* x e y sono le quantità che, nella descrizione del protocollo, abbiamo indicato con $a$ e $A$"
   ]
  },
  {
   "cell_type": "code",
   "execution_count": null,
   "metadata": {},
   "outputs": [],
   "source": [
    "class EGKey(ElGamal.ElGamalKey):\n",
    "    '''Define ElGamal key with \"textbook\" encryption/decryption implemented'''\n",
    "    def __init__(self,l,randfun=Random.get_random_bytes):\n",
    "        '''The super().__init__ method would be useless here. pycryptodome includes a\n",
    "           function to generate ElGamal keys. We generate one and copy\n",
    "           the dictionary to self.\n",
    "           Simply returning the generated key would give an ElGamal key\n",
    "           and not an EGKey'''\n",
    "        self.__dict__ = ElGamal.generate(l,randfun).__dict__\n",
    "    def publickey(self):\n",
    "        '''Returns an EGKey public key corresponding to self\n",
    "           (i.e. without the secret information)\n",
    "        '''\n",
    "        pubkey = super().__new__(EGKey)   # create an \"empty\" ElGamalKey\n",
    "        pubkey.p = self.p\n",
    "        pubkey.g = self.g\n",
    "        pubkey.y = self.y\n",
    "        return pubkey\n",
    "    def decrypt(self,ciphertext):\n",
    "        '''Decrypt cipertext using self key'''\n",
    "        B = Numbers.Integer(ciphertext[0])\n",
    "        c = Numbers.Integer(ciphertext[1])\n",
    "        B.inplace_pow(self.x,self.p)\n",
    "        M = (B.inverse(self.p)*c)%self.p\n",
    "        return M.to_bytes(self.p.size_in_bytes())\n",
    "    def encrypt(self,plaintext):\n",
    "        '''Encrypt plaintext using self key'''\n",
    "        assert len(plaintext) <= self.p.size_in_bytes()\n",
    "        while (b:=Numbers.Integer.random_range(min_inclusive=1,max_inclusive=self.p)) \\\n",
    "               and b.gcd(self.p-1)!=1:\n",
    "            pass\n",
    "        g = Numbers.Integer(self.g) \n",
    "        A = Numbers.Integer(self.y)\n",
    "        M = Numbers.Integer.from_bytes(plaintext)\n",
    "        A.inplace_pow(b,self.p)\n",
    "        return g.inplace_pow(b,self.p),(A*M)%self.p"
   ]
  },
  {
   "cell_type": "code",
   "execution_count": null,
   "metadata": {},
   "outputs": [],
   "source": [
    "mykey = EGKey(256)"
   ]
  },
  {
   "cell_type": "code",
   "execution_count": null,
   "metadata": {},
   "outputs": [],
   "source": [
    "mykey.__dict__"
   ]
  },
  {
   "cell_type": "code",
   "execution_count": null,
   "metadata": {},
   "outputs": [],
   "source": [
    "pubkey = mykey.publickey()"
   ]
  },
  {
   "cell_type": "code",
   "execution_count": null,
   "metadata": {},
   "outputs": [],
   "source": [
    "pubkey.__dict__"
   ]
  },
  {
   "cell_type": "code",
   "execution_count": null,
   "metadata": {},
   "outputs": [],
   "source": [
    "message = b\"Quite a short text\""
   ]
  },
  {
   "cell_type": "code",
   "execution_count": null,
   "metadata": {},
   "outputs": [],
   "source": [
    "ciphertext = pubkey.encrypt(message);ciphertext"
   ]
  },
  {
   "cell_type": "code",
   "execution_count": null,
   "metadata": {
    "scrolled": true
   },
   "outputs": [],
   "source": [
    "mykey.decrypt(ciphertext)"
   ]
  },
  {
   "cell_type": "markdown",
   "metadata": {},
   "source": [
    "#### <span style=\"font-style: italic; color:cyan\">Esercizio</span>\n",
    "* Modificare le funzioni di cifratura e decifrazione in modo da evitare i <span style=\"font-style: italic; color:gold\">byte di padding</span> nel testo rimesso in chiaro"
   ]
  }
 ],
 "metadata": {
  "kernelspec": {
   "display_name": "Python 3 (ipykernel)",
   "language": "python",
   "name": "python3"
  },
  "language_info": {
   "codemirror_mode": {
    "name": "ipython",
    "version": 3
   },
   "file_extension": ".py",
   "mimetype": "text/x-python",
   "name": "python",
   "nbconvert_exporter": "python",
   "pygments_lexer": "ipython3",
   "version": "3.11.6"
  }
 },
 "nbformat": 4,
 "nbformat_minor": 4
}
