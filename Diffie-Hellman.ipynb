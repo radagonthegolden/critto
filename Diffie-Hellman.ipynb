{
 "cells": [
  {
   "cell_type": "markdown",
   "metadata": {},
   "source": [
    "# <span style=\"color:gold\">Algoritmi di Crittografia (2023/24)</span> \n",
    "## Notebook 3"
   ]
  },
  {
   "cell_type": "code",
   "execution_count": null,
   "metadata": {},
   "outputs": [],
   "source": [
    "from IPython.display import HTML\n",
    "HTML('<style>{}</style>'.format(open('/home/mauro/.jupyter/custom/custom.css').read()))"
   ]
  },
  {
   "cell_type": "markdown",
   "metadata": {},
   "source": [
    "Latex definitions\n",
    "$\\DeclareMathOperator*{\\prob}{prob}$\n",
    "$\\DeclareMathOperator*{\\mod}{mod}$\n",
    "$\\DeclareMathOperator*{\\ln}{ln}$\n",
    "$\\def\\zn{\\mathbf{Z}_n}$\n",
    "$\\def\\zp{\\mathbf{Z}_p}$\n",
    "$\\def\\mcd{\\mathrm{MCD}}$"
   ]
  },
  {
   "cell_type": "markdown",
   "metadata": {},
   "source": [
    "### <span style=\"color:gold\">Il problema dello scambio di chiavi</span>\n",
    "\n",
    "* I protocolli simmetrici fanno uso di <span style=\"color:gold\">chiavi condivise</span> fra le parti che devono comunicare.\n",
    "* Le moderne applicazioni crittografiche amplificano enormemente il problema non solo della sicurezza ma anche quello legato alla <span style=\"color:gold\">gestione delle chiavi</span>."
   ]
  },
  {
   "cell_type": "markdown",
   "metadata": {},
   "source": [
    "### <span style=\"color:cyan\">Breve richiamo \"storico\"</span>\n",
    "\n",
    "* In un articolo pubblicato nel 1976, dal titolo <span style=\"color:gold\">New Directions in Cryptography</span>, due ricercatori della Stanford University, Whitfield Diffie e Martin Hellman, hanno esaminato in primis proprio il <span style=\"color:gold\">problema di efficienza</span> e hanno proposto una (parziale) soluzione.\n",
    "\n",
    "* L'intuizione di Diffie e Hellman è il seguente: se nella cifratura e nella corrispondente decifrazione si potessero usare chiavi differenti, si aprirebbe uno scenario del tutto nuovo: la <span style=\"color:gold\">chiave di cifratura</span> potrebbe essere resa <span style=\"color:gold\">pubblica</span>, e dunque utilizzabile da chiunque, mentre quella di decifrazione dovrebbe essere tenuta riservata.\n",
    "\n",
    "* Dal punto di vista dell'efficienza, questo schema appare molto più promettente: ogni soggetto coinvolto in una comunicazione, se vuole poter <span style=\"color:gold\">ricevere messaggi confidenziali</span>, deve gestire solo una coppia di chiavi, una delle quali da rendere pubblica. \n",
    "\n",
    "* Chi invece ha solo necessità di <span style=\"color:gold\">inviare messaggi riservati</span> non deve gestire alcuna chiave; deve solo procurarsi le chiavi pubbliche opportune al momento giusto.\n",
    "\n",
    "* Lo schema introduce però un problema di <span style=\"color:gold\">gestione delle chiavi pubbliche</span>, che non ha soluzione solamente algoritmica.\n",
    "\n",
    "* Diffie e Hellman non riuscirono a trovare la \"matematica\" necessaria per implementare uno schema a chiave pubblica.\n",
    "\n",
    "* Il protocollo introdotto in concreto da Diffie e Hellman (DH) è invece essenzialmente un metodo per la <span style=\"color:gold\">comunicazione di informazione segreta</span> su un canale di comunicazione insicuro. \n",
    "\n",
    "* Il <span style=\"color:gold\">protocollo DH</span> è tutt'ora utilizzato all'interno di molti altri protocolli di sicurezza su Internet fra i quali, solo per fare due esempi, <span style=\"color:gold\">TLS e SSH</span>.\n",
    "\n",
    "* Per il loro contributi nel settore della crittografia, Diffie e Hellman hanno ricevuto il <span style=\"color:gold\">Premio Turing</span> nel 2015."
   ]
  },
  {
   "cell_type": "markdown",
   "metadata": {},
   "source": [
    "### <span style=\"color:gold\">Il protocollo DH su gruppi ciclici $\\mathbf{Z}_p^*$</span>\n",
    "\n",
    "* Lo scenario prevede che, per la comunicazione confidenziale, Alice e Bob utilizzino un <span style=\"color:gold\">protocollo simmetrico</span>. \n",
    "* Per questo scopo, devono potersi accordare su una chiave condivisa da tenere segreta; questo però comunicando su un <span style=\"color:gold\">canale insicuro</span>. \n",
    "* Il protocollo di Diffie e Hellman consente alle due parti di concordare un segreto che altro non è che <span style=\"color:gold\">un elemento di un opportuno gruppo $\\mathbf{Z}_p^*$</span>. \n",
    "* Utilizzando tale segreto, le due parti <span style=\"color:gold\">deriveranno la chiave</span> da usare nel protocollo simmetrico."
   ]
  },
  {
   "cell_type": "markdown",
   "metadata": {},
   "source": [
    "### <span style=\"color:cyan\">L'algoritmo in dettaglio</span>\n",
    "\n",
    "1. Alice e Bob si accordano sul <span style=\"color:gold\">modulo $p$</span> da utilizzare (<span style=\"color:gold\">un numero primo</span>) e sull'uso di una <span style=\"color:gold\">radice primitiva $g$</span> di $\\mathbf{Z}_p^*$.\n",
    "    * Tutto questo viene fatto <span style=\"color:gold\">pubblicamente</span> e, dunque, l'informazione può venire in possesso anche di un malintenzionato (Eva). \n",
    "    * In concreto, $p$ e $g$ sono tipicamente scelti da una delle due parti (ad esempio <span style=\"color:gold\">chi inizia il protocollo</span>) e confermati dall'altra parte.\n",
    "2. Alice sceglie, a caso, con <span style=\"color:gold\">distribuzione di probabilità uniforme</span>, un numero $a\\in \\mathbf{Z}_p^*$; con questo calcola <span style=\"color:gold\">$x_a = g^a\\ \\mathrm{mod}\\ p$</span> e invia $x_a$ a Bob.\n",
    "3. Similmente, Bob sceglie, a caso, con distribuzione di probabilità uniforme, un numero $b\\in \\mathbf{Z}_p^*$; con questo calcola <span style=\"color:gold\">$x_b = g^b\\ \\mathrm{mod}\\ p$</span> e invia $x_b$ ad Alice.\n",
    "4. Con l'informazione $x_a$ ricevuta da Alice, Bob calcola il valore <span style=\"color:gold\">$z_{Bob}=x_a^b\\ \\mathrm{mod}\\ p$</span>.\n",
    "5. Analogamente, con l'informazione $x_b$ ricevuta da Bob, Alice calcola <span style=\"color:gold\">$z_{Alice}=x_b^a\\ \\mathrm{mod}\\ p$</span> \n",
    "6. La quantità $z=z_{Alice}=z_{Bob}$ è il <span style=\"color:gold\">segreto condiviso</span>.\n",
    "\n",
    "* Nota: il valore $a$ è anche detto <span style=\"color:gold\">chiave privata di Alice</span> mentre $x_a$ è la sua <span style=\"color:gold\">chiave pubblica</span>. Lo stesso vale naturalmente per Bob."
   ]
  },
  {
   "cell_type": "markdown",
   "metadata": {},
   "source": [
    "#### <span style=\"color:cyan\">Correttezza</span>\n",
    "\n",
    "Al termine dell'esecuzione del protocollo, vale l'uguaglianza: <span style=\"color:gold\">$z_{Alice}=z_{Bob}$</span>, come si può facilmente verificare.\n",
    "\n",
    "\\begin{eqnarray*}\n",
    "      z_{Alice}&=&x_b^a\\ \\mathrm{mod}\\ p\\\\\n",
    "         &=&(g^b\\ \\mathrm{mod}\\ p)^a\\ \\mathrm{mod}\\ p\\\\\n",
    "         &=&(g^b)^a\\ \\mathrm{mod}\\ p\\\\\n",
    "         &=&(g^a)^b\\ \\mathrm{mod}\\ p\\\\\n",
    "         &=&(g^a\\ \\mathrm{mod}\\ p)^b\\ \\mathrm{mod}\\ p\\\\\n",
    "         &=&x_a^b\\ \\mathrm{mod}\\ p\\\\\n",
    "         &=&z_{Bob}\n",
    "\\end{eqnarray*}"
   ]
  },
  {
   "cell_type": "markdown",
   "metadata": {},
   "source": [
    "#### <span style=\"color:cyan\">Efficienza</span>\n",
    "\n",
    "* Tutte le quantità necessarie ad Alice per completare il protocollo sono calcolabili efficientemente. Lo stesso naturalmente vale per Bob.\n",
    "* Le computazioni più onerose sono infatti due esponenziali modulari, che sappiamo avere <span style=\"color:gold\">complessità polinomiale</span> nella lunghezza dei numeri. \n",
    "* Il problema della scelta di $p$ con l'individuazione della radice primitiva $g$ viene risolto ricorrendo a <span style=\"color:gold\">safe-prime con generatore \"fisso\"</span>"
   ]
  },
  {
   "cell_type": "markdown",
   "metadata": {},
   "source": [
    "#### <span style=\"color:cyan\">Sicurezza</span>\n",
    "\n",
    "* La sicurezza riguarda ovviamente la difficoltà (dal punto di vista computazionale) per Eva di calcolare $z$ sulla base delle informazioni che ella può aver carpito sul canale insicuro, e cioè i <span style=\"color:gold\">parametri di gruppo $p$ e $g$</span> e le due <span style=\"color:gold\">chiavi pubbliche $x_a$ e $x_b$</span>. \n",
    "\n",
    "* Eva può naturalmente effettuare tutte le operazioni che vuole in $\\mathbf{Z}_p^*$, \"combinando\" le quantità note. \n",
    "* $z$ tuttavia <span style=\"color:gold\">non \"sembra\" essere il risultato</span> di operazioni semplici che coinvolgono tali parametri. \n",
    "* Conoscendo $x_a$ e $x_b$, l'<span style=\"color:gold\">unico modo noto</span> per risalire a $z$ è di determinare $a$ (o $b$), ma questo richiede il calcolo di un <span style=\"color:gold\">logaritmo discreto</span>. \n",
    "* Infatti, $x_a= g^a\\ \\mathrm{mod}\\ p$ implica <span style=\"color:gold\">$a=\\log_g x_a\\ \\mathrm{mod}\\ p$</span>. \n",
    "* Ovviamente, la situazione è la stessa se, per risalire a $z$, Eva decidesse di usare $b$, in quanto <span style=\"color:gold\">$b=\\log_g x_b\\ \\mathrm{mod}\\ p$</span>."
   ]
  },
  {
   "cell_type": "markdown",
   "metadata": {},
   "source": [
    "#### <span style=\"color:cyan\">Computational Diffie-Hellman assumption</span>\n",
    "\n",
    "* Il problema del calcolo di $z=g^{ab}\\ \\mathrm{mod}\\ p$, dati  $x_a = g^a\\ \\mathrm{mod}\\ p$ e  $x_b = g^b\\ \\mathrm{mod}\\ p$, è noto come <span style=\"color:gold\">Problema di Diffie e Hellman</span>.\n",
    "* Questo, come visto, sarebbe risolvibile \"facilmente\" se fosse facile il calcolo dei logaritmi discreti.\n",
    "* Il viceversa non è provato ma <span style=\"color:gold\">si ritiene valere</span>.\n",
    "<P>\n",
    "* <div style=\"margin-left:37px;margin-right:100px;border:1px solid white; padding:5px; width:auto\"> <span style=\"color:cyan\">Computational Diffie-Hellman (CDH) Assumption</span>:  Se $g$, $a$ e $b$ sono scelti a caso in $\\mathbf{Z}_p^*$, allora, a partire da $g$, $g^a\\ \\mathrm{mod}\\ p$ e $g^b\\ \\mathrm{mod}\\ p$, la determinazione di $g^{ab}\\ \\mathrm{mod}\\ p$ è un problema <span style=\"color:gold\">computazionalmente intrattabile</span>.</div>\n",
    "</P>"
   ]
  },
  {
   "cell_type": "markdown",
   "metadata": {},
   "source": [
    "#### <span style=\"color:cyan\">Il protocollo DH con OPENSSL</span>\n",
    "* Come utile <span style=\"color:gold\">esempio pratico</span> possiamo simulare passo-passo l'esecuzione del protocollo usando la suite OPENSSL.\n",
    "* Il primo passo è la generazione di un <span style=\"color:gold\">certificato DH</span> (secondo lo standard di codifica X.509), con i parametri comuni.\n",
    "* La generazione viene effettuata da uno dei due partner della comunicazione.\n",
    "* I parametri sono memorizzati nel file di testo nel <span style=\"color:gold\">formato PEM</span> (Privacy Enhanced Mail)."
   ]
  },
  {
   "cell_type": "markdown",
   "metadata": {},
   "source": [
    "1. Creazione dei <span style=\"color:gold\">parametri condivisi</span> (e loro visualizzazione) \n",
    "    * openssl genpkey -genparam -algorithm DH -out dhparams.pem\n",
    "    * openssl pkeyparam -in dhparams.pem -text\n",
    "\n",
    "2. Creazione delle <span style=\"color:gold\">chiavi pubblica e privata di Alice</span> (e loro visualizzazione)\n",
    "    * openssl genpkey -paramfile dhparams.pem -out dhAlicekey.pem\n",
    "    * openssl pkey -in dhAlicekey.pem -text -noout\n",
    "\n",
    "3. Creazione delle <span style=\"color:gold\">chiavi pubblica e privata di Bob</span> (e loro visualizzazione)\n",
    "    * openssl genpkey -paramfile dhparams.pem -out dhBobkey.pem\n",
    "    * openssl pkey -in dhBobkey.pem -text -noout\n",
    "    \n",
    "4. <span style=\"color:gold\">Estrazione della chiave pubblica</span> da parte di Alice, per il successivo scambio\n",
    "    * openssl pkey -in dhAlicekey.pem -pubout -out dhAlicepub.pem\n",
    "    * openssl pkey -pubin -in dhAlicepub.pem -text\n",
    "    \n",
    "5. <span style=\"color:gold\">Estrazione della chiave pubblica</span> da parte di Bob, per il successivo scambio\n",
    "    * openssl pkey -in dhBobkey.pem -pubout -out dhBobpub.pem\n",
    "    * openssl pkey -pubin -in dhBobpub.pem -text\n",
    "    \n",
    "6. <span style=\"color:gold\">Scambio dei file</span> dhAlicepub.pem e dhBobpub.pem\n",
    "\n",
    "7. <span style=\"color:gold\">Derivazione del segreto condiviso</span> da parte di Alice\n",
    "    * openssl pkeyutl -derive -inkey dhAlicekey.pem -peerkey dhBobpub.pem -out sAlice.bin\n",
    "    \n",
    "8. <span style=\"color:gold\">Derivazione del segreto condiviso</span> da parte di Bob\n",
    "    * openssl pkeyutl -derive -inkey dhBobkey.pem -peerkey dhAlicepub.pem -out sBob.bin"
   ]
  },
  {
   "cell_type": "code",
   "execution_count": null,
   "metadata": {
    "scrolled": false
   },
   "outputs": [],
   "source": [
    "!openssl genpkey -genparam -algorithm DH -out dhparams.pem"
   ]
  },
  {
   "cell_type": "code",
   "execution_count": null,
   "metadata": {},
   "outputs": [],
   "source": [
    "!openssl pkeyparam -in dhparams.pem -text"
   ]
  },
  {
   "cell_type": "code",
   "execution_count": null,
   "metadata": {},
   "outputs": [],
   "source": [
    "!openssl genpkey -paramfile dhparams.pem -out dhAlicekey.pem"
   ]
  },
  {
   "cell_type": "code",
   "execution_count": null,
   "metadata": {
    "scrolled": true
   },
   "outputs": [],
   "source": [
    "!openssl pkey -in dhAlicekey.pem -text -noout"
   ]
  },
  {
   "cell_type": "code",
   "execution_count": null,
   "metadata": {},
   "outputs": [],
   "source": [
    "!openssl genpkey -paramfile dhparams.pem -out dhBobkey.pem"
   ]
  },
  {
   "cell_type": "code",
   "execution_count": null,
   "metadata": {},
   "outputs": [],
   "source": [
    "!openssl pkey -in dhBobkey.pem -text -noout"
   ]
  },
  {
   "cell_type": "code",
   "execution_count": null,
   "metadata": {},
   "outputs": [],
   "source": [
    "!openssl pkey -in dhAlicekey.pem -pubout -out dhAlicepub.pem"
   ]
  },
  {
   "cell_type": "code",
   "execution_count": null,
   "metadata": {},
   "outputs": [],
   "source": [
    "!openssl pkey -pubin -in dhAlicepub.pem -text -noout"
   ]
  },
  {
   "cell_type": "code",
   "execution_count": null,
   "metadata": {},
   "outputs": [],
   "source": [
    "!openssl pkey -in dhBobkey.pem -pubout -out dhBobpub.pem"
   ]
  },
  {
   "cell_type": "code",
   "execution_count": null,
   "metadata": {},
   "outputs": [],
   "source": [
    "!openssl pkey -pubin -in dhBobpub.pem -text -noout"
   ]
  },
  {
   "cell_type": "markdown",
   "metadata": {},
   "source": [
    "* Scambio di file ..."
   ]
  },
  {
   "cell_type": "code",
   "execution_count": null,
   "metadata": {},
   "outputs": [],
   "source": [
    "!openssl pkeyutl -derive -inkey dhAlicekey.pem -peerkey dhBobpub.pem -out sAlice.bin"
   ]
  },
  {
   "cell_type": "code",
   "execution_count": null,
   "metadata": {},
   "outputs": [],
   "source": [
    "!openssl pkeyutl -derive -inkey dhBobkey.pem -peerkey dhAlicepub.pem -out sBob.bin"
   ]
  },
  {
   "cell_type": "code",
   "execution_count": null,
   "metadata": {},
   "outputs": [],
   "source": [
    "!cmp -b sAlice.bin sBob.bin  # confronta byte per byte, con l'opzione -b stampa i byte diversi"
   ]
  },
  {
   "cell_type": "code",
   "execution_count": null,
   "metadata": {},
   "outputs": [],
   "source": [
    "!xxd sAlice.bin   # Hex dump"
   ]
  },
  {
   "cell_type": "markdown",
   "metadata": {},
   "source": [
    "<span style=\"color:cyan\">Uso dell'informazione segreta</span>\n",
    "\n",
    "* Il dato condiviso da Alice e Bob <span style=\"color:gold\">non è in generale utilizzabile</span> come chiave segreta in un protocollo simmetrico. \n",
    "* Le chiavi segrete ideali che vogliamo utilizzare sono infatti stringhe i cui i singoli bit hanno, in maniera indipendente, la <span style=\"color:gold\">stessa probabilità di essere 0 oppure 1</span>. \n",
    "* Il segreto condiviso invece è un <span style=\"color:gold\">numero uniformemente distribuito in $\\mathbf{Z}_p^*$</span> e questa non è la stessa nozione. \n",
    "* Un semplice esempio può aiutare a capire la questione. "
   ]
  },
  {
   "cell_type": "markdown",
   "metadata": {},
   "source": [
    "* Consideriamo il gruppo $\\mathbf{Z}_{11}^*$, i corrispondenti valori in decimale e come sequenze di bit.\n",
    "\n",
    "<table style=\"margin: 0 auto; border: 1px solid black;border-collapse: collapse;\">\n",
    "  <tr>\n",
    "    <th>1</th>\n",
    "    <td>0</td>\n",
    "    <td>0</td>\n",
    "    <td>0</td> \t\n",
    "    <td>1</td> \n",
    "  </tr>\n",
    "  <tr>\n",
    "    <th>2</th>\n",
    "    <td>0</td>\n",
    "    <td>0</td>\n",
    "    <td>1</td> \t\n",
    "    <td>0</td> \n",
    "  </tr>\n",
    "  <tr>\n",
    "    <th>3</th>\n",
    "    <td>0</td>\n",
    "    <td>0</td>\n",
    "    <td>1</td> \t\n",
    "    <td>1</td> \n",
    "  </tr>\n",
    "  <tr>\n",
    "    <th>4</th>\n",
    "    <td>0</td>\n",
    "    <td>1</td>\n",
    "    <td>0</td> \t\n",
    "    <td>0</td> \n",
    "  </tr>\n",
    "  <tr>\n",
    "    <th>5</th>\n",
    "    <td>0</td>\n",
    "    <td>1</td>\n",
    "    <td>0</td> \t\n",
    "    <td>1</td> \n",
    "  </tr>\n",
    "  <tr>\n",
    "    <th>6</th>\n",
    "    <td>0</td>\n",
    "    <td>1</td>\n",
    "    <td>1</td> \t\n",
    "    <td>0</td> \n",
    "  </tr>\n",
    "  <tr>\n",
    "    <th>7</th>\n",
    "    <td>0</td>\n",
    "    <td>1</td>\n",
    "    <td>1</td> \t\n",
    "    <td>1</td> \n",
    "  </tr>\n",
    "  <tr>\n",
    "    <th>8</th>\n",
    "    <td>1</td>\n",
    "    <td>0</td>\n",
    "    <td>0</td> \t\n",
    "    <td>0</td> \n",
    "  </tr>\n",
    "  <tr>\n",
    "    <th>9</th>\n",
    "    <td>1</td>\n",
    "    <td>0</td>\n",
    "    <td>0</td> \t\n",
    "    <td>1</td> \n",
    "  </tr>\n",
    "  <tr>\n",
    "    <th>10</th>\n",
    "    <td>1</td>\n",
    "    <td>0</td>\n",
    "    <td>1</td> \t\n",
    "    <td>0</td> \n",
    "  </tr>\n",
    "  <tr>\n",
    "    <th>pr(b=1)</th>\n",
    "    <th>0.2</th> \n",
    "    <th>0.4</th>\n",
    "    <th>0.5</th> \t\n",
    "    <th>0.5</th> \n",
    "  </tr>\n",
    "</table>\n",
    "</span>\n",
    "\n",
    "* Come si vede dalla tabella, alcuni bit non hanno probabilità $\\frac{1}{2}$ di essere 1. Questo fatto costituisce una significativa <span style=\"color:gold\">deviazione dalla situazione ideale</span> perché fornisce informazione ad un eventuale attaccante, riducendo la sicurezza dello schema crittografico. \n",
    "\n",
    "* Esistono molti lavori scientifici che forniscono tecniche per <span style=\"color:gold\">estrarre entropia dal segreto</span> e utilizzarla per la generazione delle chiavi. \n",
    "* In pratica, al segreto \"numerico\" viene applicata una <span style=\"color:gold\">funzione hash crittografica</span> (naturalmente identica per Alice e Bob) il cui valore è utilizzato come chiave. \n",
    "* Non ci addentriamo ulteriormente in questa questione che è, tecnicamente, alquanto complessa.   "
   ]
  },
  {
   "cell_type": "markdown",
   "metadata": {},
   "source": [
    "### <span style=\"color:cyan\">Attacchi a DH</span>\n",
    "\n",
    "* Sotto l'ipotesi della CDH assumption, l'attacco diretto volto alla determinazione di $g^{ab}\\ \\mathrm{mod}\\ p$ è <span style=\"color:gold\">computazionalmente infattibile</span>. \n",
    "* Un attacco vincente per il protocollo base qui descritto è invece il cosiddetto <span style=\"color:gold\">man-in-the-middle</span>. \n",
    "* Se Eva riesce a farsi passare per Bob (e Bob per Eva), cosa perfettamente fattibile in assenza di un protocollo sicuro di autenticazione, allora può partecipare a <span style=\"color:gold\">due protocolli di scambio di chiavi</span> (uno con Alice e uno con Bob) e quindi decodificare i messaggi prima di re-inviarli, nuovamente cifrati, al legittimo destinatario. \n",
    "* A seconda dei propri obiettivi, Eva può decidere se alterare i messaggi originali (per un <span style=\"color:gold\">attacco a breve termine</span>) o lasciarli inalterato (<span style=\"color:gold\">attacco a medio/lungo termine</span>)."
   ]
  },
  {
   "cell_type": "markdown",
   "metadata": {},
   "source": [
    "### <span style=\"color:cyan\">Authenticated Diffie-Hellman</span>\n",
    "* Un modo per \"parare\" l'attacco man-in-the-middle consiste nell'<span style=\"color:gold\">autenticazione delle parti</span>\n",
    "* Potremo capire meglio il protocollo quando parleremo di <span style=\"color:gold\">firma digitale</span>\n",
    "* In sintesi, ciascuna delle due parti deve <span style=\"color:gold\">possedere anticipatamente una chiave pubblica</span> dell'altra parte con cui verificarne la firma\n",
    "* Lo specifico protocollo <span style=\"color:gold\">può variare a seconda dei casi</span>, ma l'idea di fondo è ben spiegata dal seguente schema (in cui, per semplicità, sono <span style=\"color:gold\">omessi i moduli</span>), tratto dal testo <span style=\"color:gold\">Jean-Philippe Aumasson, Serious Cryptography, No Starch Press</span>, illustra la situazione\n",
    "\n",
    "<center>\n",
    "    <img src=\"authDH.jpg\" width=\"600\">\n",
    "</center>"
   ]
  },
  {
   "cell_type": "markdown",
   "metadata": {},
   "source": [
    "* In generale, dunque, in un <span style=\"color:gold\">protocollo per lo scambio sicuro di chiavi</span>, c'è la necessità che una almeno una delle due parti disponga di un <span style=\"color:gold\">long-term secret</span>, come ad esempio una chiave RSA.\n",
    "* Se questa è la situazione, ci si potrebbe però lecitamente chiedere: se (poniamo) Alice possiede una chiave RSA, <span style=\"color:gold\">perché mai bisognerebbe usare DH</span> per lo scambio di un segreto?\n",
    "* Il segreto non potrebbe essere direttamente <span style=\"color:gold\">cifrato da Bob con la chiave pubblica di Alice</span> e inviato a quest'ultima, che potrebbe (solo lei) decifrarlo con la propria chiave privata?\n",
    "* In effetti esiste anche questa possibilità, soprattutto in suite di protocolli più vecchie (es. in TLS 1.2), che però tende ad essere abbandonata perché <span style=\"color:gold\">non garantisce forward-secrecy</span>."
   ]
  },
  {
   "cell_type": "markdown",
   "metadata": {},
   "source": [
    "#### <span style=\"color:cyan\">Chiavi DH effimere</span>\n",
    "* Per fissare le idee, consideriamo proprio il caso del <span style=\"color:gold\">TLS</span> (<span style=\"color:gold\">Transport Level Security</span>).\n",
    "* In questo contesto, infatti, il \"segreto a lungo termine\" è proprio la <span style=\"color:gold\">chiave privata con cui il server si autentica presso il client</span>.\n",
    "* <span style=\"color:gold\">Forward-secrecy</span> implica che, se anche tale segreto venisse compromesso, la sicurezza di <span style=\"color:gold\">precendenti scambi</span> fra client e server non sarebbe a rischio.\n",
    "* Ora, in uno scenario in cui la chiave simmetrica è <span style=\"color:gold\">cifrata con la chiave pubblica del server</span>, la forward-secrecy non è in generale garantita (perché l'attaccante potrebbe aver intercettato e memorizzato le precedenti interazioni).\n",
    "* In TLS 1.3 questo viene impedito e le chiavi simmetriche sono invece generate a partire da <span style=\"color:gold\">chiavi DH effimere</span> (<span style=\"color:gold\">Ephemeral Diffie-Hellman keys</span>).\n",
    "* Questo vuol dire che le chiavi DH pubbliche e private, dopo essere state usate una sola volta, <span style=\"color:gold\">vengono scartate da client e server</span>.\n",
    "* Uno schema, tratto sempre dal testo <span style=\"color:gold\">Serious Cryptography</span> sopra citato, illustra la situazione (lo schema fa implicito riferimento a <span style=\"color:gold\">DH su curve ellittiche</span>)."
   ]
  },
  {
   "cell_type": "markdown",
   "metadata": {},
   "source": [
    "<center>\n",
    "    <img src=\"tls13.jpg\" width=\"600\">\n",
    "</center>"
   ]
  },
  {
   "cell_type": "markdown",
   "metadata": {},
   "source": [
    "* Per il momento, in relazione allo scambio di chiavi, ci fermiamo, in attesa di riconsiderare il protocollo di DH rispetto a gruppi formati da <span style=\"font-style: italic; color:gold\">punti appartenenti a una curva ellittica</span>"
   ]
  }
 ],
 "metadata": {
  "kernelspec": {
   "display_name": "Python 3 (ipykernel)",
   "language": "python",
   "name": "python3"
  },
  "language_info": {
   "codemirror_mode": {
    "name": "ipython",
    "version": 3
   },
   "file_extension": ".py",
   "mimetype": "text/x-python",
   "name": "python",
   "nbconvert_exporter": "python",
   "pygments_lexer": "ipython3",
   "version": "3.11.5"
  }
 },
 "nbformat": 4,
 "nbformat_minor": 4
}
