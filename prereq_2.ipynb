{
 "cells": [
  {
   "cell_type": "markdown",
   "metadata": {},
   "source": [
    "## <span style=\"color:gold\">Algoritmi di Crittografia (2023/24)</span> \n",
    "## Notebook 4"
   ]
  },
  {
   "cell_type": "code",
   "execution_count": null,
   "metadata": {},
   "outputs": [],
   "source": [
    "from IPython.display import HTML\n",
    "HTML('<style>{}</style>'.format(open('/home/mauro/.jupyter/custom/custom.css').read()))"
   ]
  },
  {
   "cell_type": "markdown",
   "metadata": {},
   "source": [
    "Latex definitions\n",
    "$\\DeclareMathOperator*{\\prob}{prob}$\n",
    "$\\DeclareMathOperator*{\\mod}{mod}$\n",
    "$\\DeclareMathOperator*{\\ln}{ln}$\n",
    "$\\def\\zn{\\mathbf{Z}_n}$\n",
    "$\\def\\zp{\\mathbf{Z}_p}$\n",
    "$\\def\\mcd{\\mathrm{MCD}}$"
   ]
  },
  {
   "cell_type": "markdown",
   "metadata": {},
   "source": [
    "## <span style=\"color:gold\">Casualità e algoritmi probabilistici</span> "
   ]
  },
  {
   "cell_type": "markdown",
   "metadata": {},
   "source": [
    "### <span style=\"color:gold\">Randomness (casualità)</span>\n",
    "* Una risorsa di straordinaria importanza in molti algoritmi e applicazioni, in particolare proprio le applicazioni crittografiche, è rappresentata dalla disponibilità di <span style=\"color:gold\">bit casuali</span>.\n",
    "* In realtà questo è un modo sbrigativo ma comunemente utilizzato per definire <span style=\"color:gold\">sequenze di bit generati casualmente, indipendenti e con probabilità uniforme</span>.\n",
    "* Se $\\lbrace X_i\\rbrace_{i=1,2,..}$ è una tale sequenza, per ogni $i\\geq 0$, \n",
    "<center>\n",
    "    $\\mathrm{prob}\\lbrack X_i=0\\rbrack = \\mathrm{prob}\\lbrack X_i=1\\rbrack=\\frac{1}{2}$\n",
    "</center>\n",
    "e\n",
    "<center>\n",
    "    $\\mathrm{prob}\\lbrack X_{i+1}=0|X_i=0\\rbrack = \\mathrm{prob}\\lbrack X_{i+1}=0|X_i=1\\rbrack=\\mathrm{prob}\\lbrack X_i=0\\rbrack$\n",
    "</center>\n",
    "<center>\n",
    "    $\\mathrm{prob}\\lbrack X_{i+1}=1|X_i=0\\rbrack = \\mathrm{prob}\\lbrack X_{i+1}=1|X_i=1\\rbrack=\\mathrm{prob}\\lbrack X_i=1\\rbrack$\n",
    "</center>\n",
    "* Una sequenza di bit casuali è il punto terminale di un procedimento che ha inizio da una qualche <span style=\"color:gold\">sorgente di casualità</span>, cioè un dispositivo logico o fisico in grado di produrre eventi casuali (misurabili) in un opportuno spazio.\n"
   ]
  },
  {
   "cell_type": "markdown",
   "metadata": {},
   "source": [
    "#### <span style=\"color:cyan\">Generatori hardware</span>\n",
    "* Non è facile avere a disposizione sorgenti di \"vera\" casualità.\n",
    "* Generatori veramente casuali sono tipicamente ottenibili mediante <span style=\"color:gold\">dispositivi esterni al computer</span>, che sfruttano <span style=\"italic; color:gold\">fenomeni fisici stocastici</span>.\n",
    "* In generale, tali dispositivi sono realizzati intorno a tre componenti principali:\n",
    "    1. un <span style=\"font-style: italic; color:gold\">trasduttore</span>, che trasforma il rumore stocastico del fenomeno fisico utilizzato (ad esempio, rumore termico in un resistore o variazioni nell'ampiezza o nella fase di un oscillatore)  in segnali elettrici\n",
    "    2. un <span style=\"font-style: italic; color:gold\">amplificatore</span>, il cui scopo è di aumentare l'ampiezza dei segnali in modo che siano misurabili\n",
    "    3. un <span style=\"font-style: italic; color:gold\">convertitore analogico-digitale</span> che produce in output sequenze di bit\n",
    "* La generazione attraverso questa via è però <span style=\"color:gold\">costosa</span> e la quantità di bit casuali non è sempre adeguata alle esigenze delle applicazioni"
   ]
  },
  {
   "cell_type": "markdown",
   "metadata": {},
   "source": [
    "#### <span style=\"color:cyan\">Generatori pseudocasuali per applicazioni crittografiche (CSPRNG)</span>\n",
    "* La disponibilità di sequenze di bit casuali in crittografia è richiesta in molteplici casi.\n",
    "* Per gli scopi di questo corso è fondamentale comprendere l'importanza di generare <span style=\"color:gold\">numeri casuali</span> che possano poi servire per la determinazione di chiavi in protocolli asimmetrici.\n",
    "* I bit casuali necessari in applicazioni crittografiche vengono tipicamente ottenuti, nelle quantità richieste, mediante <span style=\"color:gold\">procedimenti deterministici</span> a partire da <span style=\"color:gold\">sequenze casuali</span> (in generale più corte).\n",
    "* Le sequenze messe in questo modo a disposizione delle applicazioni sono dette <span style=\"font-style: italic; color:gold\">pseudocasuali</span>."
   ]
  },
  {
   "cell_type": "markdown",
   "metadata": {},
   "source": [
    "#### <span style=\"color:cyan\">CSPRNG in ambiente Linux</span>\n",
    "* Le sequenze casuali sono ottenute, internamente al computer, da fenomeni <span style=\"color:gold\">difficilmente predicibili</span>, anche se non sempre casuali.\n",
    "* Fra questo possiamo ricordare i <span style=\"color:gold\">movimenti del mouse</span>, la <span style=\"color:gold\">frequenza di digitazione sulla tastiera</span>, il tempo che intercorre fra alcuni tipi di <span style=\"color:gold\">interrupt</span>.\n",
    "* Quanto più le sorgenti sono di <span style=\"color:gold\">natura distinta</span> e le sequenze opportunamente <span style=\"color:gold\">combinate</span>, tanto più i bit soddisfano le esigenze richieste dalle applicazioni crittografiche.\n",
    "* I bit casuali <span style=\"color:gold\">raccolti (collected)</span> dal sistema sono inseriti nel c.d. <span style=\"color:gold\">entropy pool</span>, composto da max 4096 bit.\n",
    "* Dal pool vengono prelevali bit casuali su richiesta delle applicazioni e in esso vengono inseriti bit casuali dal kernel.\n",
    "* Il kernel tiene traccia del numero di bit casuali (o <span style=\"color:gold\">bit di entropia</span>) presenti nel kernel.\n",
    "* Tale quantità è conoscibile attraverso il comando indicato di seguito."
   ]
  },
  {
   "cell_type": "code",
   "execution_count": null,
   "metadata": {},
   "outputs": [],
   "source": [
    "!cat /proc/sys/kernel/random/entropy_avail"
   ]
  },
  {
   "cell_type": "markdown",
   "metadata": {},
   "source": [
    "* Linux mette a disposizione interfacce per <span style=\"color:gold\">due generatori</span>, che sono equivalenti quando l'<span style=\"color:gold\">entropia è elevata</span> ma che <span style=\"color:gold\">con poca entropia</span> si comportano differentemente.\n",
    "* I generatori sono accessibili <span style=\"color:gold\">come device</span> logici:\n",
    "    1. <span style=\"color:gold\">/dev/random</span>, che blocca il processo richiedente se l'entropia richiesta non è suffciente;\n",
    "    2. <span style=\"color:gold\">/dev/urandom</span>, che invece è <span style=\"color:gold\">non blocking</span>."
   ]
  },
  {
   "cell_type": "code",
   "execution_count": null,
   "metadata": {},
   "outputs": [],
   "source": [
    "%%bash\n",
    "dd if=/dev/random bs=8 count=1000 2>/dev/null  | base64"
   ]
  },
  {
   "cell_type": "markdown",
   "metadata": {},
   "source": [
    "### <span style=\"color:magenta\">CSPRNG in Python</span>\n",
    "\n",
    "* In sistemi Linux, /dev/urandom è accessibile dal comando os.urandom di Python.\n",
    "La chiamata di <span style=\"color:gold\">os.urandom</span> restituisce il numero di byte casuali specificati come parametro.\n",
    "\n"
   ]
  },
  {
   "cell_type": "code",
   "execution_count": null,
   "metadata": {},
   "outputs": [],
   "source": [
    "from os import urandom"
   ]
  },
  {
   "cell_type": "code",
   "execution_count": null,
   "metadata": {},
   "outputs": [],
   "source": [
    "urandom(4)"
   ]
  },
  {
   "cell_type": "code",
   "execution_count": null,
   "metadata": {},
   "outputs": [],
   "source": [
    "R = urandom(4)\n",
    "for b in R:             \n",
    "    print(bytes([b]))     # bytes(iterabile-di-interi) -> lista con altrettanti byte"
   ]
  },
  {
   "cell_type": "markdown",
   "metadata": {},
   "source": [
    "* Possiamo anche visualizzare più convenientemente i byte come <span style=\"color:gold\">sequenze esadecimali</span>. "
   ]
  },
  {
   "cell_type": "code",
   "execution_count": null,
   "metadata": {},
   "outputs": [],
   "source": [
    "from binascii import b2a_hex"
   ]
  },
  {
   "cell_type": "code",
   "execution_count": null,
   "metadata": {
    "scrolled": true
   },
   "outputs": [],
   "source": [
    "b2a_hex(R)"
   ]
  },
  {
   "cell_type": "markdown",
   "metadata": {},
   "source": [
    "* Mettendo insieme i pezzi, possiamo creare un generatore casuale in $[0,1)$, che è poi il <span style=\"color:gold\">generatore casuale fondamentale</span>"
   ]
  },
  {
   "cell_type": "code",
   "execution_count": null,
   "metadata": {},
   "outputs": [],
   "source": [
    "def myrand():\n",
    "    from os import urandom\n",
    "    D = 2**(-64) \n",
    "    return int.from_bytes(urandom(8),'big')*D"
   ]
  },
  {
   "cell_type": "code",
   "execution_count": null,
   "metadata": {},
   "outputs": [],
   "source": [
    "myrand()"
   ]
  },
  {
   "cell_type": "markdown",
   "metadata": {},
   "source": [
    "### <span style=\"color:gold\">Algoritmi probabilistici</span>\n",
    "* Un algoritmo probabilistico è tale perché utilizza una qualche <span style=\"color:gold\">sorgente di casualità</span>, che possiamo immaginare \"tipo\" <span style=\"color:gold\">/dev/urandom</span>, cioè in grado di fornire una sequenza (teoricamente) illimitata di bit casuali, <span style=\"color:gold\">indipendenti</span> e distribuiti in maniera <span style=\"color:gold\">uniforme</span>.\n",
    "* Algoritmi di questo tipo giocano un ruolo importante in crittografia e, in particolare (cioè in relazione a ciò che qui ci interessa), in <span style=\"color:gold\">crittografia asimmetrica</span>.\n",
    "* In questo caso, però, è conveniente immaginare che la sorgente produca direttamente <span style=\"color:gold\">numeri casuali</span>, visto che le basi matematiche della crittografia asimmetrica risiedono proprio in teoria dai numeri.\n",
    "* Per valutare la complessità degli algoritmi probabilistici che prenderemo in considerazione, si può ancora utilizzare il ben noto modello <span style=\"font-style: italic; color:gold\">bit cost</span>, in cui ogni operazione aritmetico/logica ha un peso che dipende dal numero di bit degli operandi.\n",
    "* Nella valutazione della bontà di un algoritmo è in generale necessario tenere conto anche della <span style=\"color:gold\">quantità di bit casuali richiesti</span>, proprio perché i bit casuali non sono una risorsa illimitata.\n",
    "* Se la casualità viene fornita in termini di numeri, piuttosto che di bit casuali, dobbiamo comunque valutare la lunghezza in bit dei numeri stessi."
   ]
  },
  {
   "cell_type": "markdown",
   "metadata": {},
   "source": [
    "### <span style=\"color:cyan\">Algoritmi decisionali</span>\n",
    "* &Egrave; detto <span style=\"font-style: italic; color:gold\">decisionale</span> un algoritmo il cui output è binario: 0/1, True/False, Sì/No.\n",
    "* Gli algoritmo probabilistici che vedremo saranno <span style=\"color:gold\">solo di tipo decisionale</span>.\n",
    "* L'elemento di casualità, nel comportamento visibile dell'algoritmo, può risiedere nel <span style=\"color:gold\">risultato</span>, che può essere errato con una certa probabilità, o nel <span style=\"color:gold\">tempo di calcolo</span>.\n",
    "* A seconda dei due casi, gli algoritmi vengono definiti (di tipo) <span style=\"font-style: italic; color:gold\">Monte Carlo</span> o (di tipo) <span style=\"font-style: italic; color:gold\">Las Vegas</span>.\n",
    "* Un algoritmo decisionale può essere visto come un <span style=\"color:gold\">classificatore binario</span> (come avviene, ad esempio, nel contesto del <span style=\"color:gold\">machine learning</span>).\n",
    "* Ad esempio, dato un messaggio di posta elettronica, <span style=\"color:gold\">decidere se è spam</span> (ovvero se appartiene all'insieme dei messaggi spam) o <span style=\"color:gold\">non-spam</span>."
   ]
  },
  {
   "cell_type": "markdown",
   "metadata": {},
   "source": [
    "### <span style=\"color:cyan\">Algoritmi Monde Carlo</span>\n",
    "* Un algoritmo <span style=\"color:gold\">probabilistico di tipo Monte Carlo</span> per un problema (decisionale) $P$, ha le caratteristiche indicate di seguito.\n",
    "    1. Su input la cui risposta (esatta) è True (es. la mail è spam), <span style=\"color:gold\">restituisce True con probabilità fissa</span> (indipendente dalla lunghezza dell'input) <span style=\"color:gold\">$\\epsilon>0$</span>.\n",
    "    2. Su input $x\\in P$ la cui risposta (esatta) è False, <span style=\"color:gold\">restituisce False</span>.\n",
    "* Per amore di precisione, ciò che abbiamo definito è un algoritmo denominato (con terminologia inglese, decisamente più sintetica) <span style=\"color:gold\">Probability-bounded one-sided error Monte Carlo</span> .\n",
    "    * <span style=\"color:gold\">Probability-bounded</span> (sottinteso, \"away from zero\") perché si richiede che la probabilità di errore sia non solo positiva, ma che non tenda a zero al crescere della dimensione dell'input.\n",
    "    * <span style=\"color:gold\">One-sided error</span> perché l'algoritmo può sbagliare solo quando risponde False (e la risposta esatta è True)."
   ]
  },
  {
   "cell_type": "markdown",
   "metadata": {},
   "source": [
    "#### <span style=\"color:cyan\">Un algoritmo non \"probability-bounded\"</span>\n",
    "* Un semplice algoritmo Monte Carlo one-sided error è la seguente procedura per determinare <span style=\"color:gold\">se un numero intero $n$ dispari è composto</span>, cioè se può essere espresso come prodotto di due numeri diversi da 1 e da $n$ stesso.\n",
    "\n",
    "1. Dato $n$, scegli a caso un numero intero <span style=\"color:gold\">$p$ dispari</span> nell'intervallo $I=[1,n/2]$.\n",
    "2. Calcola il <span style=\"color:gold\">resto $r$</span> della divisione di $n$ per $p$\n",
    "3. Se $r=0$ restituisci <span style=\"color:gold\">True</span> (con ciò intendendo che il numero è <span style=\"color:gold\">Composto</span>), altrimenti restituisci <span style=\"color:gold\">False</span> (ovvero <span style=\"color:gold\">forse Primo</span>)"
   ]
  },
  {
   "cell_type": "markdown",
   "metadata": {},
   "source": [
    "* L'algoritmo è <span style=\"color:gold\">one-sider error</span> perché può sbagliare <span style=\"color:gold\">solo se restituisce False</span>. Se invece restituisce True il resto è 0, dunque $p$ è un divisore di $n$,che quindi è un numero composto.\n",
    "* Tuttavia esso non è <span style=\"color:gold\">probability-bounded</span>.\n",
    "* Per dimostrarlo basta un argomento debole. \n",
    "* Sappiamo infatti che i divisori di un numero $n$ <span style=\"color:gold\">vanno in coppia</span>, $x$ e $\\frac{n}{x}$, di cui uno non maggiore di $\\sqrt{n}$. \n",
    "* Ne consegue che i divisori di $n$ sono <span style=\"color:gold\">al più $2\\sqrt{n}$</span>. \n",
    "* Scegliendo $p$ dispari uniformemente a caso in $I$ abbiamo una probabilità che esso sia un divisore limitata da $\\frac{2\\sqrt{n}}{n/4}=8\\frac{\\sqrt{n}}{n}=\\frac{8}{\\sqrt{n}}$, una quantità che <span style=\"color:gold\">tende a zero quando $n$ tende a infinito</span>."
   ]
  },
  {
   "cell_type": "markdown",
   "metadata": {},
   "source": [
    "#### <span style=\"color:cyan\">Perché è importante limitare (anche debolmente) l'errore probabilistico</span>\n",
    "* Sia <span style=\"color:gold\">$A$</span> un algoritmo Monte Carlo per stabilire se un dato numero è composto.\n",
    "* Per ogni $x\\in\\mathcal{Z}$, poniamo <span style=\"color:gold\">$y_x=\\mathrm{True}$</span> se il numero $x$ è composto e <span style=\"color:gold\">$y_x=\\mathrm{False}$</span> se invece $x$ è un numero primo.\n",
    "* Indichiamo poi con <span style=\"color:gold\">$A(x)$</span> la risposta fornita da $A$ su input $x$.\n",
    "* La \"qualifica\" di $A$ come algoritmo Monte Carlo per la \"compositeness\" implica che:\n",
    "<center>\n",
    "    <span style=\"color:gold\">$\\mathrm{prob}[A(x)=\\mathrm{False}|y_x=\\mathrm{False}] = 1$</span>  e <span style=\"color:gold\">$\\mathrm{prob}[A(x)=\\mathrm{True}|y_x=\\mathrm{True}] \\ge \\epsilon$</span>\n",
    "</center>\n",
    "per un qualche valore $\\epsilon>0$ opportuno.\n",
    "* La probabilità che l'algoritmo sia corretto quando il numero è composto è dunque <span style=\"color:gold\">limitata inferiormente</span>, indipedentemente dalla grandezza del numero in input.\n",
    "* Supponiamo ora che risulti <span style=\"color:gold\">$\\epsilon = 0.01$</span>.\n",
    "* Si può certamente obiettare che avere una probabilità di successo (su numeri composti) garantita dell'<span style=\"color:gold\">ordine di $10^{-2}$</span> non è poi un grande risultato.\n",
    "* Tuttavia se la sorgente produce bit indipendenti possiamo <span style=\"color:gold\">aumentare la probabilità di successo</span> in modo arbitrario, come indichiamo di seguito"
   ]
  },
  {
   "cell_type": "markdown",
   "metadata": {},
   "source": [
    "#### <span style=\"color:cyan\">Run indipendenti</span>\n",
    "* A partire da $A$ si costruisce un algoritmo $A'$ nel modo seguente.\n",
    "* Si eseguono $N$ run identici di $A$.\n",
    "* Non appena uno di tali run restituisce valore $\\mathrm{True}$, anche $A'$ termina restituendo il valore $\\mathrm{True}$.\n",
    "* Se invece, in tutti gli $N$ run, $A$ restituisce $\\mathrm{False}$, allora anche $A'$ termina restituendo il valore $\\mathrm{False}$.\n",
    "* Ci chiediamo quindi che cosa si può dire della correttezza di $A'$ in funzione del valore $N$.\n",
    "* Se l'input è primo, ovviamente $A$ produrrà sempre il valore $\\mathrm{False}$, e dunque (indipendentemente da come si è scelto $N$) anche $A'$ restituisce $\\mathrm{False}$.\n",
    "* Se invece il numero è composto, poiché i run sono eseguiti utilizzando sequenze di bit indipendenti, la probabilità che l'algoritmo restituisca $N$ volte False è limitata superiormente dal <span style=\"color:gold\">prodotto delle singole probabilità</span>: $(1-0.01)^N=0.99^N$.\n",
    "* Per $N=2$ risulta $0.99^2=0.98$\n",
    "* Se il procedimento viene ripetuto 69 volte, con input un numero composto, la probabilità che $A$ sbagli tutte le volte è limitata dal valore $0.99^{69}<0.4998$,\n",
    "* L'algoritmo $A'$ restituirà dunque la risposta corretta con <span style=\"color:gold\">probabilità almeno $\\frac{1}{2}$</span> se $N\\ge 69$.\n",
    "* Con valori ancora maggiori di $N$ possiamo rendere la probabilità di successo, anche nel caso in cui l'input sia un numero composto, <span style=\"color:gold\">arbitrariamente vicina a 1</span>. "
   ]
  },
  {
   "cell_type": "markdown",
   "metadata": {},
   "source": [
    "#### <span style=\"color:cyan\">Algoritmi Las Vegas</span>\n",
    "* Un algoritmo probabilistico di tipo Las vegas restituisce <span style=\"color:gold\">sempre la risposta corretta</span> in tempo determinato solo con una <span style=\"color:gold\">data probabilità</span>.\n",
    "* Un semplice esempio di algoritmo Las Vegas è la procedura con la quale si può generare una sorgente $\\{x_i\\}_{i\\geq 1}$ di bit <span style=\"color:gold\">uniformi</span> (cioè tali che $\\mathrm{prob}[x_i=0]=\\mathrm{prob}[x_i=1]$) e <span style=\"color:gold\">indipendenti</span>, a partire da una sorgente $\\{z_i\\}_{i\\geq 1}$ di bit <span style=\"color:gold\"></span>indipendenti ma distribuiti con probabilità <span style=\"color:gold\">non uniforme</span>: $\\mathrm{prob}[z_i=0]=p, \\mathrm{prob}[z_i=1]=1-p$, per un qualche valore $0<p<1$\n",
    "* L'algoritmo è il seguente:\n",
    "    1. Poni $i=1$\n",
    "    2. Considera i bit $z_i$ e $z_{i+1}$\n",
    "    3. Se $z_i=0$ e $z_{i+1}=1$ restituisci 0\n",
    "    4. Se $z_i=1$ e $z_{i+1}=0$ restituisci 1\n",
    "    5. Poni $i=i+2$ e ritorna al passo 2"
   ]
  },
  {
   "cell_type": "markdown",
   "metadata": {},
   "source": [
    "#### <span style=\"color:cyan\">Studio del tempo atteso</span>\n",
    "* Poiché la sorgente $\\{z_i\\}_{i\\geq 1}$ fornisce bit i.i.d, la probabilità che l'algoritmo restituisca 0 è data da <span style=\"color:gold\">$p(1-p)$</span> e questa ovviamente è uguale a $(1-p)p$, che è la probabilità che l'algoritmo restituisca 1\n",
    "* Quando dunque l'algoritmo restituisce un risultato, questo è <span style=\"color:gold\">sempre corretto</span> (nel senso che la probabilità delle due risposte è identica)\n",
    "* Tuttavia finché le coppie di bit $z_i$ e $z_{i+1}$, $i=0,2,\\ldots$, sono uguali, l'algoritmo non restituisce nulla\n",
    "* Quanti \"cicli\" dell'algoritmo dobbiamo attendere per avere il risultato?\n",
    "* Se indichiamo con <span style=\"color:gold\">$s$ il valore $1-2p(1-p)$, che è la probabilità che $z_i$ e $z_{i+1}$ siano uguali</span>, la probabilità che il risultato sia restituito al $k$-esimo tentativo è data da $s^{k-1}(1-s)$\n",
    "* Siamo dunque in presenza della ben nota <span style=\"color:gold\">distribuzione geometrica</span> il cui valore atteso è:\n",
    "\\begin{eqnarray*}\n",
    "\\sum\\limits_{k=1}^{\\infty}ks^{k-1}(1-s)&=&(1-s)\\sum\\limits_{k=1}^{\\infty}ks^{k-1}\\\\\n",
    "&=&\n",
    "(1-s)\\frac{d}{ds}\\int_0^s\\left(\\sum\\limits_{k=1}^{\\infty}kt^{k-1}\\right)dt\\\\\n",
    "&=&\n",
    "(1-s)\\frac{d}{ds}\\sum\\limits_{k=1}^{\\infty}\\int_0^s kt^{k-1}dt\\\\\n",
    "&=&\n",
    "(1-s)\\frac{d}{ds}\\sum\\limits_{k=1}^{\\infty}s^k\\\\\n",
    "&=&\n",
    "(1-s)\\frac{d}{ds}\\left(\\frac{1}{1-s}-1\\right)\\\\\n",
    "&=&\n",
    "(1-s)\\frac{1}{(1-s)^2}\\\\\n",
    "&=&\\frac{1}{1-s}\n",
    "\\end{eqnarray*}\n",
    "\n",
    "* Chiaramente, se $p=\\frac{1}{2}$, e dunque anche $s=\\frac{1}{2}$, ritrovamo il <span style=\"color:gold\">valore atteso 2</span> che è chiaramente corretto: se $\\{z_i\\}_{i\\geq 1}$ è anche uniforme, bastano mediamente due tentativi\n",
    "* Se la sorgente è invece molto \"biased\" verso 0 o 1, ad esempio se $p=\\frac{1}{4}$, allora $s=\\frac{5}{8}$ e il valore atteso è $\\frac{8}{3}\\approx 2.67$. Infine se $p=\\frac{1}{10}$ il valor atteso diviene circa 5.56"
   ]
  },
  {
   "cell_type": "markdown",
   "metadata": {},
   "source": [
    "#### <span style=\"color:cyan\">Bit casuali e probabilità di terminazione</span>\n",
    "\n",
    "* &Egrave; possibile anche <span style=\"color:gold\">un'analisi \"complementare\"</span> del nostro semplice algoritmo Las Vegas.\n",
    "* Possiamo cioè studiare la <span style=\"color:gold\">relazione fra bit casuali</span> utilizzati (della sorgente originale $\\{z_i\\}_{i\\geq 1}$ ovviamente) e la <span style=\"color:gold\">probabilità che l'algoritmo termini entro un certo numero di tentativi</span>.\n",
    "* Ci chiediamo quindi: qual è la <span style=\"color:gold\">probabilità che $2k$ bit siano sufficienti</span> per ottenere il risultato, cioè il \"bit uniforme\"?\n",
    "* Il conto è molto semplice: con $2k$ bit casuali possiamo eseguire $k$ tentativi e la probabilità che l'algoritmo termini entro $k$ tentativi è:\n",
    "<center>\n",
    "    $\\sum\\limits_{i=1}^k s^{i-1}(1-s)=(1-s)+(s-s^2)+(s^2-s^3)+\\ldots+s^{k-1}-s^k=1-s^k$\n",
    "</center>\n",
    "dove, ricordiamo ancora una volta, $s$ è la probabilità che i due bit della sorgente considerati al generico tentativo siano uguali"
   ]
  },
  {
   "cell_type": "markdown",
   "metadata": {},
   "source": [
    "#### <span style=\"font-style: italic; color:magenta\">Esercizio</span>\n",
    "\n",
    "* Supponiamo di voler \"risparmiare\" bit casuali modificando l'algoritmo nel modo seguente:\n",
    "    5. Poni <span style=\"font-style: italic; color:gold\">$i=i+1$</span> e ritorna al passo 2\n",
    "* &Egrave; una buona modifica? Argomentare la risposta."
   ]
  },
  {
   "cell_type": "markdown",
   "metadata": {},
   "source": [
    "## <span style=\"color:gold\">Teoria e algoritmi per la primalità</span> "
   ]
  },
  {
   "cell_type": "markdown",
   "metadata": {},
   "source": [
    "### <span style=\"color:cyan\">La domanda di numeri primi</span>\n",
    "* I numeri primi (o semplicemente <span style=\"color:gold\">i primi</span>) giocano un ruolo fondamentale in tutti gli algoritmi di <span style=\"color:gold\">crittografia asimmetrica</span>.\n",
    "* Di primi <span style=\"color:gold\">ne servono tanti</span>, da utilizzare sia in diversi protocolli sia nell'ambito dello stesso protocollo con partecipanti diversi.\n",
    "* &Egrave; dunque naturale chiedersi <span style=\"color:gold\">quanto siano abbondanti</span> i primi delle dimensioni che interessano in crittografia e <span style=\"color:gold\">come si possa determinarli</span>.\n",
    "* Sappiamo che i primi sono infiniti (si provi a dimostrarlo o a ricordare la dimostrazione); riguardo la loro abbondanza ci viene in aiuto il c.d. <span style=\"color:gold\">Prime number theorem</span>, che descrive la distribuzione asintotica dei primi.\n",
    "* Se <span style=\"color:gold\">$\\pi(n)$</span> indica il numero di <span style=\"color:gold\">primi non maggiori di $n$</span>, vale quanto segue\n",
    "<center>\n",
    "    <span style=\"color:gold\">$\\pi(n)\\sim\\frac{n}{\\ln{n}}$</span>\n",
    "</center>\n",
    "* Questo implica che, mediamente (e al crescere di $n$) fra i primi $n$ numeri circa <span style=\"color:gold\">una frazione $1/\\ln{n}$</span> sono primi.\n",
    "* Da un punto di vista pratico, anche se con passaggio <span style=\"color:gold\">matematicamente assai discutibile</span>, possiamo affermare che, se scegliamo a caso un numero $n$ di sufficiente grandezza, abbiamo una <span style=\"color:gold\">probabilità circa $1/\\ln{n}$</span> che esso sia primo."
   ]
  },
  {
   "cell_type": "markdown",
   "metadata": {},
   "source": [
    "#### <span style=\"color:cyan\">Un esperimento con numeri non troppo grandi</span>"
   ]
  },
  {
   "cell_type": "code",
   "execution_count": null,
   "metadata": {},
   "outputs": [],
   "source": [
    "# pip install pycryptodome"
   ]
  },
  {
   "cell_type": "code",
   "execution_count": null,
   "metadata": {},
   "outputs": [],
   "source": [
    "from Crypto.Util import number\n",
    "from math import log"
   ]
  },
  {
   "cell_type": "code",
   "execution_count": null,
   "metadata": {},
   "outputs": [],
   "source": [
    "numtrials = 10000                       # Numero di esperimenti\n",
    "e = 2048                                # Lunghezza in bit dei numeri generati\n",
    "prob_estimate = 1.0/(e*log(2))          # Stima della probabilità\n",
    "expected_num = numtrials*prob_estimate  # Valore atteso di primi"
   ]
  },
  {
   "cell_type": "code",
   "execution_count": null,
   "metadata": {},
   "outputs": [],
   "source": [
    "# Generazione e test\n",
    "numprimes = 0\n",
    "for _ in range(numtrials):\n",
    "    if number.isPrime(number.getRandomInteger(e)):\n",
    "        numprimes += 1"
   ]
  },
  {
   "cell_type": "code",
   "execution_count": null,
   "metadata": {},
   "outputs": [],
   "source": [
    "# Confronto con il numero atteso\n",
    "print(f\"Numero di primi trovati (stima, potrebbero esserci duplicati):\\t{numprimes}\")\n",
    "print(f\"Numero atteso di primi con {numtrials} esperimenti:\\t\\t\\t{expected_num:.2f}\")\n",
    "print(f\"Rapporto fra le due quantità:\\t\\t\\t\\t\\t{numprimes/expected_num:.3f}\")"
   ]
  },
  {
   "cell_type": "markdown",
   "metadata": {},
   "source": [
    "#### <span style=\"color:cyan\">Ricerca di un primo</span>\n",
    "\n",
    "* Una <span style=\"color:gold\">lettura \"speculare\"</span> del risultato precedente ci consente di affermare che, per trovare un numero primo, scegliendo a caso fra i <span style=\"color:gold\">numeri di $n$ bit</span>, dobbiamo mediamente effettuare circa <span style=\"color:gold\">$n\\ln 2\\approx 0.69n$ tentativi</span>.\n",
    "* Per i numeri comunemente utilizzati in crittografia, $n$ può essere dell'ordine di qualche migliaia (<span style=\"color:gold\">2048 o 3072 per RSA</span>, molto meno per protocolli su curve ellittiche).\n",
    "* Disponendo di <span style=\"color:gold\">algoritmi efficienti</span> per verificare se un numero è primo, il metodo comunemente utilizzato con buona efficienza consiste proprio nel <span style=\"color:gold\">generare e verificare</span>, finché il numero generato non è primo\n",
    "* Non tutti i numeri primi possono però andar bene, anche in dipendenza del protocollo utilizzato.\n",
    "* Il seguente esperimento mostra come il numero medio di tentativi per trovare un primo sia in <span style=\"color:gold\">accordo con la prescrizione teorica</span>."
   ]
  },
  {
   "cell_type": "code",
   "execution_count": null,
   "metadata": {
    "scrolled": true
   },
   "outputs": [],
   "source": [
    "experiments = 1000\n",
    "e = 512\n",
    "avg = 0\n",
    "for _ in range(experiments):\n",
    "    attempts = 1\n",
    "    while not number.isPrime(number.getRandomInteger(e)):\n",
    "        attempts+=1\n",
    "    avg+=attempts\n",
    "print(f\"Numero medio di tentativi effettuati:\\t{float(avg)/experiments:.2f}\")\n",
    "print(f\"Valore teorico:\\t\\t\\t\\t{0.69*e:.2f}\")"
   ]
  },
  {
   "cell_type": "markdown",
   "metadata": {},
   "source": [
    "#### <span style=\"color:cyan\">Sul numero di tentativi per trovare primo sicuro</span>"
   ]
  },
  {
   "cell_type": "code",
   "execution_count": null,
   "metadata": {},
   "outputs": [],
   "source": [
    "experiments = 5\n",
    "e = 512\n",
    "avg = 0\n",
    "for _ in range(experiments):\n",
    "    attempts = 1\n",
    "    q = number.getRandomInteger(e)\n",
    "    while True:\n",
    "        while not number.isPrime(q):\n",
    "            attempts+=1\n",
    "            q = number.getRandomInteger(e)\n",
    "        p = 2*q+1\n",
    "        if number.isPrime(p):\n",
    "            break\n",
    "        else:\n",
    "            attempts+=1\n",
    "            q = number.getRandomInteger(e)\n",
    "    avg+=attempts\n",
    "print(f\"Numero medio di tentativi effettuati:\\t{float(avg)/experiments:.2f}\")"
   ]
  },
  {
   "cell_type": "markdown",
   "metadata": {},
   "source": [
    "### <span style=\"color:cyan\">Test basato sul Piccolo Teorema di Fermat</span>\n",
    "\n",
    "* Il piccolo teorema di Fermat afferma che, se $p$ è un numero primo, allora vale:\n",
    "$$\n",
    "x^{p-1}=1\\mod p\n",
    "$$\n",
    "per ogni $x$ tale che $\\mcd(x,p)=1$. In particolare, quindi, il teorema vale per ogni $x$ positivo e minore di $p$."
   ]
  },
  {
   "cell_type": "markdown",
   "metadata": {},
   "source": [
    "* Se $n$ non è un numero primo, è possibile che risulti tanto $x^{n-1}\\mod n=1$ quanto $x^{n-1}\\mod n\\neq 1$.\n",
    "* In particolare, se $x$ è composto e risulta $x^{n-1}\\mod n=1$, $n$ è detto <span style=\"color:gold\">pseudo-primo base-$x$</span>.\n",
    "* L'esistenza di pseudo-primi impedisce di poter utilizzare il Piccolo Teorema di Fermat come <span style=\"color:gold\">criterio di primalità</span>.\n",
    "* Ad esempio, se non esistessero pseudo-primi base-2 basterebbe calcolare $2^{p-1}\\mod p$ e verificare se il risultato è 1 o meno.\n",
    "* Il fatto importante è che gli <span style=\"color:gold\">pseudo-primi base-2</span> sono comunque pochi e tendono ad essere \"straordinariamente pochi\" quanto più la grandezza aumenta.\n",
    "* Stime abbastanze precise ne limitano la frequenza, fra i numeri di 512 bit, a <span style=\"color:gold\">circa 1 su $10^{20}$</span>."
   ]
  },
  {
   "cell_type": "markdown",
   "metadata": {},
   "source": [
    "#### <span style=\"color:cyan\">Un semplice test di primalità per numeri scelti a caso</span>\n",
    "\n",
    "* L'ultima osservazione suggerisce che, <span style=\"color:gold\">se $n$ è scelto a caso</span> e se si usa 2 come base, è quanto meno \"improbabile\" che si vada a cadere su un numero pseudo-primo base 2.\n",
    "* L'idea può quindi facilemente tradotta nel sequente \"algoritmo\".\n",
    "* Si noti (qui e nel seguito) l'importazione di funzioni dal package <span style=\"font-style: italic; color:gold\">ACLIB</span>, che contiene un po' di programmi Python usati (se non proprio spiegati) a lezione."
   ]
  },
  {
   "cell_type": "code",
   "execution_count": null,
   "metadata": {},
   "outputs": [],
   "source": [
    "from ACLIB.utils import modexp\n",
    "def FLT_primality(n):\n",
    "    \"Fermat's Little Theorem primality test\"\n",
    "    return modexp(2,n-1,n) == 1"
   ]
  },
  {
   "cell_type": "markdown",
   "metadata": {},
   "source": [
    "* Si presti bene attenzione e si rifletta sulle caratteristiche di questo test.\n",
    "* Si tratta certamente di un algoritmo <span style=\"color:gold\">one-sided error</span>, ma non di un algoritmo <span style=\"color:gold\">Monte Carlo</span>, perché seimplicemente non effettua alcuna scelta casuale.\n",
    "* Se dunque non sappiamo come è scelto l'input, non possiamo fare alcuna affermazione probabilistica! E pure se gli pseudo-primi base-2 sono rari, non possiamo escludere che il meccanismo di scelta vada a considerare proprio <span style=\"color:gold\">questi più frequentemente</span>.\n",
    "* Per questa ragione, se il risultato è True, non ha alcun senso ripetere il test per cercare di ridurre la probabilità di errore."
   ]
  },
  {
   "cell_type": "markdown",
   "metadata": {},
   "source": [
    "* Facciamo ora una piccola verifica sull'<span style=\"color:gold\">affidabilità del metodo</span>, con numeri casuali di grandezza relativamente piccola.\n",
    "* Al riguardo, riporto qui il codice per la funzione esponenziale modulare (e, conseguentemente, anche il codice per il prodotto modulare) vista nel precedente notebook."
   ]
  },
  {
   "cell_type": "code",
   "execution_count": null,
   "metadata": {},
   "outputs": [],
   "source": [
    "from Crypto.Util import number\n",
    "numerrors = 0\n",
    "e = 50   # Numeri di e bit\n",
    "numexp = 50000\n",
    "for _ in range(numexp):\n",
    "    n = number.getRandomInteger(e)|1    # n deve essere dispari\n",
    "    if FLT_primality(n) != number.isPrime(n):\n",
    "        numerrors += 1\n",
    "print(numerrors)"
   ]
  },
  {
   "cell_type": "markdown",
   "metadata": {},
   "source": [
    "#### <span style=\"color:magenta\">Numeri di Carmichael</span>\n",
    "\n",
    "* Si potrebbe pensare di migliorare il test basato sul Piccolo Teorema di Fermat provando <span style=\"color:gold\">più di una base</span> e non solo 2.\n",
    "* Ad esempio potremmo provare, oltre al valore 2, anche un'altra base $a\\in\\zn^*$ scelta a caso.\n",
    "* Questa è certamente una buona idea, come suggerisce il seguente esempio"
   ]
  },
  {
   "cell_type": "code",
   "execution_count": null,
   "metadata": {
    "scrolled": true
   },
   "outputs": [],
   "source": [
    "FLT_primality(561)  # 341 = 11*31"
   ]
  },
  {
   "cell_type": "code",
   "execution_count": null,
   "metadata": {
    "scrolled": true
   },
   "outputs": [],
   "source": [
    "modexp(3,340,341) == 1"
   ]
  },
  {
   "cell_type": "markdown",
   "metadata": {},
   "source": [
    "* 341 è il più piccolo <span style=\"color:gold\">pseudo-primo base 2</span> ma evidentemente non è uno pseudo-primo base 3.\n",
    "* Possiamo quindi incorporare l'idea in un test più \"sofisticato\"."
   ]
  },
  {
   "cell_type": "code",
   "execution_count": null,
   "metadata": {},
   "outputs": [],
   "source": [
    "from random import randint\n",
    "from ACLIB.utils import Euclid\n",
    "def improved_FLT_primality(n):\n",
    "    \"Improved Fermat's Little Theorem primality test.\"\n",
    "    a = randint(3,n-1)\n",
    "    if Euclid(a,n)>1:\n",
    "        return False\n",
    "    return (modexp(2,n-1,n) == 1) and (modexp(a,n-1,n) == 1)"
   ]
  },
  {
   "cell_type": "code",
   "execution_count": null,
   "metadata": {},
   "outputs": [],
   "source": [
    "improved_FLT_primality(341)"
   ]
  },
  {
   "cell_type": "markdown",
   "metadata": {},
   "source": [
    "* Il nuovo test è certamente <span style=\"color:gold\">più efficace</span> per almeno due motivi.\n",
    "    1.  Perché, se $n$ è composto, con probabilità non nulla il calcolo del MCD fra $n$ e $a$  lo rivela;\n",
    "    2. Perché $n$ potrebbe essere psedo-primo base 2 ma non pseudo-primo base $a$\n",
    "* Se il test restituisce True (suggerendo che il numero sia primo=) \"può\", in linea di principio può avere senso <span style=\"color:gold\">ripeterlo</span> perché esso effettua una scelta casuale e questo può portare a risultati differenti proprio per le ragioni 1. e 2. esposte sopra.\n",
    "* Esistono però numeri $n$ composti per i quali, <span style=\"color:gold\">qualsiasi sia la base $a$ t.c. $\\mcd(a,n)=1$, risulta $a^{n-1}\\mod n=1$</span>.\n",
    "* In altri termini, esistono <span style=\"color:gold\">pseudo-primi base $a$</span> per ogni $a$ t.c. $\\mcd(a,n)=1$.\n",
    "* Questi numeri sono chiamati <span style=\"color:gold\">(numeri) di Carmichael</span>.\n",
    "* Se $n$ è un numero di Carmichael, qualora la base $a$ generata passi il test di Euclide, il test effettuato nell'ultima riga è <span style=\"color:gold\">totalmene inutile</span>.\n",
    "* I numeri di Carmichael sono <span style=\"color:gold\">estrememente rari</span> (certamente più rari degli pseudo-primi base 2).\n",
    "* Ce n'è però una relativa <span style=\"color:gold\">abbondanza fra i numeri \"piccoli\"</span>.\n",
    "* I primi 5 sono: <span style=\"color:gold\">561, 1105, 1729, 2465 e 2821</span>."
   ]
  },
  {
   "cell_type": "code",
   "execution_count": null,
   "metadata": {},
   "outputs": [],
   "source": [
    "from ACLIB.utils import factorize"
   ]
  },
  {
   "cell_type": "code",
   "execution_count": null,
   "metadata": {},
   "outputs": [],
   "source": [
    "factorize(2821)"
   ]
  },
  {
   "cell_type": "code",
   "execution_count": null,
   "metadata": {},
   "outputs": [],
   "source": [
    "# Proviamo il test per ogni i t.c. MCD(i,n)=1\n",
    "n = 1105\n",
    "for i in range(2,n):\n",
    "    if Euclid(i,n)==1:\n",
    "        if modexp(i,n-1,n) != 1:\n",
    "            print(f\"{n} non è un numero di Carmichael\")\n",
    "print(f\"{n} è primo oppure è un numero di Carmichael\")"
   ]
  },
  {
   "cell_type": "markdown",
   "metadata": {},
   "source": [
    "* Gli algoritmi utilizzati in pratica sono \"veri\" algoritmi probabilistici di tipo <span style=\"color:gold\">Monte Carlo</span>.\n",
    "* Questo vuol dire che possono essere ripetuti per <span style=\"color:gold\">\"abbattere\" la probabilità di errore</span>.\n",
    "* Si tratta di algoritmi la cui implementazione è quasi sempre <span style=\"color:gold\">semplice</span>.\n",
    "* La difficoltà risiede, anche in questo caso \"quasi sempre\", nella dimostrazione che la probabilità di errore (one-sided) è effettivamente <span style=\"color:gold\">limitata da una costante</span>.\n",
    "* Per gli studenti interessati, rimando ad una semplice ricerca con le parole chiave Rabin-Miller e Solovay-Strassen (dal nome dei ricercatori che li hanno ideati)."
   ]
  },
  {
   "cell_type": "markdown",
   "metadata": {},
   "source": [
    "### <span style=\"color:cyan\">Residui quadratici e test di primalità di Solovay-Strassen</span>\n",
    "\n",
    "* Un elemento $a\\in\\zn$ è detto <span style=\"color:gold\">residuo quadratico</span> (modulo $n$) se esiste $x\\in\\zn$ tale che $a=x^2\\mod n$.\n",
    "* Elenchiamo, senza dimostrazione, un po' di <span style=\"color:gold\">proprietà dei residui quadratici</span> in $\\zn^*$.\n",
    "    1. Se $a$ è un r.q., allora <span style=\"color:gold\">anche $a^{-1}\\mod n$ è un r.q.</span>\n",
    "    2. L'insieme dei r.q. forma un <span style=\"color:gold\">sottogruppo di $\\zn^*$</span>, che indicheremo con <span style=\"color:gold\">$Q_n$</span>.\n",
    "    3. Se $n$ è primo, la cardinalità di $Q_n$ è esattamente $|\\zn^*|/2=\\frac{n-1}{2}$ ed esso è formato da tutte le <span style=\"color:gold\">potenze pari di un generatore $g$</span>."
   ]
  },
  {
   "cell_type": "code",
   "execution_count": null,
   "metadata": {},
   "outputs": [],
   "source": [
    "# Esempio, i residui quadratici in Z*_23\n",
    "Q = {(i**2)%23 for i in range(0,23)}\n",
    "Q"
   ]
  },
  {
   "cell_type": "markdown",
   "metadata": {},
   "source": [
    "#### <span style=\"color:cyan\">Simbolo di Legendre</span>\n",
    "\n",
    "* Se $p$ è un numero primo e $a\\in\\zp$, il <span style=\"color:gold\">simbolo di Legendre</span> $\\left(\\frac{a}{p}\\right)$ è la funzione così definita\n",
    "$$\n",
    "\\left(\\frac{a}{p}\\right) = \\left\\{\\begin{array}{lcl}\n",
    "0&&\\mathrm{se}\\ p\\ \\mathrm{divide}\\ a\\\\\n",
    "1&&\\mathrm{se}\\ a\\ \\mathrm{è\\ un\\ r.q.\\ mod\\ }p\\\\\n",
    "-1&&\\mathrm{se}\\ a\\ \\mathrm{non\\ è\\ un\\ r.q.\\ mod\\ }p\\\\\n",
    "\\end{array}\\right.\n",
    "$$\n",
    "* C'è un modo semplice per <span style=\"color:gold\">calcolare il simbolo di Legendre</span>, che è dato dal seguente <span style=\"color:gold\">criterio di Eulero</span>\n",
    "$$\n",
    "\\left(\\frac{a}{p}\\right)=a^{\\left(\\frac{p-1}{2}\\right)}\\mod p\n",
    "$$\n",
    "che quindi riduce il problema al calcolo di un'<span style=\"color:gold\">esponenziale modulare</span>.\n",
    "* Il criterio di Eulero consente facilmente di dimostrare che:\n",
    "$$\n",
    "\\left(\\frac{ab}{p}\\right) = \\left(\\frac{a}{p}\\right)\\left(\\frac{b}{p}\\right)\n",
    "$$\n",
    "* &Egrave; inoltre immediato verificare che, <span style=\"color:gold\">se $a\\equiv b\\ (\\mod p)$</span>, allora\n",
    "$$\n",
    "\\left(\\frac{a}{p}\\right)=\\left(\\frac{b}{p}\\right)\n",
    "$$\n",
    "* Più difficili da dimostrare sono le seguenti proprietà:\n",
    "    1. Legge di <span style=\"color:gold\">reciprocità quadratica</span>. Se $p$ e $q$ sono primi dispari, vale:\n",
    "    $$\n",
    "    \\left(\\frac{q}{p}\\right)\\left(\\frac{p}{q}\\right)=(-1)^{\\frac{(p-1)(q-1)}{4}}\n",
    "    $$\n",
    "    2. Criterio affinché <span style=\"color:gold\">2 sia un r.q. modulo $p$</span>\n",
    "    $$\n",
    "    \\left(\\frac{2}{p}\\right)=(-1)^{\\frac{p^2-1}{8}}\n",
    "    $$\n",
    "    da cui risulta che $2$ è un r.q. se e solo se $p\\equiv 1,7\\ (\\mod 8)$, cioè se <span style=\"color:gold\">$p=8k+1$</span> oppure <span style=\"color:gold\">$p=8k+7$</span>, per un qualche intero $k$.\n",
    "    3. Criterio affinché <span style=\"color:gold\">5 sia un r.q. modulo $p$</span> è che $p\\equiv 1,4\\ (\\mod 5)$.\n",
    "* 2 e 5 ci interessano da vicino in quanto sono utilizzati come generatori nell'implementazione <span style=\"color:gold\">OPENSSL</span> del protocollo di Diffie e Hellman."
   ]
  },
  {
   "cell_type": "markdown",
   "metadata": {},
   "source": [
    "#### <span style=\"font-style: italic; color:cyan\">Simbolo di Jacobi</span>\n",
    "\n",
    "* Il <span style=\"font-style: italic; color:gold\">simbolo di Jacobi</span> generalizza il simbolo di Legendre al caso dei numeri composti e per esso si usa la <span style=\"font-style: italic; color:gold\">stessa notazione</span>\n",
    "* Sia dunque $n$ un intero dispari e sia <span style=\"font-style: italic; color:gold\">$n=p_1\\cdot p_2\\cdot\\ldots\\cdot p_k$ la sua scomposizione in fattori primi</span>, non necessariamente distinti. Per ogni intero non negativo $a$ definiamo\n",
    "$$\n",
    "\\left(\\frac{a}{n}\\right)=\\prod_{i=1}^k \\left(\\frac{a}{p_i}\\right)\n",
    "$$\n",
    "* Si noti dunque che il simbolo di Jacobi <span style=\"font-style: italic; color:gold\">coincide</span> con il simbolo di Legendre se $n$ è primo.\n",
    "* Il seguente semplice esempio mostra tuttavia che se, se $n$ è composto, la condizione $\\left(\\frac{a}{n}\\right)=1$ <span style=\"color:gold\">non assicura</span> che $a$ sia un residuo quadratico modulo $n$:\n",
    "$$\n",
    "\\left(\\frac{2}{15}\\right)=\\left(\\frac{2}{5}\\right)\\left(\\frac{2}{3}\\right)=(-1)(-1)=1\n",
    "$$\n",
    "* &Egrave; vero invece che se $\\left(\\frac{a}{n}\\right)=-1$ allora $a$ <span style=\"color:gold\">non è</span> un residuo quadratico.\n",
    "* Se viceversa sappiamo che $a$ è un residuo quadratico modulo $n$, allora può succedere che $\\left(\\frac{a}{n}\\right)=0$, ma solo nel caso in cui $\\mathrm{MCD}(a,n)>1$, altrimenti $\\left(\\frac{a}{n}\\right)=1$"
   ]
  },
  {
   "cell_type": "markdown",
   "metadata": {},
   "source": [
    "* Il simbolo di Jacobi è dunque un valore nell'insieme $\\{0,1,-1\\}$ e gode di <span style=\"font-style: italic; color:gold\">molte delle proprietà \"di calcolo\"</span> del simbolo di Legendre\n",
    "    1. Proprietà <span style=\"font-style: italic; color:gold\">moltiplicativa</span>:\n",
    "    $$\n",
    "    \\left(\\frac{ab}{n}\\right) = \\left(\\frac{a}{n}\\right)\\left(\\frac{b}{n}\\right)\n",
    "    $$\n",
    "    2. Se <span style=\"font-style: italic; color:gold\">$a\\equiv b\\ (\\mod n)$</span></span>, allora\n",
    "    $$\n",
    "    \\left(\\frac{a}{n}\\right)=\\left(\\frac{b}{n}\\right)\n",
    "    $$\n",
    "    3. Se $n$ ed $m$ sono <span style=\"font-style: italic; color:gold\">interi dispari</span>:\n",
    "    $$\n",
    "    \\left(\\frac{m}{n}\\right) = \\left\\{\\begin{array}{lcl}\n",
    "    -\\left(\\frac{n}{m}\\right)&&\\mathrm{se}\\ n,m\\equiv 3\\ (\\mod 4)\\\\\n",
    "    \\\\\n",
    "    \\left(\\frac{n}{m}\\right)&&\\mathrm{altrimenti}\n",
    "    \\end{array}\\right.\n",
    "    $$\n",
    "    4. Vale inoltre:\n",
    "    $$\n",
    "    \\left(\\frac{2}{n}\\right)=1\\quad\\mathrm{sse\\ }n\\equiv 1,7\\ (\\mod 8)\n",
    "    $$\n",
    "* Il simbolo di Jacobi, tuttavia, <span style=\"font-style: italic; color:gold\">non può essere preso come criterio</span> per stabilire se un numero $a$ è un r.q. modulo $n$."
   ]
  },
  {
   "cell_type": "markdown",
   "metadata": {},
   "source": [
    "#### <span style=\"font-style: italic; color:cyan\">Calcolo del simbolo di Jacobi</span>\n",
    "* Le proprietà elencate in precedenza consentono di calcolare il simbolo di Jacobi $\\left(\\frac{a}{n}\\right)$ <span style=\"font-style: italic; color:gold\">senza dover fattorizzare $n$</span>, requisito questo di importanza decisiva."
   ]
  },
  {
   "cell_type": "code",
   "execution_count": null,
   "metadata": {},
   "outputs": [],
   "source": [
    "from ACLIB.utils import Euclid,modexp\n",
    "def jacobiS(a,n):\n",
    "    '''Computes the Jacobi simbol (a/n). It is assumed (in the top leve call)\n",
    "       the n is an odd positive integer'''\n",
    "    if Euclid(a,n)>1:\n",
    "        return 0\n",
    "    if a==1:       # By definition, as the product of Legendre symbols\n",
    "        return 1\n",
    "    if a==2:       # Apply property 4 above\n",
    "        return 1 if n%8==1 or n%8==7 else -1\n",
    "    if a%2==0:     # Apply property 1 above\n",
    "        return jacobiS(2,n)*jacobiS(a//2,n)\n",
    "    if a>n:        # Apply property 2 above\n",
    "        return jacobiS(a%n,n)\n",
    "    if a%4==3 and n%4==3:     # Otherwise, apply property 3 above, checking for the case \n",
    "        return -jacobiS(n,a)  # a=n=3 (mod 4)\n",
    "    return jacobiS(n,a)"
   ]
  },
  {
   "cell_type": "markdown",
   "metadata": {},
   "source": [
    "* Provare a dimostrare che la precedente funzione termina sempre (e dunque è corretta perché se viene restituito un valore questo riflette le proprietà note\n",
    "* La dimostrazione è solo un <span style=\"color:gold\">fatto di logica</span>, assumendo vere le proprietà sopra elencate"
   ]
  },
  {
   "cell_type": "code",
   "execution_count": null,
   "metadata": {},
   "outputs": [],
   "source": [
    "jacobiS(756479,1298351)"
   ]
  },
  {
   "cell_type": "markdown",
   "metadata": {},
   "source": [
    "### <span style=\"font-style: italic; color:cyan\">Test di primalità di Solovay-Strassen</span>"
   ]
  },
  {
   "cell_type": "markdown",
   "metadata": {},
   "source": [
    "* Se $n$ è un numero primo sappiamo che vale l'uguaglianza \n",
    "$$\n",
    "\\left(\\frac{a}{n}\\right)= a^{\\frac{n-1}{2}}\\ \\mod\\ n\n",
    "$$\n",
    "* Nel caso l'uguaglianza non valga possiamo quindi certamente dire che il numero è composto. \n",
    "che invece sappiamo <span style=\"font-style: italic; color:gold\">valere sempre se $n$ è primo</span>.\n",
    "* Cosideriamo ancora, come esempio, il caso di $n=15$"
   ]
  },
  {
   "cell_type": "markdown",
   "metadata": {},
   "source": [
    "* Ricordiamo che, <span style=\"color:gold\">se $n$ è primo</span>, vale l'uguaglianza \n",
    "$$\n",
    "\\left(\\frac{a}{n}\\right)= a^{\\frac{n-1}{2}}\\ \\mod\\ n\n",
    "$$\n",
    "* Nel caso l'uguaglianza non valga possiamo quindi certamente dire che il numero è <span style=\"color:gold\">composto</span>.\n",
    "* &Egrave; chiaro che, se non sappiamo che $n$ è primo (e ovviamente non lo sappiamo, perché è ciò che vogliamo determinare) dobbiamo calcolare il <span style=\"color:gold\">simbolo di Jacobi</span>, che vale per $n$ qualsiasi (primo o composto)"
   ]
  },
  {
   "cell_type": "markdown",
   "metadata": {},
   "source": [
    "* Vediamo un esperimento che suggerisce perché il test di Solovay-Strassen, essenzialmente basato su questa osservazione, si può progettare come <span style=\"color:gold\">algoritmo Monte Carlo</span>"
   ]
  },
  {
   "cell_type": "code",
   "execution_count": null,
   "metadata": {},
   "outputs": [],
   "source": [
    "# totient è la funzione di Eulero: totient(n) calcola il numero di numeri più piccoli di n\n",
    "# e coprimi con n (1 incluso). E' l'ordina del gruppo Z*_n\n",
    "from sympy.ntheory.factor_ import totient"
   ]
  },
  {
   "cell_type": "code",
   "execution_count": null,
   "metadata": {
    "scrolled": true
   },
   "outputs": [],
   "source": [
    "while ((n := number.getRandomInteger(10)) and (number.isPrime(n) or n%2==0)): pass\n",
    "print(f\"Abbiamo generato {n}\")\n",
    "# Abbiamo generato un numero composto dispari\n",
    "# Andiamo ora a verificare quanti numeri a in Z*_n \"ingannano\" il test di Eulero\n",
    "count=0\n",
    "order = totient(n) \n",
    "for a in range(1,n):\n",
    "    if Euclid(a,n)>1: continue\n",
    "    J = jacobiS(a,n)%n\n",
    "    E = modexp(a,(n-1)>>1,n)\n",
    "    if (J==E):\n",
    "        count+=1\n",
    "        #print(a)\n",
    "print(order,count,order%count)"
   ]
  },
  {
   "cell_type": "markdown",
   "metadata": {},
   "source": [
    "* Come si può vedere, l'uguaglianza non vale quasi per tutti in numeri in $\\mathbf{Z}_{n}$\n",
    "* Un numero composto $n$ tale che l'uguaglianza vale per un certo intero $a$ è detto <span style=\"font-style: italic; color:gold\">pseudo-primo di Eulero rispetto alla base $a$</span>.\n",
    "* L'algoritmo di Solovay e Strassen si basa sul fatto che un numero $n$ composto non è pseudo-primo di Eulero per tutte le possibili basi $a$. \n",
    "* Una valore $a$ per cui $\\mcd(a,n)>1$ o tale per cui risulta $\\left(\\frac{a}{n}\\right)\\neq  a^{\\frac{n-1}{2}}\\ \\mod\\ n$ viene detto <span style=\"font-style: italic; color:gold\">testimone della non primalità di $n$</span>"
   ]
  },
  {
   "cell_type": "markdown",
   "metadata": {},
   "source": [
    "#### <span style=\"font-style: italic; color:cyan\">Pseudo codice dell'algoritmo</span>\n",
    "1. Dato $n>2$ dispari, scegli $a\\in\\{1,2,3,\\ldots,n-1\\}$ uniformemente a caso\n",
    "2. Calcola $m=\\mcd(a,n)$ e verifica se $m>1$; in caso affermativo restituisci $\\mathtt{composto}$\n",
    "3. Altrimenti calcola $J = \\left(\\frac{a}{n}\\right)$ e $P = a^{\\frac{n-1}{2}}\\ \\mod\\ n$\n",
    "4. Se $P\\neq J$ restituisci <span style=\"color:gold\">$\\mathtt{composto}$</span>\n",
    "5. Altrimenti restituisci <span style=\"color:gold\">$\\mathtt{probabilmente\\ primo}$</span>"
   ]
  },
  {
   "cell_type": "markdown",
   "metadata": {},
   "source": [
    "#### <span style=\"font-style: italic; color:cyan\">Proprietà dell'algoritmo (non dimostrate)</span>\n",
    "* Se il numero è primo, l'algoritmo restituisce sempre la <span style=\"font-style: italic; color:gold\">risposta corretta</span> perché i test di riga 2 e 4 sono sempre falsi e dunque l'output è $\\mathtt{probabilmente\\ primo}$\n",
    "* Tuttavia, se $n$ è composto, l'algoritmo <span style=\"font-style: italic; color:gold\">può restituire la risposta errata</span> $\\mathtt{probabilmente\\ primo}$ nel caso in cui $n$ sia pseudo-primo di Eulero rispetto alla base $a$\n",
    "* &Egrave; però possibile dimostrare che, per ogni intero composto dispari $n$, ci sono <span style=\"color:gold\">al più $\\frac{n-1}{2}$ interi</span> $a$ tale che $n$ è uno pseudo-primo di Eulero rispetto ad $a$\n",
    "* Ne consegue che almeno $\\frac{n-1}{2}$ numeri sono testimoni della non primalità e dunque che l'algoritmo erra (su input un numero composto) con <span style=\"font-style: italic; color:gold\">probabilità non superiore a $\\frac{1}{2}$</span>"
   ]
  },
  {
   "cell_type": "markdown",
   "metadata": {},
   "source": [
    "### <span style=\"color:gold\">Una funzione candidato trapdoor</span> "
   ]
  },
  {
   "cell_type": "markdown",
   "metadata": {},
   "source": [
    "### <span style=\"color:cyan\">Fattorizzazione di interi</span>\n",
    "* Sul problema di fattorizzare efficientemente numeri composti è basata, in particolare, la \"forza\" del <span style=\"color:gold\">protocollo RSA</span> per cifratura e firma digitale\n",
    "* Dato un numero composto $n$, l'algoritmo brute-force prova <span style=\"color:gold\">tutti i potenziali divisori $d\\leq \\sqrt{n}$</span> e impiega chiaramente tempo esponenziale nella lunghezza di $n$\n",
    "* Per i numeri in gioco nella crittografia, si tratta di un approccio destinato al fallimento\n",
    "* Esistono però algoritmi molto più efficienti, non di costo polinomiale ma neppure esponenziale\n",
    "* Il migliore algoritmo noto è il <span style=\"color:gold\">General Number Field Sieve</span>, di cui si \"stima\" in modo euristico che la complessità sia una funzione del tipo $G(n)=e^{c\\sqrt[3]{(\\ln n)(\\ln\\ln n)^2}}$, con $c<3$ costante\n",
    "* Una funzione del tipo $(1+c)^{d\\cdot n}$, per ogni $c,d>0$ costanti, cresce <span style=\"color:gold\">più velocemente rispetto a $G(n)$</span> e questo fornisce una spiegazione del perché RSA richieda numeri molto elevati (fattori di almeno 2048 bit)\n",
    "* In generale, gli algoritmi di fattorizzazione sub-exponenziali sono piuttosto complessi e non li discuteremo ulteriormente\n",
    "* Presenteremo invece l'algoritmo di fattorizzazione <span style=\"color:gold\">$\\rho$ di Pollard</span>, che (non a caso) ha lo stesso nome dell'algoritmo per trovare collisioni di funzioni hash che vedremo.\n",
    "* Il pregio dell'algoritmo è la semplicità, il difetto è che richiede un numero di passi che è <span style=\"color:gold\">ancora esponenziale nella lunghezza di $n$</span>, sebbene l'esponente possa essere <span style=\"color:gold\">sostanzialmente minore di $n$</span>"
   ]
  },
  {
   "cell_type": "markdown",
   "metadata": {},
   "source": [
    "### <span style=\"color:cyan\">Algoritmo di fattorizzazione $\\rho$ di Pollard</span>\n",
    "\n",
    "* L'algoritmo produce, a partire da un valore $x_1\\in\\zn$, una successione di valori $x_{j+1}=f(x_j)\\mod n$, $j=1,2,\\ldots$ che, almeno idealmente, dovrebbe esibire le proprietà di una <span style=\"color:gold\">sequenza casuale</span> che tuttavia, da un certo punto in poi, inizierà a <span style=\"color:gold\">ripetersi</span>\n",
    "* <span style=\"color:gold\">Ogni tanto</span>, uno dei valori calcolati viene salvato ed utilizzato nelle <span style=\"color:gold\">successive iterazioni</span> (fino al salvataggio successivo) per verificare se è stato determinato un fattore di $n$\n",
    "* Le iterate salvate sono quelle di indice $i=2^t$, $t=0,1,2,\\ldots$\n",
    "* Ogni iterata salvata viene dunque utlizzata nei test per un numero di passi che <span style=\"color:gold\">raddoppia</span> ad ogni successivo salvataggio\n",
    "* Presentiamo prima lo pseudocodice e poi un'implementazione in Python\n",
    "* Risultati <span style=\"color:gold\">in linea con le aspettative teoriche</span> sono tipicamente ottenuti utilizzando la seguente funzione\n",
    "$$\n",
    "f(x) = (x^2-1)\\mod n\n",
    "$$\n",
    "di cui anche qui facciamo uso"
   ]
  },
  {
   "cell_type": "markdown",
   "metadata": {},
   "source": [
    "#### <span style=\"color:cyan\">Algoritmo $\\rho$ di Pollard per la fattorizzazione di interi</span>\n",
    "1. $j=1$, $i=2$  &nbsp;&nbsp;/* $j$ indica l'iterata corrente, $i$ è l'indice del successivo salvataggio */\n",
    "2. $y = x_1 = r\\in\\zn$ &nbsp;&nbsp;/* y è il valore salvato */\n",
    "3. while True\n",
    "4. &nbsp;&nbsp;&nbsp;&nbsp;$x_{j+1}=(x_j^2-1)\\mod n$\n",
    "5. &nbsp;&nbsp;&nbsp;&nbsp;$j = j+1$\n",
    "6. &nbsp;&nbsp;&nbsp;&nbsp;$m=\\mcd(y-x_j,n)$\n",
    "7. &nbsp;&nbsp;&nbsp;&nbsp;if $m>1$ and $m\\neq n$\n",
    "7. &nbsp;&nbsp;&nbsp;&nbsp;&nbsp;&nbsp;&nbsp;&nbsp;print($m$); break\n",
    "8. &nbsp;&nbsp;&nbsp;&nbsp;if $j==i$ &nbsp;&nbsp;/* Controlliamo se siamo arrivati al prossimo salvataggio */\n",
    "9. &nbsp;&nbsp;&nbsp;&nbsp;&nbsp;&nbsp;&nbsp;&nbsp;$i=2\\cdot i$\n",
    "10. &nbsp;&nbsp;&nbsp;&nbsp;&nbsp;&nbsp;&nbsp;&nbsp;$y=x_j$"
   ]
  },
  {
   "cell_type": "markdown",
   "metadata": {},
   "source": [
    "#### <span style=\"color:cyan\">Osservazioni \"semplici\"</span>\n",
    "* &Egrave; di facile constatazione il fatto che l'algoritmo o non termina mai oppure, se termina, restituisce effettivamente un <span style=\"color:gold\">fattore non banale di $n$</span> \n",
    "* Come secondo step (per comprendere l'idea elegante che sta alla base dell'algoritmo), <span style=\"color:gold\">analizziamo il test</span> che porta eventualmente alla scoperta di un tale fattore, indicato con $m$ nello pseudo-codice\n",
    "* Evidentemente, in quanto $m=\\mcd(y-x_j,n)$, esso divide anche la differenza $y-x_j$ \n",
    "* Detto in altri termini, questo vuol dire <span style=\"color:gold\">$y$ e $x_j$ sono congrui modulo $m$</span>\n",
    "* Scopo dell'algoritmo è dunque di andare a cercare coppie di iterate che siano diverse ma <span style=\"color:gold\">congrue modulo un divisore di $n$</span>\n",
    "* La parte \"geniale\" dell'algoritmo è la strategia con cui viene effettuata la ricerca, ovvero <span style=\"color:gold\">tenendo fissa una delle due iterate nel confronto</span> (la $y$ dello pseudo-codice) per periodi <span style=\"color:gold\">via via più lunghi</span> "
   ]
  },
  {
   "cell_type": "markdown",
   "metadata": {},
   "source": [
    "#### <span style=\"color:cyan\">Implementazione Python e qualche esperimento</span>\n",
    "* L'implementazione è data come <span style=\"color:gold\">funzione</span> che (eventualmente) restituisce un fattore non banale di $n$"
   ]
  },
  {
   "cell_type": "code",
   "execution_count": null,
   "metadata": {},
   "outputs": [],
   "source": [
    "from ACLIB.utils import Euclid, rand\n",
    "def pollard_rho(n):\n",
    "    '''Implements the Pollard's rho heuristics and (possibly)\n",
    "       returns a non-trivial divisor of n.\n",
    "       Strictly follows the description in \n",
    "       Cormen et al. Introduction to Algorithms, Third ed. \n",
    "    '''\n",
    "    i,j = 2,1\n",
    "    xprec = rand(n)  # xprec = x_1\n",
    "    y = xprec        # Salvataggio del primo valore\n",
    "    while True:\n",
    "        j += 1\n",
    "        x = (xprec*xprec - 1)%n            # calcolo iterata successiva\n",
    "        if (p:=Euclid(y-x,n))!=1 and p!=n:\n",
    "            return p\n",
    "        if j==i:\n",
    "            y = x\n",
    "            i *= 2\n",
    "        xprec = x"
   ]
  },
  {
   "cell_type": "code",
   "execution_count": null,
   "metadata": {},
   "outputs": [],
   "source": [
    "n = (1097**5)*12983*(397**2); n"
   ]
  },
  {
   "cell_type": "code",
   "execution_count": null,
   "metadata": {
    "scrolled": true
   },
   "outputs": [],
   "source": [
    "m = pollard_rho(n); m"
   ]
  },
  {
   "cell_type": "code",
   "execution_count": null,
   "metadata": {},
   "outputs": [],
   "source": [
    "n //= m; n"
   ]
  },
  {
   "cell_type": "code",
   "execution_count": null,
   "metadata": {},
   "outputs": [],
   "source": [
    "pollard_rho(n)"
   ]
  },
  {
   "cell_type": "code",
   "execution_count": null,
   "metadata": {},
   "outputs": [],
   "source": [
    "n = 13**2*7**6*17**3; n"
   ]
  },
  {
   "cell_type": "code",
   "execution_count": null,
   "metadata": {},
   "outputs": [],
   "source": [
    "pollard_rho(n)"
   ]
  },
  {
   "cell_type": "code",
   "execution_count": null,
   "metadata": {},
   "outputs": [],
   "source": [
    "from ACLIB.utils import getprime"
   ]
  },
  {
   "cell_type": "code",
   "execution_count": null,
   "metadata": {},
   "outputs": [],
   "source": [
    "p = getprime(10**12);p"
   ]
  },
  {
   "cell_type": "code",
   "execution_count": null,
   "metadata": {},
   "outputs": [],
   "source": [
    "q = getprime(10**12);q"
   ]
  },
  {
   "cell_type": "code",
   "execution_count": null,
   "metadata": {},
   "outputs": [],
   "source": [
    "n = p*q; n"
   ]
  },
  {
   "cell_type": "code",
   "execution_count": null,
   "metadata": {},
   "outputs": [],
   "source": [
    "pollard_rho(n)"
   ]
  },
  {
   "cell_type": "markdown",
   "metadata": {},
   "source": [
    "#### <span style=\"color:cyan\">La strategia spiegata</span>\n",
    "\n",
    "* Per ogni possibile fattore $q$ di $n$ esiste una sorta di <span style=\"color:gold\">\"successione ombra\" $\\{z_i\\}_{i\\geq 1}$</span>, ottenuta <span style=\"color:gold\">riducendo modulo $q$</span> ogni termine $x_i$ della successione effettivamente costruita\n",
    "* Naturalmente, non conoscendo i fattori (che sono proprio ciò che andiamo a cercare) noi tali successioni non le conosciamo, ma questo non importa\n",
    "* Ciò che importa sono le proprietà che di esse possiamo postulare e che, come vedremo, <span style=\"color:gold\">dicono qualcosa</span> della successione $\\{x_i\\}_{i\\geq 1}$\n",
    "* Concentriamoci su una tale successione, per un qualche <span style=\"color:gold\">fattore $q$ di $n$</span>\n",
    "* Ciò che possiamo subito dimostrare è che la successione ombra ha la <span style=\"color:gold\">stessa struttura</span> della $\\{x_i\\}_{i\\geq 1}$\n",
    "* Al riguardo, utilizziamo la seguente proprietà, di facile verifica. Per ogni intero $x$, vale\n",
    "$$\n",
    "(x\\mod n)\\mod q = x\\mod q\n",
    "$$\n",
    "qualora <span style=\"color:gold\">$q$ sia un divisore di $n$</span> (basta usare la definizione di resto)"
   ]
  },
  {
   "cell_type": "markdown",
   "metadata": {},
   "source": [
    "* Possiamo in tal caso scrivere:\n",
    "\\begin{eqnarray*}\n",
    "z_{i+1}&=&x_{i+1}\\mod q\\\\\n",
    "&=&((x_i^2-1)\\mod n)\\mod q\\\\\n",
    "&=&(x_i^2-1)\\mod q\\\\\n",
    "&=&((x_i\\mod q)^2-1)\\mod q\\\\\n",
    "&=&(z_i^2-1)\\mod q\n",
    "\\end{eqnarray*}"
   ]
  },
  {
   "cell_type": "markdown",
   "metadata": {},
   "source": [
    "* Ogni passo dell'algoritmo ha quindi una identica controparte nei valori che abbiamo definito \"ombra\". In particolare possiamo affermare che:\n",
    "    1. Nell'ipotesi di comportamento realmente casuale, anche la successione ombra è caratterizzata da una sorta di \"antiperiodo\" (il <span style=\"color:gold\">gambo del $\\rho$</span>) e un periodo (la <span style=\"color:gold\">testa</span>) le cui lunghezze (indicate con $\\lambda$ e $\\sigma$)  soddisfano <span style=\"color:gold\">$\\lambda,\\sigma=O(\\sqrt{q})$</span>\n",
    "    2. Con la strategia di salvare i valori ad intervalli sempre più grandi abbiamo la certezza che, per un certo valore dell'indice $i$, <span style=\"color:gold\">il valore ombra $z_{2^i}$ salvato è dentro la testa del $\\rho$</span>; e ci aspettiamo che risulti $2^i=O(\\sqrt{q})$\n",
    "    3. Sempre per la stessa ragione, per un qualche indice $i$ maggiore o uguale al precedente, la quantità <span style=\"color:gold\">$2^i$ è maggiore $\\sigma$</span> (e dunque, ancora, $2^i=O(\\sqrt{q})$)\n",
    "    4. Questo però implica che esiste $j>2^i, j\\leq 2^{i+1}$ tale che <span style=\"color:gold\">$z_j=z_{2^i}$</span>\n",
    "* A questo punto, però, ricordiamo che $z_i=x_i\\mod q$, per ogni $i$, e dunque, nella successione originale\n",
    "$$\n",
    "x_j \\mod q=x_{2^i}\\mod q\n",
    "$$\n",
    "e quindi che <span style=\"color:gold\">$x_j-x_{2^i}$ è un divisore di $q$ e dunque di $n$</span>\n",
    "* La seguente figura (tratta dal libro <span style=\"color:gold\">Cormen et al. Introduction to Algorithms, Third ed.</span>) illustra la situazione per il particolare <span style=\"color:gold\">valore $n=1387=19\\cdot 73$</span>"
   ]
  },
  {
   "cell_type": "markdown",
   "metadata": {},
   "source": [
    "<center>\n",
    "    <img src=\"pollard_rho.jpg\" width=\"800\">\n",
    "</center>"
   ]
  },
  {
   "cell_type": "code",
   "execution_count": null,
   "metadata": {},
   "outputs": [],
   "source": [
    "(84-814)%73"
   ]
  },
  {
   "cell_type": "code",
   "execution_count": null,
   "metadata": {},
   "outputs": [],
   "source": [
    "# Con riferimento alla successione mod 73\n",
    "(31**2-1)%73 == 11 and 814%73 == 11  # I due modi di ottenere z_8=11"
   ]
  },
  {
   "cell_type": "code",
   "execution_count": null,
   "metadata": {},
   "outputs": [],
   "source": [
    "# Poiché z_8 = z_12, risulta che x_8-x_12 è divisibile per 73\n",
    "Euclid(814-84,1387)"
   ]
  },
  {
   "cell_type": "markdown",
   "metadata": {},
   "source": [
    "#### <span style=\"color:cyan\">Cosa può andare storto?</span>\n",
    "* Potrebbe succedere che i valori di $\\lambda$ e $\\sigma$ per più di una sequenza ombra siano tali che la \"scoperta\" di due iterate identiche avvenga <span style=\"color:gold\">nello stesso istante</span>\n",
    "* Per esemplificare il caso \"meno improbabile\", se $n=p\\cdot q$, con $p$ e $q$ primi, la concomitanza della scoperta fa sì che le corrispondenti iterate $x_j$ e $x_{2^i}$ siano <span style=\"color:gold\">congruenti modulo $p$ e modulo $q$</span>\n",
    "* Poiché $p$ e $q$ sono primi, questo implica che $x_j$ e $x_{2^i}$ sono anche congrui modulo $n$ e dunque che $\\mcd(x_{2^i},x_j)=n$\n",
    "* Questo ovviamente <span style=\"color:gold\">non aiuta</span>\n",
    "* Nel caso di scomposizione $n=p^k$, può \"semplicemente\" succedere che quando $z_{2^i}=z_j$ <span style=\"color:gold\">risulti anche $x_{2^i}=x_j$</span>\n",
    "* Anche in questo caso non viene scoperto nulla"
   ]
  },
  {
   "cell_type": "code",
   "execution_count": null,
   "metadata": {},
   "outputs": [],
   "source": [
    "pollard_rho(7**2)"
   ]
  },
  {
   "cell_type": "code",
   "execution_count": null,
   "metadata": {},
   "outputs": [],
   "source": [
    "pollard_rho(23**3)"
   ]
  },
  {
   "cell_type": "markdown",
   "metadata": {},
   "source": [
    "#### <span style=\"color:cyan\">Efficienza</span>\n",
    "* Avendo ben presente il <span style=\"color:gold\">carattere euristico</span> dell'analisi relativa alla lunghezza di $\\lambda$ e $\\sigma$ per le varie sequenze ombra, è ragionevole attendersi che il numero di operazioni necessarie per trovare <span style=\"color:gold\">il più piccolo fattore primo $p$ di $n$ sia $O(\\sqrt{p})$ </span>\n",
    "* Poiché $p<\\sqrt{n}$, la stima complessiva diviene $O(\\sqrt[4]{n})$ operazioni su numeri di $O(\\log n)$ bit "
   ]
  },
  {
   "cell_type": "markdown",
   "metadata": {},
   "source": [
    "### <span style=\"color:magenta\">Fattorizzazione completa</span>\n",
    "* Possiamo ora utilizzare la funzione pollard_rho per <span style=\"color:gold\">tentare la fattorizzazione completa</span> di $n$\n",
    "* Dobbiamo però prima di tutto decidere <span style=\"color:gold\">come rappresentare le fattorizzazioni</span>"
   ]
  },
  {
   "cell_type": "code",
   "execution_count": null,
   "metadata": {},
   "outputs": [],
   "source": [
    "class primefact(dict):\n",
    "    '''Simple class to represent factorizations'''\n",
    "    def __new__(cls,*args):\n",
    "        return super().__new__(cls,{})\n",
    "    def __init__(self,*args):\n",
    "        assert not len(args)&1, \"Wrong arguments\"\n",
    "        for i in range(0,len(args),2):\n",
    "            self[args[i]]=args[i+1]\n",
    "    def primes(self):\n",
    "        return set(self.keys())\n",
    "    def __repr__(self):\n",
    "        return \" * \".join([str(p) if e==1 else str(p)+\"**\"+str(e) for p,e in self.items()])\n",
    "    def merge(self,other):\n",
    "        for k in self.primes().union(other.primes()):\n",
    "            self[k]=self.get(k,0)+other.get(k,0)"
   ]
  },
  {
   "cell_type": "code",
   "execution_count": null,
   "metadata": {},
   "outputs": [],
   "source": [
    "a = primefact(2,2,3,4);a"
   ]
  },
  {
   "cell_type": "code",
   "execution_count": null,
   "metadata": {},
   "outputs": [],
   "source": [
    "a.primes()"
   ]
  },
  {
   "cell_type": "code",
   "execution_count": null,
   "metadata": {},
   "outputs": [],
   "source": [
    "b = primefact()"
   ]
  },
  {
   "cell_type": "code",
   "execution_count": null,
   "metadata": {},
   "outputs": [],
   "source": [
    "from ACLIB.utils import isPrime, BSGS\n",
    "from math import sqrt\n",
    "def BruteForceFact(n):\n",
    "    '''Computes the prime facorization using brute force.\n",
    "       Use carefully for small (and odd) values of n \n",
    "    '''\n",
    "    assert n&1, \"n must be odd\"\n",
    "    F = primefact()\n",
    "    while n>1 and not isPrime(n):\n",
    "        for i in range(3,int(sqrt(n))+1,2):\n",
    "            if n%i==0:\n",
    "                F.merge(primefact(i,1))\n",
    "                n=n//i\n",
    "                break\n",
    "    if n>1:\n",
    "        F.merge(primefact(n,1))\n",
    "    return F\n",
    "\n",
    "def factorize(n,nmax=10**6):\n",
    "    '''Return the prime factorization of n'''\n",
    "    def fact(n):\n",
    "        '''Inner function that actually does the heavy job.\n",
    "           Uses brute force for small n and Pollard's rho heuristics otherwise.\n",
    "           Not guaranteed to terminate, since pollard_rho \n",
    "           does not halt occasionally\n",
    "        '''\n",
    "        if n<=nmax:\n",
    "            return BruteForceFact(n)\n",
    "        elif isPrime(n):\n",
    "            return primefact(n,1)\n",
    "        f = pollard_rho(n)\n",
    "        F = fact(f)\n",
    "        F.merge(fact(n//f))\n",
    "        return F\n",
    "    # We first deal with the case n=p 2^q and compute q (p is odd)\n",
    "    i = 0\n",
    "    while not n&1:\n",
    "        i += 1\n",
    "        n = (n>>1) \n",
    "    if i==0:\n",
    "        d = primefact()\n",
    "    else:\n",
    "        d = primefact(2,i)\n",
    "    # What remains is p\n",
    "    if n != 1:\n",
    "        d.merge(fact(n))\n",
    "    return d"
   ]
  },
  {
   "cell_type": "code",
   "execution_count": null,
   "metadata": {},
   "outputs": [],
   "source": [
    "n = 17**4*31**3*59; n"
   ]
  },
  {
   "cell_type": "code",
   "execution_count": null,
   "metadata": {},
   "outputs": [],
   "source": [
    "factorize(n)"
   ]
  },
  {
   "cell_type": "code",
   "execution_count": null,
   "metadata": {},
   "outputs": [],
   "source": [
    "n=1387; factorize(n)"
   ]
  },
  {
   "cell_type": "code",
   "execution_count": null,
   "metadata": {},
   "outputs": [],
   "source": [
    "n = 8965*10001**2; n"
   ]
  },
  {
   "cell_type": "code",
   "execution_count": null,
   "metadata": {},
   "outputs": [],
   "source": [
    "f=factorize(n); f"
   ]
  },
  {
   "cell_type": "code",
   "execution_count": null,
   "metadata": {},
   "outputs": [],
   "source": [
    "eval(str(f))"
   ]
  },
  {
   "cell_type": "code",
   "execution_count": null,
   "metadata": {},
   "outputs": [],
   "source": []
  }
 ],
 "metadata": {
  "kernelspec": {
   "display_name": "Python 3 (ipykernel)",
   "language": "python",
   "name": "python3"
  },
  "language_info": {
   "codemirror_mode": {
    "name": "ipython",
    "version": 3
   },
   "file_extension": ".py",
   "mimetype": "text/x-python",
   "name": "python",
   "nbconvert_exporter": "python",
   "pygments_lexer": "ipython3",
   "version": "3.11.5"
  }
 },
 "nbformat": 4,
 "nbformat_minor": 4
}
